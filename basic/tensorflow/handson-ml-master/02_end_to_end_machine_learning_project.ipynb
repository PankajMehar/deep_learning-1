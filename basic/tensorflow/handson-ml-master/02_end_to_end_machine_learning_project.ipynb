{
 "cells": [
  {
   "cell_type": "markdown",
   "metadata": {},
   "source": [
    "**Chapter 2 – End-to-end Machine Learning project**\n",
    "\n",
    "*Welcome to Machine Learning Housing Corp.! Your task is to predict median house values in Californian districts, given a number of features from these districts.*\n",
    "\n",
    "*This notebook contains all the sample code and solutions to the exercices in chapter 2.*"
   ]
  },
  {
   "cell_type": "markdown",
   "metadata": {},
   "source": [
    "**Note**: You may find little differences between the code outputs in the book and in these Jupyter notebooks: these slight differences are mostly due to the random nature of many training algorithms: although I have tried to make these notebooks' outputs as constant as possible, it is impossible to guarantee that they will produce the exact same output on every platform. Also, some data structures (such as dictionaries) do not preserve the item order. Finally, I fixed a few minor bugs (I added notes next to the concerned cells) which lead to slightly different results, without changing the ideas presented in the book."
   ]
  },
  {
   "cell_type": "markdown",
   "metadata": {},
   "source": [
    "# Setup"
   ]
  },
  {
   "cell_type": "markdown",
   "metadata": {},
   "source": [
    "First, let's make sure this notebook works well in both python 2 and 3, import a few common modules, ensure MatplotLib plots figures inline and prepare a function to save the figures:"
   ]
  },
  {
   "cell_type": "code",
   "execution_count": 1,
   "metadata": {
    "collapsed": true
   },
   "outputs": [],
   "source": [
    "# To support both python 2 and python 3\n",
    "from __future__ import division, print_function, unicode_literals\n",
    "\n",
    "# Common imports\n",
    "import numpy as np\n",
    "import os\n",
    "\n",
    "# to make this notebook's output stable across runs\n",
    "np.random.seed(42)\n",
    "\n",
    "# To plot pretty figures\n",
    "%matplotlib inline\n",
    "import matplotlib\n",
    "import matplotlib.pyplot as plt\n",
    "plt.rcParams['axes.labelsize'] = 14\n",
    "plt.rcParams['xtick.labelsize'] = 12\n",
    "plt.rcParams['ytick.labelsize'] = 12\n",
    "\n",
    "# Where to save the figures\n",
    "PROJECT_ROOT_DIR = \".\"\n",
    "CHAPTER_ID = \"end_to_end_project\"\n",
    "IMAGES_PATH = os.path.join(PROJECT_ROOT_DIR, \"images\", CHAPTER_ID)\n",
    "\n",
    "def save_fig(fig_id, tight_layout=True, fig_extension=\"png\", resolution=300):\n",
    "    path = os.path.join(IMAGES_PATH, fig_id + \".\" + fig_extension)\n",
    "    print(\"Saving figure\", fig_id)\n",
    "    if tight_layout:\n",
    "        plt.tight_layout()\n",
    "    plt.savefig(path, format=fig_extension, dpi=resolution)"
   ]
  },
  {
   "cell_type": "markdown",
   "metadata": {},
   "source": [
    "# Get the data"
   ]
  },
  {
   "cell_type": "code",
   "execution_count": 2,
   "metadata": {
    "collapsed": true
   },
   "outputs": [],
   "source": [
    "import os\n",
    "import tarfile\n",
    "from six.moves import urllib\n",
    "\n",
    "DOWNLOAD_ROOT = \"https://raw.githubusercontent.com/ageron/handson-ml/master/\"\n",
    "HOUSING_PATH = os.path.join(\"datasets\", \"housing\")\n",
    "HOUSING_URL = DOWNLOAD_ROOT + \"datasets/housing/housing.tgz\"\n",
    "\n",
    "def fetch_housing_data(housing_url=HOUSING_URL, housing_path=HOUSING_PATH):\n",
    "    if not os.path.isdir(housing_path):\n",
    "        os.makedirs(housing_path)\n",
    "    tgz_path = os.path.join(housing_path, \"housing.tgz\")\n",
    "    urllib.request.urlretrieve(housing_url, tgz_path)\n",
    "    housing_tgz = tarfile.open(tgz_path)\n",
    "    housing_tgz.extractall(path=housing_path)\n",
    "    housing_tgz.close()"
   ]
  },
  {
   "cell_type": "code",
   "execution_count": 3,
   "metadata": {
    "collapsed": true
   },
   "outputs": [],
   "source": [
    "fetch_housing_data()"
   ]
  },
  {
   "cell_type": "code",
   "execution_count": 4,
   "metadata": {
    "collapsed": true
   },
   "outputs": [],
   "source": [
    "import pandas as pd\n",
    "\n",
    "def load_housing_data(housing_path=HOUSING_PATH):\n",
    "    csv_path = os.path.join(housing_path, \"housing.csv\")\n",
    "    return pd.read_csv(csv_path)"
   ]
  },
  {
   "cell_type": "code",
   "execution_count": 5,
   "metadata": {
    "collapsed": false
   },
   "outputs": [
    {
     "data": {
      "text/html": [
       "<div>\n",
       "<table border=\"1\" class=\"dataframe\">\n",
       "  <thead>\n",
       "    <tr style=\"text-align: right;\">\n",
       "      <th></th>\n",
       "      <th>longitude</th>\n",
       "      <th>latitude</th>\n",
       "      <th>housing_median_age</th>\n",
       "      <th>total_rooms</th>\n",
       "      <th>total_bedrooms</th>\n",
       "      <th>population</th>\n",
       "      <th>households</th>\n",
       "      <th>median_income</th>\n",
       "      <th>median_house_value</th>\n",
       "      <th>ocean_proximity</th>\n",
       "    </tr>\n",
       "  </thead>\n",
       "  <tbody>\n",
       "    <tr>\n",
       "      <th>0</th>\n",
       "      <td>-122.23</td>\n",
       "      <td>37.88</td>\n",
       "      <td>41.0</td>\n",
       "      <td>880.0</td>\n",
       "      <td>129.0</td>\n",
       "      <td>322.0</td>\n",
       "      <td>126.0</td>\n",
       "      <td>8.3252</td>\n",
       "      <td>452600.0</td>\n",
       "      <td>NEAR BAY</td>\n",
       "    </tr>\n",
       "    <tr>\n",
       "      <th>1</th>\n",
       "      <td>-122.22</td>\n",
       "      <td>37.86</td>\n",
       "      <td>21.0</td>\n",
       "      <td>7099.0</td>\n",
       "      <td>1106.0</td>\n",
       "      <td>2401.0</td>\n",
       "      <td>1138.0</td>\n",
       "      <td>8.3014</td>\n",
       "      <td>358500.0</td>\n",
       "      <td>NEAR BAY</td>\n",
       "    </tr>\n",
       "    <tr>\n",
       "      <th>2</th>\n",
       "      <td>-122.24</td>\n",
       "      <td>37.85</td>\n",
       "      <td>52.0</td>\n",
       "      <td>1467.0</td>\n",
       "      <td>190.0</td>\n",
       "      <td>496.0</td>\n",
       "      <td>177.0</td>\n",
       "      <td>7.2574</td>\n",
       "      <td>352100.0</td>\n",
       "      <td>NEAR BAY</td>\n",
       "    </tr>\n",
       "    <tr>\n",
       "      <th>3</th>\n",
       "      <td>-122.25</td>\n",
       "      <td>37.85</td>\n",
       "      <td>52.0</td>\n",
       "      <td>1274.0</td>\n",
       "      <td>235.0</td>\n",
       "      <td>558.0</td>\n",
       "      <td>219.0</td>\n",
       "      <td>5.6431</td>\n",
       "      <td>341300.0</td>\n",
       "      <td>NEAR BAY</td>\n",
       "    </tr>\n",
       "    <tr>\n",
       "      <th>4</th>\n",
       "      <td>-122.25</td>\n",
       "      <td>37.85</td>\n",
       "      <td>52.0</td>\n",
       "      <td>1627.0</td>\n",
       "      <td>280.0</td>\n",
       "      <td>565.0</td>\n",
       "      <td>259.0</td>\n",
       "      <td>3.8462</td>\n",
       "      <td>342200.0</td>\n",
       "      <td>NEAR BAY</td>\n",
       "    </tr>\n",
       "  </tbody>\n",
       "</table>\n",
       "</div>"
      ],
      "text/plain": [
       "   longitude  latitude  housing_median_age  total_rooms  total_bedrooms  \\\n",
       "0    -122.23     37.88                41.0        880.0           129.0   \n",
       "1    -122.22     37.86                21.0       7099.0          1106.0   \n",
       "2    -122.24     37.85                52.0       1467.0           190.0   \n",
       "3    -122.25     37.85                52.0       1274.0           235.0   \n",
       "4    -122.25     37.85                52.0       1627.0           280.0   \n",
       "\n",
       "   population  households  median_income  median_house_value ocean_proximity  \n",
       "0       322.0       126.0         8.3252            452600.0        NEAR BAY  \n",
       "1      2401.0      1138.0         8.3014            358500.0        NEAR BAY  \n",
       "2       496.0       177.0         7.2574            352100.0        NEAR BAY  \n",
       "3       558.0       219.0         5.6431            341300.0        NEAR BAY  \n",
       "4       565.0       259.0         3.8462            342200.0        NEAR BAY  "
      ]
     },
     "execution_count": 5,
     "metadata": {},
     "output_type": "execute_result"
    }
   ],
   "source": [
    "housing = load_housing_data()\n",
    "housing.head()"
   ]
  },
  {
   "cell_type": "code",
   "execution_count": 6,
   "metadata": {
    "collapsed": false
   },
   "outputs": [
    {
     "name": "stdout",
     "output_type": "stream",
     "text": [
      "<class 'pandas.core.frame.DataFrame'>\n",
      "RangeIndex: 20640 entries, 0 to 20639\n",
      "Data columns (total 10 columns):\n",
      "longitude             20640 non-null float64\n",
      "latitude              20640 non-null float64\n",
      "housing_median_age    20640 non-null float64\n",
      "total_rooms           20640 non-null float64\n",
      "total_bedrooms        20433 non-null float64\n",
      "population            20640 non-null float64\n",
      "households            20640 non-null float64\n",
      "median_income         20640 non-null float64\n",
      "median_house_value    20640 non-null float64\n",
      "ocean_proximity       20640 non-null object\n",
      "dtypes: float64(9), object(1)\n",
      "memory usage: 1.6+ MB\n"
     ]
    }
   ],
   "source": [
    "housing.info()"
   ]
  },
  {
   "cell_type": "code",
   "execution_count": 7,
   "metadata": {
    "collapsed": false
   },
   "outputs": [
    {
     "data": {
      "text/plain": [
       "<1H OCEAN     9136\n",
       "INLAND        6551\n",
       "NEAR OCEAN    2658\n",
       "NEAR BAY      2290\n",
       "ISLAND           5\n",
       "Name: ocean_proximity, dtype: int64"
      ]
     },
     "execution_count": 7,
     "metadata": {},
     "output_type": "execute_result"
    }
   ],
   "source": [
    "housing[\"ocean_proximity\"].value_counts()"
   ]
  },
  {
   "cell_type": "code",
   "execution_count": 8,
   "metadata": {
    "collapsed": false
   },
   "outputs": [
    {
     "name": "stderr",
     "output_type": "stream",
     "text": [
      "/home/weiwu/.virtualenvs/data_analysis/local/lib/python2.7/site-packages/numpy/lib/function_base.py:3834: RuntimeWarning: Invalid value encountered in percentile\n",
      "  RuntimeWarning)\n"
     ]
    },
    {
     "data": {
      "text/html": [
       "<div>\n",
       "<table border=\"1\" class=\"dataframe\">\n",
       "  <thead>\n",
       "    <tr style=\"text-align: right;\">\n",
       "      <th></th>\n",
       "      <th>longitude</th>\n",
       "      <th>latitude</th>\n",
       "      <th>housing_median_age</th>\n",
       "      <th>total_rooms</th>\n",
       "      <th>total_bedrooms</th>\n",
       "      <th>population</th>\n",
       "      <th>households</th>\n",
       "      <th>median_income</th>\n",
       "      <th>median_house_value</th>\n",
       "    </tr>\n",
       "  </thead>\n",
       "  <tbody>\n",
       "    <tr>\n",
       "      <th>count</th>\n",
       "      <td>20640.000000</td>\n",
       "      <td>20640.000000</td>\n",
       "      <td>20640.000000</td>\n",
       "      <td>20640.000000</td>\n",
       "      <td>20433.000000</td>\n",
       "      <td>20640.000000</td>\n",
       "      <td>20640.000000</td>\n",
       "      <td>20640.000000</td>\n",
       "      <td>20640.000000</td>\n",
       "    </tr>\n",
       "    <tr>\n",
       "      <th>mean</th>\n",
       "      <td>-119.569704</td>\n",
       "      <td>35.631861</td>\n",
       "      <td>28.639486</td>\n",
       "      <td>2635.763081</td>\n",
       "      <td>537.870553</td>\n",
       "      <td>1425.476744</td>\n",
       "      <td>499.539680</td>\n",
       "      <td>3.870671</td>\n",
       "      <td>206855.816909</td>\n",
       "    </tr>\n",
       "    <tr>\n",
       "      <th>std</th>\n",
       "      <td>2.003532</td>\n",
       "      <td>2.135952</td>\n",
       "      <td>12.585558</td>\n",
       "      <td>2181.615252</td>\n",
       "      <td>421.385070</td>\n",
       "      <td>1132.462122</td>\n",
       "      <td>382.329753</td>\n",
       "      <td>1.899822</td>\n",
       "      <td>115395.615874</td>\n",
       "    </tr>\n",
       "    <tr>\n",
       "      <th>min</th>\n",
       "      <td>-124.350000</td>\n",
       "      <td>32.540000</td>\n",
       "      <td>1.000000</td>\n",
       "      <td>2.000000</td>\n",
       "      <td>1.000000</td>\n",
       "      <td>3.000000</td>\n",
       "      <td>1.000000</td>\n",
       "      <td>0.499900</td>\n",
       "      <td>14999.000000</td>\n",
       "    </tr>\n",
       "    <tr>\n",
       "      <th>25%</th>\n",
       "      <td>-121.800000</td>\n",
       "      <td>33.930000</td>\n",
       "      <td>18.000000</td>\n",
       "      <td>1447.750000</td>\n",
       "      <td>NaN</td>\n",
       "      <td>787.000000</td>\n",
       "      <td>280.000000</td>\n",
       "      <td>2.563400</td>\n",
       "      <td>119600.000000</td>\n",
       "    </tr>\n",
       "    <tr>\n",
       "      <th>50%</th>\n",
       "      <td>-118.490000</td>\n",
       "      <td>34.260000</td>\n",
       "      <td>29.000000</td>\n",
       "      <td>2127.000000</td>\n",
       "      <td>NaN</td>\n",
       "      <td>1166.000000</td>\n",
       "      <td>409.000000</td>\n",
       "      <td>3.534800</td>\n",
       "      <td>179700.000000</td>\n",
       "    </tr>\n",
       "    <tr>\n",
       "      <th>75%</th>\n",
       "      <td>-118.010000</td>\n",
       "      <td>37.710000</td>\n",
       "      <td>37.000000</td>\n",
       "      <td>3148.000000</td>\n",
       "      <td>NaN</td>\n",
       "      <td>1725.000000</td>\n",
       "      <td>605.000000</td>\n",
       "      <td>4.743250</td>\n",
       "      <td>264725.000000</td>\n",
       "    </tr>\n",
       "    <tr>\n",
       "      <th>max</th>\n",
       "      <td>-114.310000</td>\n",
       "      <td>41.950000</td>\n",
       "      <td>52.000000</td>\n",
       "      <td>39320.000000</td>\n",
       "      <td>6445.000000</td>\n",
       "      <td>35682.000000</td>\n",
       "      <td>6082.000000</td>\n",
       "      <td>15.000100</td>\n",
       "      <td>500001.000000</td>\n",
       "    </tr>\n",
       "  </tbody>\n",
       "</table>\n",
       "</div>"
      ],
      "text/plain": [
       "          longitude      latitude  housing_median_age   total_rooms  \\\n",
       "count  20640.000000  20640.000000        20640.000000  20640.000000   \n",
       "mean    -119.569704     35.631861           28.639486   2635.763081   \n",
       "std        2.003532      2.135952           12.585558   2181.615252   \n",
       "min     -124.350000     32.540000            1.000000      2.000000   \n",
       "25%     -121.800000     33.930000           18.000000   1447.750000   \n",
       "50%     -118.490000     34.260000           29.000000   2127.000000   \n",
       "75%     -118.010000     37.710000           37.000000   3148.000000   \n",
       "max     -114.310000     41.950000           52.000000  39320.000000   \n",
       "\n",
       "       total_bedrooms    population    households  median_income  \\\n",
       "count    20433.000000  20640.000000  20640.000000   20640.000000   \n",
       "mean       537.870553   1425.476744    499.539680       3.870671   \n",
       "std        421.385070   1132.462122    382.329753       1.899822   \n",
       "min          1.000000      3.000000      1.000000       0.499900   \n",
       "25%               NaN    787.000000    280.000000       2.563400   \n",
       "50%               NaN   1166.000000    409.000000       3.534800   \n",
       "75%               NaN   1725.000000    605.000000       4.743250   \n",
       "max       6445.000000  35682.000000   6082.000000      15.000100   \n",
       "\n",
       "       median_house_value  \n",
       "count        20640.000000  \n",
       "mean        206855.816909  \n",
       "std         115395.615874  \n",
       "min          14999.000000  \n",
       "25%         119600.000000  \n",
       "50%         179700.000000  \n",
       "75%         264725.000000  \n",
       "max         500001.000000  "
      ]
     },
     "execution_count": 8,
     "metadata": {},
     "output_type": "execute_result"
    }
   ],
   "source": [
    "housing.describe()"
   ]
  },
  {
   "cell_type": "code",
   "execution_count": 9,
   "metadata": {
    "collapsed": false
   },
   "outputs": [
    {
     "name": "stdout",
     "output_type": "stream",
     "text": [
      "Saving figure attribute_histogram_plots\n"
     ]
    },
    {
     "data": {
      "image/png": "[encoded data removed]",
      "text/plain": [
       "<matplotlib.figure.Figure at 0x7ff50106d990>"
      ]
     },
     "metadata": {},
     "output_type": "display_data"
    }
   ],
   "source": [
    "%matplotlib inline\n",
    "import matplotlib.pyplot as plt\n",
    "housing.hist(bins=50, figsize=(20,15))\n",
    "save_fig(\"attribute_histogram_plots\")\n",
    "plt.show()"
   ]
  },
  {
   "cell_type": "code",
   "execution_count": 10,
   "metadata": {
    "collapsed": true
   },
   "outputs": [],
   "source": [
    "# to make this notebook's output identical at every run\n",
    "np.random.seed(42)"
   ]
  },
  {
   "cell_type": "code",
   "execution_count": 11,
   "metadata": {
    "collapsed": true
   },
   "outputs": [],
   "source": [
    "import numpy as np\n",
    "\n",
    "# For illustration only. Sklearn has train_test_split()\n",
    "def split_train_test(data, test_ratio):\n",
    "    shuffled_indices = np.random.permutation(len(data))\n",
    "    test_set_size = int(len(data) * test_ratio)\n",
    "    test_indices = shuffled_indices[:test_set_size]\n",
    "    train_indices = shuffled_indices[test_set_size:]\n",
    "    return data.iloc[train_indices], data.iloc[test_indices]"
   ]
  },
  {
   "cell_type": "code",
   "execution_count": 12,
   "metadata": {
    "collapsed": false
   },
   "outputs": [
    {
     "name": "stdout",
     "output_type": "stream",
     "text": [
      "16512 train + 4128 test\n"
     ]
    }
   ],
   "source": [
    "train_set, test_set = split_train_test(housing, 0.2)\n",
    "print(len(train_set), \"train +\", len(test_set), \"test\")"
   ]
  },
  {
   "cell_type": "code",
   "execution_count": 13,
   "metadata": {
    "collapsed": true
   },
   "outputs": [],
   "source": [
    "import hashlib\n",
    "\n",
    "def test_set_check(identifier, test_ratio, hash):\n",
    "    return hash(np.int64(identifier)).digest()[-1] < 256 * test_ratio\n",
    "\n",
    "def split_train_test_by_id(data, test_ratio, id_column, hash=hashlib.md5):\n",
    "    ids = data[id_column]\n",
    "    in_test_set = ids.apply(lambda id_: test_set_check(id_, test_ratio, hash))\n",
    "    return data.loc[~in_test_set], data.loc[in_test_set]"
   ]
  },
  {
   "cell_type": "code",
   "execution_count": 14,
   "metadata": {
    "collapsed": true
   },
   "outputs": [],
   "source": [
    "# This version supports both Python 2 and Python 3, instead of just Python 3.\n",
    "def test_set_check(identifier, test_ratio, hash):\n",
    "    return bytearray(hash(np.int64(identifier)).digest())[-1] < 256 * test_ratio"
   ]
  },
  {
   "cell_type": "code",
   "execution_count": 15,
   "metadata": {
    "collapsed": true
   },
   "outputs": [],
   "source": [
    "housing_with_id = housing.reset_index()   # adds an `index` column\n",
    "train_set, test_set = split_train_test_by_id(housing_with_id, 0.2, \"index\")"
   ]
  },
  {
   "cell_type": "code",
   "execution_count": 16,
   "metadata": {
    "collapsed": true
   },
   "outputs": [],
   "source": [
    "housing_with_id[\"id\"] = housing[\"longitude\"] * 1000 + housing[\"latitude\"]\n",
    "train_set, test_set = split_train_test_by_id(housing_with_id, 0.2, \"id\")"
   ]
  },
  {
   "cell_type": "code",
   "execution_count": 17,
   "metadata": {
    "collapsed": false
   },
   "outputs": [
    {
     "data": {
      "text/html": [
       "<div>\n",
       "<table border=\"1\" class=\"dataframe\">\n",
       "  <thead>\n",
       "    <tr style=\"text-align: right;\">\n",
       "      <th></th>\n",
       "      <th>index</th>\n",
       "      <th>longitude</th>\n",
       "      <th>latitude</th>\n",
       "      <th>housing_median_age</th>\n",
       "      <th>total_rooms</th>\n",
       "      <th>total_bedrooms</th>\n",
       "      <th>population</th>\n",
       "      <th>households</th>\n",
       "      <th>median_income</th>\n",
       "      <th>median_house_value</th>\n",
       "      <th>ocean_proximity</th>\n",
       "      <th>id</th>\n",
       "    </tr>\n",
       "  </thead>\n",
       "  <tbody>\n",
       "    <tr>\n",
       "      <th>8</th>\n",
       "      <td>8</td>\n",
       "      <td>-122.26</td>\n",
       "      <td>37.84</td>\n",
       "      <td>42.0</td>\n",
       "      <td>2555.0</td>\n",
       "      <td>665.0</td>\n",
       "      <td>1206.0</td>\n",
       "      <td>595.0</td>\n",
       "      <td>2.0804</td>\n",
       "      <td>226700.0</td>\n",
       "      <td>NEAR BAY</td>\n",
       "      <td>-122222.16</td>\n",
       "    </tr>\n",
       "    <tr>\n",
       "      <th>10</th>\n",
       "      <td>10</td>\n",
       "      <td>-122.26</td>\n",
       "      <td>37.85</td>\n",
       "      <td>52.0</td>\n",
       "      <td>2202.0</td>\n",
       "      <td>434.0</td>\n",
       "      <td>910.0</td>\n",
       "      <td>402.0</td>\n",
       "      <td>3.2031</td>\n",
       "      <td>281500.0</td>\n",
       "      <td>NEAR BAY</td>\n",
       "      <td>-122222.15</td>\n",
       "    </tr>\n",
       "    <tr>\n",
       "      <th>11</th>\n",
       "      <td>11</td>\n",
       "      <td>-122.26</td>\n",
       "      <td>37.85</td>\n",
       "      <td>52.0</td>\n",
       "      <td>3503.0</td>\n",
       "      <td>752.0</td>\n",
       "      <td>1504.0</td>\n",
       "      <td>734.0</td>\n",
       "      <td>3.2705</td>\n",
       "      <td>241800.0</td>\n",
       "      <td>NEAR BAY</td>\n",
       "      <td>-122222.15</td>\n",
       "    </tr>\n",
       "    <tr>\n",
       "      <th>12</th>\n",
       "      <td>12</td>\n",
       "      <td>-122.26</td>\n",
       "      <td>37.85</td>\n",
       "      <td>52.0</td>\n",
       "      <td>2491.0</td>\n",
       "      <td>474.0</td>\n",
       "      <td>1098.0</td>\n",
       "      <td>468.0</td>\n",
       "      <td>3.0750</td>\n",
       "      <td>213500.0</td>\n",
       "      <td>NEAR BAY</td>\n",
       "      <td>-122222.15</td>\n",
       "    </tr>\n",
       "    <tr>\n",
       "      <th>13</th>\n",
       "      <td>13</td>\n",
       "      <td>-122.26</td>\n",
       "      <td>37.84</td>\n",
       "      <td>52.0</td>\n",
       "      <td>696.0</td>\n",
       "      <td>191.0</td>\n",
       "      <td>345.0</td>\n",
       "      <td>174.0</td>\n",
       "      <td>2.6736</td>\n",
       "      <td>191300.0</td>\n",
       "      <td>NEAR BAY</td>\n",
       "      <td>-122222.16</td>\n",
       "    </tr>\n",
       "  </tbody>\n",
       "</table>\n",
       "</div>"
      ],
      "text/plain": [
       "    index  longitude  latitude  housing_median_age  total_rooms  \\\n",
       "8       8    -122.26     37.84                42.0       2555.0   \n",
       "10     10    -122.26     37.85                52.0       2202.0   \n",
       "11     11    -122.26     37.85                52.0       3503.0   \n",
       "12     12    -122.26     37.85                52.0       2491.0   \n",
       "13     13    -122.26     37.84                52.0        696.0   \n",
       "\n",
       "    total_bedrooms  population  households  median_income  median_house_value  \\\n",
       "8            665.0      1206.0       595.0         2.0804            226700.0   \n",
       "10           434.0       910.0       402.0         3.2031            281500.0   \n",
       "11           752.0      1504.0       734.0         3.2705            241800.0   \n",
       "12           474.0      1098.0       468.0         3.0750            213500.0   \n",
       "13           191.0       345.0       174.0         2.6736            191300.0   \n",
       "\n",
       "   ocean_proximity         id  \n",
       "8         NEAR BAY -122222.16  \n",
       "10        NEAR BAY -122222.15  \n",
       "11        NEAR BAY -122222.15  \n",
       "12        NEAR BAY -122222.15  \n",
       "13        NEAR BAY -122222.16  "
      ]
     },
     "execution_count": 17,
     "metadata": {},
     "output_type": "execute_result"
    }
   ],
   "source": [
    "test_set.head()"
   ]
  },
  {
   "cell_type": "code",
   "execution_count": 18,
   "metadata": {
    "collapsed": true
   },
   "outputs": [],
   "source": [
    "from sklearn.model_selection import train_test_split\n",
    "\n",
    "train_set, test_set = train_test_split(housing, test_size=0.2, random_state=42)"
   ]
  },
  {
   "cell_type": "code",
   "execution_count": 19,
   "metadata": {
    "collapsed": false
   },
   "outputs": [
    {
     "data": {
      "text/html": [
       "<div>\n",
       "<table border=\"1\" class=\"dataframe\">\n",
       "  <thead>\n",
       "    <tr style=\"text-align: right;\">\n",
       "      <th></th>\n",
       "      <th>longitude</th>\n",
       "      <th>latitude</th>\n",
       "      <th>housing_median_age</th>\n",
       "      <th>total_rooms</th>\n",
       "      <th>total_bedrooms</th>\n",
       "      <th>population</th>\n",
       "      <th>households</th>\n",
       "      <th>median_income</th>\n",
       "      <th>median_house_value</th>\n",
       "      <th>ocean_proximity</th>\n",
       "    </tr>\n",
       "  </thead>\n",
       "  <tbody>\n",
       "    <tr>\n",
       "      <th>20046</th>\n",
       "      <td>-119.01</td>\n",
       "      <td>36.06</td>\n",
       "      <td>25.0</td>\n",
       "      <td>1505.0</td>\n",
       "      <td>NaN</td>\n",
       "      <td>1392.0</td>\n",
       "      <td>359.0</td>\n",
       "      <td>1.6812</td>\n",
       "      <td>47700.0</td>\n",
       "      <td>INLAND</td>\n",
       "    </tr>\n",
       "    <tr>\n",
       "      <th>3024</th>\n",
       "      <td>-119.46</td>\n",
       "      <td>35.14</td>\n",
       "      <td>30.0</td>\n",
       "      <td>2943.0</td>\n",
       "      <td>NaN</td>\n",
       "      <td>1565.0</td>\n",
       "      <td>584.0</td>\n",
       "      <td>2.5313</td>\n",
       "      <td>45800.0</td>\n",
       "      <td>INLAND</td>\n",
       "    </tr>\n",
       "    <tr>\n",
       "      <th>15663</th>\n",
       "      <td>-122.44</td>\n",
       "      <td>37.80</td>\n",
       "      <td>52.0</td>\n",
       "      <td>3830.0</td>\n",
       "      <td>NaN</td>\n",
       "      <td>1310.0</td>\n",
       "      <td>963.0</td>\n",
       "      <td>3.4801</td>\n",
       "      <td>500001.0</td>\n",
       "      <td>NEAR BAY</td>\n",
       "    </tr>\n",
       "    <tr>\n",
       "      <th>20484</th>\n",
       "      <td>-118.72</td>\n",
       "      <td>34.28</td>\n",
       "      <td>17.0</td>\n",
       "      <td>3051.0</td>\n",
       "      <td>NaN</td>\n",
       "      <td>1705.0</td>\n",
       "      <td>495.0</td>\n",
       "      <td>5.7376</td>\n",
       "      <td>218600.0</td>\n",
       "      <td>&lt;1H OCEAN</td>\n",
       "    </tr>\n",
       "    <tr>\n",
       "      <th>9814</th>\n",
       "      <td>-121.93</td>\n",
       "      <td>36.62</td>\n",
       "      <td>34.0</td>\n",
       "      <td>2351.0</td>\n",
       "      <td>NaN</td>\n",
       "      <td>1063.0</td>\n",
       "      <td>428.0</td>\n",
       "      <td>3.7250</td>\n",
       "      <td>278000.0</td>\n",
       "      <td>NEAR OCEAN</td>\n",
       "    </tr>\n",
       "  </tbody>\n",
       "</table>\n",
       "</div>"
      ],
      "text/plain": [
       "       longitude  latitude  housing_median_age  total_rooms  total_bedrooms  \\\n",
       "20046    -119.01     36.06                25.0       1505.0             NaN   \n",
       "3024     -119.46     35.14                30.0       2943.0             NaN   \n",
       "15663    -122.44     37.80                52.0       3830.0             NaN   \n",
       "20484    -118.72     34.28                17.0       3051.0             NaN   \n",
       "9814     -121.93     36.62                34.0       2351.0             NaN   \n",
       "\n",
       "       population  households  median_income  median_house_value  \\\n",
       "20046      1392.0       359.0         1.6812             47700.0   \n",
       "3024       1565.0       584.0         2.5313             45800.0   \n",
       "15663      1310.0       963.0         3.4801            500001.0   \n",
       "20484      1705.0       495.0         5.7376            218600.0   \n",
       "9814       1063.0       428.0         3.7250            278000.0   \n",
       "\n",
       "      ocean_proximity  \n",
       "20046          INLAND  \n",
       "3024           INLAND  \n",
       "15663        NEAR BAY  \n",
       "20484       <1H OCEAN  \n",
       "9814       NEAR OCEAN  "
      ]
     },
     "execution_count": 19,
     "metadata": {},
     "output_type": "execute_result"
    }
   ],
   "source": [
    "test_set.head()"
   ]
  },
  {
   "cell_type": "code",
   "execution_count": 20,
   "metadata": {
    "collapsed": false
   },
   "outputs": [
    {
     "data": {
      "text/plain": [
       "<matplotlib.axes._subplots.AxesSubplot at 0x7ff4fe876210>"
      ]
     },
     "execution_count": 20,
     "metadata": {},
     "output_type": "execute_result"
    },
    {
     "data": {
      "image/png": "[encoded data removed]",
      "text/plain": [
       "<matplotlib.figure.Figure at 0x7ff4eff81550>"
      ]
     },
     "metadata": {},
     "output_type": "display_data"
    }
   ],
   "source": [
    "housing[\"median_income\"].hist()"
   ]
  },
  {
   "cell_type": "code",
   "execution_count": 21,
   "metadata": {
    "collapsed": true
   },
   "outputs": [],
   "source": [
    "# Divide by 1.5 to limit the number of income categories\n",
    "housing[\"income_cat\"] = np.ceil(housing[\"median_income\"] / 1.5)\n",
    "# Label those above 5 as 5\n",
    "housing[\"income_cat\"].where(housing[\"income_cat\"] < 5, 5.0, inplace=True)"
   ]
  },
  {
   "cell_type": "code",
   "execution_count": 22,
   "metadata": {
    "collapsed": false
   },
   "outputs": [
    {
     "data": {
      "text/plain": [
       "3.0    7236\n",
       "2.0    6581\n",
       "4.0    3639\n",
       "5.0    2362\n",
       "1.0     822\n",
       "Name: income_cat, dtype: int64"
      ]
     },
     "execution_count": 22,
     "metadata": {},
     "output_type": "execute_result"
    }
   ],
   "source": [
    "housing[\"income_cat\"].value_counts()"
   ]
  },
  {
   "cell_type": "code",
   "execution_count": 23,
   "metadata": {
    "collapsed": false
   },
   "outputs": [
    {
     "data": {
      "text/plain": [
       "<matplotlib.axes._subplots.AxesSubplot at 0x7ff4fe996e50>"
      ]
     },
     "execution_count": 23,
     "metadata": {},
     "output_type": "execute_result"
    },
    {
     "data": {
      "image/png": "[encoded data removed]",
      "text/plain": [
       "<matplotlib.figure.Figure at 0x7ff4efedafd0>"
      ]
     },
     "metadata": {},
     "output_type": "display_data"
    }
   ],
   "source": [
    "housing[\"income_cat\"].hist()"
   ]
  },
  {
   "cell_type": "code",
   "execution_count": 24,
   "metadata": {
    "collapsed": true
   },
   "outputs": [],
   "source": [
    "from sklearn.model_selection import StratifiedShuffleSplit\n",
    "\n",
    "split = StratifiedShuffleSplit(n_splits=1, test_size=0.2, random_state=42)\n",
    "for train_index, test_index in split.split(housing, housing[\"income_cat\"]):\n",
    "    strat_train_set = housing.loc[train_index]\n",
    "    strat_test_set = housing.loc[test_index]"
   ]
  },
  {
   "cell_type": "code",
   "execution_count": 25,
   "metadata": {
    "collapsed": false
   },
   "outputs": [
    {
     "data": {
      "text/plain": [
       "3.0    0.350533\n",
       "2.0    0.318798\n",
       "4.0    0.176357\n",
       "5.0    0.114583\n",
       "1.0    0.039729\n",
       "Name: income_cat, dtype: float64"
      ]
     },
     "execution_count": 25,
     "metadata": {},
     "output_type": "execute_result"
    }
   ],
   "source": [
    "strat_test_set[\"income_cat\"].value_counts() / len(strat_test_set)"
   ]
  },
  {
   "cell_type": "code",
   "execution_count": 26,
   "metadata": {
    "collapsed": false
   },
   "outputs": [
    {
     "data": {
      "text/plain": [
       "3.0    0.350581\n",
       "2.0    0.318847\n",
       "4.0    0.176308\n",
       "5.0    0.114438\n",
       "1.0    0.039826\n",
       "Name: income_cat, dtype: float64"
      ]
     },
     "execution_count": 26,
     "metadata": {},
     "output_type": "execute_result"
    }
   ],
   "source": [
    "housing[\"income_cat\"].value_counts() / len(housing)"
   ]
  },
  {
   "cell_type": "code",
   "execution_count": 27,
   "metadata": {
    "collapsed": true
   },
   "outputs": [],
   "source": [
    "def income_cat_proportions(data):\n",
    "    return data[\"income_cat\"].value_counts() / len(data)\n",
    "\n",
    "train_set, test_set = train_test_split(housing, test_size=0.2, random_state=42)\n",
    "\n",
    "compare_props = pd.DataFrame({\n",
    "    \"Overall\": income_cat_proportions(housing),\n",
    "    \"Stratified\": income_cat_proportions(strat_test_set),\n",
    "    \"Random\": income_cat_proportions(test_set),\n",
    "}).sort_index()\n",
    "compare_props[\"Rand. %error\"] = 100 * compare_props[\"Random\"] / compare_props[\"Overall\"] - 100\n",
    "compare_props[\"Strat. %error\"] = 100 * compare_props[\"Stratified\"] / compare_props[\"Overall\"] - 100"
   ]
  },
  {
   "cell_type": "code",
   "execution_count": 28,
   "metadata": {
    "collapsed": false
   },
   "outputs": [
    {
     "data": {
      "text/html": [
       "<div>\n",
       "<table border=\"1\" class=\"dataframe\">\n",
       "  <thead>\n",
       "    <tr style=\"text-align: right;\">\n",
       "      <th></th>\n",
       "      <th>Overall</th>\n",
       "      <th>Random</th>\n",
       "      <th>Stratified</th>\n",
       "      <th>Rand. %error</th>\n",
       "      <th>Strat. %error</th>\n",
       "    </tr>\n",
       "  </thead>\n",
       "  <tbody>\n",
       "    <tr>\n",
       "      <th>1.0</th>\n",
       "      <td>0.039826</td>\n",
       "      <td>0.040213</td>\n",
       "      <td>0.039729</td>\n",
       "      <td>0.973236</td>\n",
       "      <td>-0.243309</td>\n",
       "    </tr>\n",
       "    <tr>\n",
       "      <th>2.0</th>\n",
       "      <td>0.318847</td>\n",
       "      <td>0.324370</td>\n",
       "      <td>0.318798</td>\n",
       "      <td>1.732260</td>\n",
       "      <td>-0.015195</td>\n",
       "    </tr>\n",
       "    <tr>\n",
       "      <th>3.0</th>\n",
       "      <td>0.350581</td>\n",
       "      <td>0.358527</td>\n",
       "      <td>0.350533</td>\n",
       "      <td>2.266446</td>\n",
       "      <td>-0.013820</td>\n",
       "    </tr>\n",
       "    <tr>\n",
       "      <th>4.0</th>\n",
       "      <td>0.176308</td>\n",
       "      <td>0.167393</td>\n",
       "      <td>0.176357</td>\n",
       "      <td>-5.056334</td>\n",
       "      <td>0.027480</td>\n",
       "    </tr>\n",
       "    <tr>\n",
       "      <th>5.0</th>\n",
       "      <td>0.114438</td>\n",
       "      <td>0.109496</td>\n",
       "      <td>0.114583</td>\n",
       "      <td>-4.318374</td>\n",
       "      <td>0.127011</td>\n",
       "    </tr>\n",
       "  </tbody>\n",
       "</table>\n",
       "</div>"
      ],
      "text/plain": [
       "      Overall    Random  Stratified  Rand. %error  Strat. %error\n",
       "1.0  0.039826  0.040213    0.039729      0.973236      -0.243309\n",
       "2.0  0.318847  0.324370    0.318798      1.732260      -0.015195\n",
       "3.0  0.350581  0.358527    0.350533      2.266446      -0.013820\n",
       "4.0  0.176308  0.167393    0.176357     -5.056334       0.027480\n",
       "5.0  0.114438  0.109496    0.114583     -4.318374       0.127011"
      ]
     },
     "execution_count": 28,
     "metadata": {},
     "output_type": "execute_result"
    }
   ],
   "source": [
    "compare_props"
   ]
  },
  {
   "cell_type": "code",
   "execution_count": 29,
   "metadata": {
    "collapsed": true
   },
   "outputs": [],
   "source": [
    "for set_ in (strat_train_set, strat_test_set):\n",
    "    set_.drop(\"income_cat\", axis=1, inplace=True)"
   ]
  },
  {
   "cell_type": "markdown",
   "metadata": {},
   "source": [
    "# Discover and visualize the data to gain insights"
   ]
  },
  {
   "cell_type": "code",
   "execution_count": 30,
   "metadata": {
    "collapsed": true
   },
   "outputs": [],
   "source": [
    "housing = strat_train_set.copy()"
   ]
  },
  {
   "cell_type": "code",
   "execution_count": 31,
   "metadata": {
    "collapsed": false
   },
   "outputs": [
    {
     "name": "stdout",
     "output_type": "stream",
     "text": [
      "Saving figure bad_visualization_plot\n"
     ]
    },
    {
     "data": {
      "image/png": "[encoded data removed]",
      "text/plain": [
       "<matplotlib.figure.Figure at 0x7ff4eff93b50>"
      ]
     },
     "metadata": {},
     "output_type": "display_data"
    }
   ],
   "source": [
    "housing.plot(kind=\"scatter\", x=\"longitude\", y=\"latitude\")\n",
    "save_fig(\"bad_visualization_plot\")"
   ]
  },
  {
   "cell_type": "code",
   "execution_count": 32,
   "metadata": {
    "collapsed": false
   },
   "outputs": [
    {
     "name": "stdout",
     "output_type": "stream",
     "text": [
      "Saving figure better_visualization_plot\n"
     ]
    },
    {
     "data": {
      "image/png": "[encoded data removed]",
      "text/plain": [
       "<matplotlib.figure.Figure at 0x7ff4fe85b110>"
      ]
     },
     "metadata": {},
     "output_type": "display_data"
    }
   ],
   "source": [
    "housing.plot(kind=\"scatter\", x=\"longitude\", y=\"latitude\", alpha=0.1)\n",
    "save_fig(\"better_visualization_plot\")"
   ]
  },
  {
   "cell_type": "markdown",
   "metadata": {},
   "source": [
    "The argument `sharex=False` fixes a display bug (the x-axis values and legend were not displayed). This is a temporary fix (see: https://github.com/pandas-dev/pandas/issues/10611). Thanks to Wilmer Arellano for pointing it out."
   ]
  },
  {
   "cell_type": "code",
   "execution_count": 33,
   "metadata": {
    "collapsed": false
   },
   "outputs": [
    {
     "name": "stdout",
     "output_type": "stream",
     "text": [
      "Saving figure housing_prices_scatterplot\n"
     ]
    },
    {
     "data": {
      "image/png": "[encoded data removed]",
      "text/plain": [
       "<matplotlib.figure.Figure at 0x7ff4efb1a1d0>"
      ]
     },
     "metadata": {},
     "output_type": "display_data"
    }
   ],
   "source": [
    "housing.plot(kind=\"scatter\", x=\"longitude\", y=\"latitude\", alpha=0.4,\n",
    "    s=housing[\"population\"]/100, label=\"population\", figsize=(10,7),\n",
    "    c=\"median_house_value\", cmap=plt.get_cmap(\"jet\"), colorbar=True,\n",
    "    sharex=False)\n",
    "plt.legend()\n",
    "save_fig(\"housing_prices_scatterplot\")"
   ]
  },
  {
   "cell_type": "code",
   "execution_count": 34,
   "metadata": {
    "collapsed": false
   },
   "outputs": [
    {
     "ename": "IOError",
     "evalue": "[Errno 2] No such file or directory: u'./images/end_to_end_project/california.png'",
     "output_type": "error",
     "traceback": [
      "\u001b[1;31m---------------------------------------------------------------------------\u001b[0m",
      "\u001b[1;31mIOError\u001b[0m                                   Traceback (most recent call last)",
      "\u001b[1;32m<ipython-input-34-538dcad8c728>\u001b[0m in \u001b[0;36m<module>\u001b[1;34m()\u001b[0m\n\u001b[0;32m      1\u001b[0m \u001b[1;32mimport\u001b[0m \u001b[0mmatplotlib\u001b[0m\u001b[1;33m.\u001b[0m\u001b[0mimage\u001b[0m \u001b[1;32mas\u001b[0m \u001b[0mmpimg\u001b[0m\u001b[1;33m\u001b[0m\u001b[0m\n\u001b[1;32m----> 2\u001b[1;33m \u001b[0mcalifornia_img\u001b[0m\u001b[1;33m=\u001b[0m\u001b[0mmpimg\u001b[0m\u001b[1;33m.\u001b[0m\u001b[0mimread\u001b[0m\u001b[1;33m(\u001b[0m\u001b[0mPROJECT_ROOT_DIR\u001b[0m \u001b[1;33m+\u001b[0m \u001b[1;34m'/images/end_to_end_project/california.png'\u001b[0m\u001b[1;33m)\u001b[0m\u001b[1;33m\u001b[0m\u001b[0m\n\u001b[0m\u001b[0;32m      3\u001b[0m ax = housing.plot(kind=\"scatter\", x=\"longitude\", y=\"latitude\", figsize=(10,7),\n\u001b[0;32m      4\u001b[0m                        \u001b[0ms\u001b[0m\u001b[1;33m=\u001b[0m\u001b[0mhousing\u001b[0m\u001b[1;33m[\u001b[0m\u001b[1;34m'population'\u001b[0m\u001b[1;33m]\u001b[0m\u001b[1;33m/\u001b[0m\u001b[1;36m100\u001b[0m\u001b[1;33m,\u001b[0m \u001b[0mlabel\u001b[0m\u001b[1;33m=\u001b[0m\u001b[1;34m\"Population\"\u001b[0m\u001b[1;33m,\u001b[0m\u001b[1;33m\u001b[0m\u001b[0m\n\u001b[0;32m      5\u001b[0m                        \u001b[0mc\u001b[0m\u001b[1;33m=\u001b[0m\u001b[1;34m\"median_house_value\"\u001b[0m\u001b[1;33m,\u001b[0m \u001b[0mcmap\u001b[0m\u001b[1;33m=\u001b[0m\u001b[0mplt\u001b[0m\u001b[1;33m.\u001b[0m\u001b[0mget_cmap\u001b[0m\u001b[1;33m(\u001b[0m\u001b[1;34m\"jet\"\u001b[0m\u001b[1;33m)\u001b[0m\u001b[1;33m,\u001b[0m\u001b[1;33m\u001b[0m\u001b[0m\n",
      "\u001b[1;32m/home/weiwu/.virtualenvs/data_analysis/local/lib/python2.7/site-packages/matplotlib/image.pyc\u001b[0m in \u001b[0;36mimread\u001b[1;34m(fname, format)\u001b[0m\n\u001b[0;32m   1321\u001b[0m             \u001b[1;32mreturn\u001b[0m \u001b[0mhandler\u001b[0m\u001b[1;33m(\u001b[0m\u001b[0mfd\u001b[0m\u001b[1;33m)\u001b[0m\u001b[1;33m\u001b[0m\u001b[0m\n\u001b[0;32m   1322\u001b[0m         \u001b[1;32melse\u001b[0m\u001b[1;33m:\u001b[0m\u001b[1;33m\u001b[0m\u001b[0m\n\u001b[1;32m-> 1323\u001b[1;33m             \u001b[1;32mwith\u001b[0m \u001b[0mopen\u001b[0m\u001b[1;33m(\u001b[0m\u001b[0mfname\u001b[0m\u001b[1;33m,\u001b[0m \u001b[1;34m'rb'\u001b[0m\u001b[1;33m)\u001b[0m \u001b[1;32mas\u001b[0m \u001b[0mfd\u001b[0m\u001b[1;33m:\u001b[0m\u001b[1;33m\u001b[0m\u001b[0m\n\u001b[0m\u001b[0;32m   1324\u001b[0m                 \u001b[1;32mreturn\u001b[0m \u001b[0mhandler\u001b[0m\u001b[1;33m(\u001b[0m\u001b[0mfd\u001b[0m\u001b[1;33m)\u001b[0m\u001b[1;33m\u001b[0m\u001b[0m\n\u001b[0;32m   1325\u001b[0m     \u001b[1;32melse\u001b[0m\u001b[1;33m:\u001b[0m\u001b[1;33m\u001b[0m\u001b[0m\n",
      "\u001b[1;31mIOError\u001b[0m: [Errno 2] No such file or directory: u'./images/end_to_end_project/california.png'"
     ]
    }
   ],
   "source": [
    "import matplotlib.image as mpimg\n",
    "california_img=mpimg.imread(PROJECT_ROOT_DIR + '/images/end_to_end_project/california.png')\n",
    "ax = housing.plot(kind=\"scatter\", x=\"longitude\", y=\"latitude\", figsize=(10,7),\n",
    "                       s=housing['population']/100, label=\"Population\",\n",
    "                       c=\"median_house_value\", cmap=plt.get_cmap(\"jet\"),\n",
    "                       colorbar=False, alpha=0.4,\n",
    "                      )\n",
    "plt.imshow(california_img, extent=[-124.55, -113.80, 32.45, 42.05], alpha=0.5)\n",
    "plt.ylabel(\"Latitude\", fontsize=14)\n",
    "plt.xlabel(\"Longitude\", fontsize=14)\n",
    "\n",
    "prices = housing[\"median_house_value\"]\n",
    "tick_values = np.linspace(prices.min(), prices.max(), 11)\n",
    "cbar = plt.colorbar()\n",
    "cbar.ax.set_yticklabels([\"$%dk\"%(round(v/1000)) for v in tick_values], fontsize=14)\n",
    "cbar.set_label('Median House Value', fontsize=16)\n",
    "\n",
    "plt.legend(fontsize=16)\n",
    "save_fig(\"california_housing_prices_plot\")\n",
    "plt.show()"
   ]
  },
  {
   "cell_type": "code",
   "execution_count": 35,
   "metadata": {
    "collapsed": true
   },
   "outputs": [],
   "source": [
    "corr_matrix = housing.corr()"
   ]
  },
  {
   "cell_type": "code",
   "execution_count": 36,
   "metadata": {
    "collapsed": false
   },
   "outputs": [
    {
     "data": {
      "text/plain": [
       "median_house_value    1.000000\n",
       "median_income         0.687160\n",
       "total_rooms           0.135097\n",
       "housing_median_age    0.114110\n",
       "households            0.064506\n",
       "total_bedrooms        0.047689\n",
       "population           -0.026920\n",
       "longitude            -0.047432\n",
       "latitude             -0.142724\n",
       "Name: median_house_value, dtype: float64"
      ]
     },
     "execution_count": 36,
     "metadata": {},
     "output_type": "execute_result"
    }
   ],
   "source": [
    "corr_matrix[\"median_house_value\"].sort_values(ascending=False)"
   ]
  },
  {
   "cell_type": "code",
   "execution_count": 37,
   "metadata": {
    "collapsed": false
   },
   "outputs": [
    {
     "ename": "ImportError",
     "evalue": "No module named plotting",
     "output_type": "error",
     "traceback": [
      "\u001b[1;31m---------------------------------------------------------------------------\u001b[0m",
      "\u001b[1;31mImportError\u001b[0m                               Traceback (most recent call last)",
      "\u001b[1;32m<ipython-input-37-e98f497ad8f5>\u001b[0m in \u001b[0;36m<module>\u001b[1;34m()\u001b[0m\n\u001b[0;32m      1\u001b[0m \u001b[1;31m# from pandas.tools.plotting import scatter_matrix # For older versions of Pandas\u001b[0m\u001b[1;33m\u001b[0m\u001b[1;33m\u001b[0m\u001b[0m\n\u001b[1;32m----> 2\u001b[1;33m \u001b[1;32mfrom\u001b[0m \u001b[0mpandas\u001b[0m\u001b[1;33m.\u001b[0m\u001b[0mplotting\u001b[0m \u001b[1;32mimport\u001b[0m \u001b[0mscatter_matrix\u001b[0m\u001b[1;33m\u001b[0m\u001b[0m\n\u001b[0m\u001b[0;32m      3\u001b[0m \u001b[1;33m\u001b[0m\u001b[0m\n\u001b[0;32m      4\u001b[0m attributes = [\"median_house_value\", \"median_income\", \"total_rooms\",\n\u001b[0;32m      5\u001b[0m               \"housing_median_age\"]\n",
      "\u001b[1;31mImportError\u001b[0m: No module named plotting"
     ]
    }
   ],
   "source": [
    "# from pandas.tools.plotting import scatter_matrix # For older versions of Pandas\n",
    "from pandas.plotting import scatter_matrix\n",
    "\n",
    "attributes = [\"median_house_value\", \"median_income\", \"total_rooms\",\n",
    "              \"housing_median_age\"]\n",
    "scatter_matrix(housing[attributes], figsize=(12, 8))\n",
    "save_fig(\"scatter_matrix_plot\")"
   ]
  },
  {
   "cell_type": "code",
   "execution_count": 38,
   "metadata": {
    "collapsed": false
   },
   "outputs": [
    {
     "name": "stdout",
     "output_type": "stream",
     "text": [
      "Saving figure income_vs_house_value_scatterplot\n"
     ]
    },
    {
     "data": {
      "image/png": "[encoded data removed]",
      "text/plain": [
       "<matplotlib.figure.Figure at 0x7ff4efefff10>"
      ]
     },
     "metadata": {},
     "output_type": "display_data"
    }
   ],
   "source": [
    "housing.plot(kind=\"scatter\", x=\"median_income\", y=\"median_house_value\",\n",
    "             alpha=0.1)\n",
    "plt.axis([0, 16, 0, 550000])\n",
    "save_fig(\"income_vs_house_value_scatterplot\")"
   ]
  },
  {
   "cell_type": "code",
   "execution_count": 39,
   "metadata": {
    "collapsed": true
   },
   "outputs": [],
   "source": [
    "housing[\"rooms_per_household\"] = housing[\"total_rooms\"]/housing[\"households\"]\n",
    "housing[\"bedrooms_per_room\"] = housing[\"total_bedrooms\"]/housing[\"total_rooms\"]\n",
    "housing[\"population_per_household\"]=housing[\"population\"]/housing[\"households\"]"
   ]
  },
  {
   "cell_type": "markdown",
   "metadata": {},
   "source": [
    "Note: there was a bug in the previous cell, in the definition of the `rooms_per_household` attribute. This explains why the correlation value below differs slightly from the value in the book (unless you are reading the latest version)."
   ]
  },
  {
   "cell_type": "code",
   "execution_count": 40,
   "metadata": {
    "collapsed": false
   },
   "outputs": [
    {
     "data": {
      "text/plain": [
       "median_house_value          1.000000\n",
       "median_income               0.687160\n",
       "rooms_per_household         0.146285\n",
       "total_rooms                 0.135097\n",
       "housing_median_age          0.114110\n",
       "households                  0.064506\n",
       "total_bedrooms              0.047689\n",
       "population_per_household   -0.021985\n",
       "population                 -0.026920\n",
       "longitude                  -0.047432\n",
       "latitude                   -0.142724\n",
       "bedrooms_per_room          -0.259984\n",
       "Name: median_house_value, dtype: float64"
      ]
     },
     "execution_count": 40,
     "metadata": {},
     "output_type": "execute_result"
    }
   ],
   "source": [
    "corr_matrix = housing.corr()\n",
    "corr_matrix[\"median_house_value\"].sort_values(ascending=False)"
   ]
  },
  {
   "cell_type": "code",
   "execution_count": 41,
   "metadata": {
    "collapsed": false
   },
   "outputs": [
    {
     "data": {
      "image/png": "[encoded data removed]",
      "text/plain": [
       "<matplotlib.figure.Figure at 0x7f26c3f10b00>"
      ]
     },
     "metadata": {},
     "output_type": "display_data"
    }
   ],
   "source": [
    "housing.plot(kind=\"scatter\", x=\"rooms_per_household\", y=\"median_house_value\",\n",
    "             alpha=0.2)\n",
    "plt.axis([0, 5, 0, 520000])\n",
    "plt.show()"
   ]
  },
  {
   "cell_type": "code",
   "execution_count": 42,
   "metadata": {
    "collapsed": false
   },
   "outputs": [
    {
     "data": {
      "text/html": [
       "<div>\n",
       "<style>\n",
       "    .dataframe thead tr:only-child th {\n",
       "        text-align: right;\n",
       "    }\n",
       "\n",
       "    .dataframe thead th {\n",
       "        text-align: left;\n",
       "    }\n",
       "\n",
       "    .dataframe tbody tr th {\n",
       "        vertical-align: top;\n",
       "    }\n",
       "</style>\n",
       "<table border=\"1\" class=\"dataframe\">\n",
       "  <thead>\n",
       "    <tr style=\"text-align: right;\">\n",
       "      <th></th>\n",
       "      <th>longitude</th>\n",
       "      <th>latitude</th>\n",
       "      <th>housing_median_age</th>\n",
       "      <th>total_rooms</th>\n",
       "      <th>total_bedrooms</th>\n",
       "      <th>population</th>\n",
       "      <th>households</th>\n",
       "      <th>median_income</th>\n",
       "      <th>median_house_value</th>\n",
       "      <th>rooms_per_household</th>\n",
       "      <th>bedrooms_per_room</th>\n",
       "      <th>population_per_household</th>\n",
       "    </tr>\n",
       "  </thead>\n",
       "  <tbody>\n",
       "    <tr>\n",
       "      <th>count</th>\n",
       "      <td>16512.000000</td>\n",
       "      <td>16512.000000</td>\n",
       "      <td>16512.000000</td>\n",
       "      <td>16512.000000</td>\n",
       "      <td>16354.000000</td>\n",
       "      <td>16512.000000</td>\n",
       "      <td>16512.000000</td>\n",
       "      <td>16512.000000</td>\n",
       "      <td>16512.000000</td>\n",
       "      <td>16512.000000</td>\n",
       "      <td>16354.000000</td>\n",
       "      <td>16512.000000</td>\n",
       "    </tr>\n",
       "    <tr>\n",
       "      <th>mean</th>\n",
       "      <td>-119.575834</td>\n",
       "      <td>35.639577</td>\n",
       "      <td>28.653101</td>\n",
       "      <td>2622.728319</td>\n",
       "      <td>534.973890</td>\n",
       "      <td>1419.790819</td>\n",
       "      <td>497.060380</td>\n",
       "      <td>3.875589</td>\n",
       "      <td>206990.920724</td>\n",
       "      <td>5.440341</td>\n",
       "      <td>0.212878</td>\n",
       "      <td>3.096437</td>\n",
       "    </tr>\n",
       "    <tr>\n",
       "      <th>std</th>\n",
       "      <td>2.001860</td>\n",
       "      <td>2.138058</td>\n",
       "      <td>12.574726</td>\n",
       "      <td>2138.458419</td>\n",
       "      <td>412.699041</td>\n",
       "      <td>1115.686241</td>\n",
       "      <td>375.720845</td>\n",
       "      <td>1.904950</td>\n",
       "      <td>115703.014830</td>\n",
       "      <td>2.611712</td>\n",
       "      <td>0.057379</td>\n",
       "      <td>11.584826</td>\n",
       "    </tr>\n",
       "    <tr>\n",
       "      <th>min</th>\n",
       "      <td>-124.350000</td>\n",
       "      <td>32.540000</td>\n",
       "      <td>1.000000</td>\n",
       "      <td>6.000000</td>\n",
       "      <td>2.000000</td>\n",
       "      <td>3.000000</td>\n",
       "      <td>2.000000</td>\n",
       "      <td>0.499900</td>\n",
       "      <td>14999.000000</td>\n",
       "      <td>1.130435</td>\n",
       "      <td>0.100000</td>\n",
       "      <td>0.692308</td>\n",
       "    </tr>\n",
       "    <tr>\n",
       "      <th>25%</th>\n",
       "      <td>-121.800000</td>\n",
       "      <td>33.940000</td>\n",
       "      <td>18.000000</td>\n",
       "      <td>1443.000000</td>\n",
       "      <td>295.000000</td>\n",
       "      <td>784.000000</td>\n",
       "      <td>279.000000</td>\n",
       "      <td>2.566775</td>\n",
       "      <td>119800.000000</td>\n",
       "      <td>4.442040</td>\n",
       "      <td>0.175304</td>\n",
       "      <td>2.431287</td>\n",
       "    </tr>\n",
       "    <tr>\n",
       "      <th>50%</th>\n",
       "      <td>-118.510000</td>\n",
       "      <td>34.260000</td>\n",
       "      <td>29.000000</td>\n",
       "      <td>2119.500000</td>\n",
       "      <td>433.000000</td>\n",
       "      <td>1164.000000</td>\n",
       "      <td>408.000000</td>\n",
       "      <td>3.540900</td>\n",
       "      <td>179500.000000</td>\n",
       "      <td>5.232284</td>\n",
       "      <td>0.203031</td>\n",
       "      <td>2.817653</td>\n",
       "    </tr>\n",
       "    <tr>\n",
       "      <th>75%</th>\n",
       "      <td>-118.010000</td>\n",
       "      <td>37.720000</td>\n",
       "      <td>37.000000</td>\n",
       "      <td>3141.000000</td>\n",
       "      <td>644.000000</td>\n",
       "      <td>1719.250000</td>\n",
       "      <td>602.000000</td>\n",
       "      <td>4.744475</td>\n",
       "      <td>263900.000000</td>\n",
       "      <td>6.056361</td>\n",
       "      <td>0.239831</td>\n",
       "      <td>3.281420</td>\n",
       "    </tr>\n",
       "    <tr>\n",
       "      <th>max</th>\n",
       "      <td>-114.310000</td>\n",
       "      <td>41.950000</td>\n",
       "      <td>52.000000</td>\n",
       "      <td>39320.000000</td>\n",
       "      <td>6210.000000</td>\n",
       "      <td>35682.000000</td>\n",
       "      <td>5358.000000</td>\n",
       "      <td>15.000100</td>\n",
       "      <td>500001.000000</td>\n",
       "      <td>141.909091</td>\n",
       "      <td>1.000000</td>\n",
       "      <td>1243.333333</td>\n",
       "    </tr>\n",
       "  </tbody>\n",
       "</table>\n",
       "</div>"
      ],
      "text/plain": [
       "          longitude      latitude  housing_median_age   total_rooms  \\\n",
       "count  16512.000000  16512.000000        16512.000000  16512.000000   \n",
       "mean    -119.575834     35.639577           28.653101   2622.728319   \n",
       "std        2.001860      2.138058           12.574726   2138.458419   \n",
       "min     -124.350000     32.540000            1.000000      6.000000   \n",
       "25%     -121.800000     33.940000           18.000000   1443.000000   \n",
       "50%     -118.510000     34.260000           29.000000   2119.500000   \n",
       "75%     -118.010000     37.720000           37.000000   3141.000000   \n",
       "max     -114.310000     41.950000           52.000000  39320.000000   \n",
       "\n",
       "       total_bedrooms    population    households  median_income  \\\n",
       "count    16354.000000  16512.000000  16512.000000   16512.000000   \n",
       "mean       534.973890   1419.790819    497.060380       3.875589   \n",
       "std        412.699041   1115.686241    375.720845       1.904950   \n",
       "min          2.000000      3.000000      2.000000       0.499900   \n",
       "25%        295.000000    784.000000    279.000000       2.566775   \n",
       "50%        433.000000   1164.000000    408.000000       3.540900   \n",
       "75%        644.000000   1719.250000    602.000000       4.744475   \n",
       "max       6210.000000  35682.000000   5358.000000      15.000100   \n",
       "\n",
       "       median_house_value  rooms_per_household  bedrooms_per_room  \\\n",
       "count        16512.000000         16512.000000       16354.000000   \n",
       "mean        206990.920724             5.440341           0.212878   \n",
       "std         115703.014830             2.611712           0.057379   \n",
       "min          14999.000000             1.130435           0.100000   \n",
       "25%         119800.000000             4.442040           0.175304   \n",
       "50%         179500.000000             5.232284           0.203031   \n",
       "75%         263900.000000             6.056361           0.239831   \n",
       "max         500001.000000           141.909091           1.000000   \n",
       "\n",
       "       population_per_household  \n",
       "count              16512.000000  \n",
       "mean                   3.096437  \n",
       "std                   11.584826  \n",
       "min                    0.692308  \n",
       "25%                    2.431287  \n",
       "50%                    2.817653  \n",
       "75%                    3.281420  \n",
       "max                 1243.333333  "
      ]
     },
     "execution_count": 42,
     "metadata": {},
     "output_type": "execute_result"
    }
   ],
   "source": [
    "housing.describe()"
   ]
  },
  {
   "cell_type": "markdown",
   "metadata": {},
   "source": [
    "# Prepare the data for Machine Learning algorithms"
   ]
  },
  {
   "cell_type": "code",
   "execution_count": 43,
   "metadata": {
    "collapsed": true
   },
   "outputs": [],
   "source": [
    "housing = strat_train_set.drop(\"median_house_value\", axis=1) # drop labels for training set\n",
    "housing_labels = strat_train_set[\"median_house_value\"].copy()"
   ]
  },
  {
   "cell_type": "code",
   "execution_count": 44,
   "metadata": {
    "collapsed": false
   },
   "outputs": [
    {
     "data": {
      "text/html": [
       "<div>\n",
       "<style>\n",
       "    .dataframe thead tr:only-child th {\n",
       "        text-align: right;\n",
       "    }\n",
       "\n",
       "    .dataframe thead th {\n",
       "        text-align: left;\n",
       "    }\n",
       "\n",
       "    .dataframe tbody tr th {\n",
       "        vertical-align: top;\n",
       "    }\n",
       "</style>\n",
       "<table border=\"1\" class=\"dataframe\">\n",
       "  <thead>\n",
       "    <tr style=\"text-align: right;\">\n",
       "      <th></th>\n",
       "      <th>longitude</th>\n",
       "      <th>latitude</th>\n",
       "      <th>housing_median_age</th>\n",
       "      <th>total_rooms</th>\n",
       "      <th>total_bedrooms</th>\n",
       "      <th>population</th>\n",
       "      <th>households</th>\n",
       "      <th>median_income</th>\n",
       "      <th>ocean_proximity</th>\n",
       "    </tr>\n",
       "  </thead>\n",
       "  <tbody>\n",
       "    <tr>\n",
       "      <th>4629</th>\n",
       "      <td>-118.30</td>\n",
       "      <td>34.07</td>\n",
       "      <td>18.0</td>\n",
       "      <td>3759.0</td>\n",
       "      <td>NaN</td>\n",
       "      <td>3296.0</td>\n",
       "      <td>1462.0</td>\n",
       "      <td>2.2708</td>\n",
       "      <td>&lt;1H OCEAN</td>\n",
       "    </tr>\n",
       "    <tr>\n",
       "      <th>6068</th>\n",
       "      <td>-117.86</td>\n",
       "      <td>34.01</td>\n",
       "      <td>16.0</td>\n",
       "      <td>4632.0</td>\n",
       "      <td>NaN</td>\n",
       "      <td>3038.0</td>\n",
       "      <td>727.0</td>\n",
       "      <td>5.1762</td>\n",
       "      <td>&lt;1H OCEAN</td>\n",
       "    </tr>\n",
       "    <tr>\n",
       "      <th>17923</th>\n",
       "      <td>-121.97</td>\n",
       "      <td>37.35</td>\n",
       "      <td>30.0</td>\n",
       "      <td>1955.0</td>\n",
       "      <td>NaN</td>\n",
       "      <td>999.0</td>\n",
       "      <td>386.0</td>\n",
       "      <td>4.6328</td>\n",
       "      <td>&lt;1H OCEAN</td>\n",
       "    </tr>\n",
       "    <tr>\n",
       "      <th>13656</th>\n",
       "      <td>-117.30</td>\n",
       "      <td>34.05</td>\n",
       "      <td>6.0</td>\n",
       "      <td>2155.0</td>\n",
       "      <td>NaN</td>\n",
       "      <td>1039.0</td>\n",
       "      <td>391.0</td>\n",
       "      <td>1.6675</td>\n",
       "      <td>INLAND</td>\n",
       "    </tr>\n",
       "    <tr>\n",
       "      <th>19252</th>\n",
       "      <td>-122.79</td>\n",
       "      <td>38.48</td>\n",
       "      <td>7.0</td>\n",
       "      <td>6837.0</td>\n",
       "      <td>NaN</td>\n",
       "      <td>3468.0</td>\n",
       "      <td>1405.0</td>\n",
       "      <td>3.1662</td>\n",
       "      <td>&lt;1H OCEAN</td>\n",
       "    </tr>\n",
       "  </tbody>\n",
       "</table>\n",
       "</div>"
      ],
      "text/plain": [
       "       longitude  latitude  housing_median_age  total_rooms  total_bedrooms  \\\n",
       "4629     -118.30     34.07                18.0       3759.0             NaN   \n",
       "6068     -117.86     34.01                16.0       4632.0             NaN   \n",
       "17923    -121.97     37.35                30.0       1955.0             NaN   \n",
       "13656    -117.30     34.05                 6.0       2155.0             NaN   \n",
       "19252    -122.79     38.48                 7.0       6837.0             NaN   \n",
       "\n",
       "       population  households  median_income ocean_proximity  \n",
       "4629       3296.0      1462.0         2.2708       <1H OCEAN  \n",
       "6068       3038.0       727.0         5.1762       <1H OCEAN  \n",
       "17923       999.0       386.0         4.6328       <1H OCEAN  \n",
       "13656      1039.0       391.0         1.6675          INLAND  \n",
       "19252      3468.0      1405.0         3.1662       <1H OCEAN  "
      ]
     },
     "execution_count": 44,
     "metadata": {},
     "output_type": "execute_result"
    }
   ],
   "source": [
    "sample_incomplete_rows = housing[housing.isnull().any(axis=1)].head()\n",
    "sample_incomplete_rows"
   ]
  },
  {
   "cell_type": "code",
   "execution_count": 45,
   "metadata": {
    "collapsed": false
   },
   "outputs": [
    {
     "data": {
      "text/html": [
       "<div>\n",
       "<style>\n",
       "    .dataframe thead tr:only-child th {\n",
       "        text-align: right;\n",
       "    }\n",
       "\n",
       "    .dataframe thead th {\n",
       "        text-align: left;\n",
       "    }\n",
       "\n",
       "    .dataframe tbody tr th {\n",
       "        vertical-align: top;\n",
       "    }\n",
       "</style>\n",
       "<table border=\"1\" class=\"dataframe\">\n",
       "  <thead>\n",
       "    <tr style=\"text-align: right;\">\n",
       "      <th></th>\n",
       "      <th>longitude</th>\n",
       "      <th>latitude</th>\n",
       "      <th>housing_median_age</th>\n",
       "      <th>total_rooms</th>\n",
       "      <th>total_bedrooms</th>\n",
       "      <th>population</th>\n",
       "      <th>households</th>\n",
       "      <th>median_income</th>\n",
       "      <th>ocean_proximity</th>\n",
       "    </tr>\n",
       "  </thead>\n",
       "  <tbody>\n",
       "  </tbody>\n",
       "</table>\n",
       "</div>"
      ],
      "text/plain": [
       "Empty DataFrame\n",
       "Columns: [longitude, latitude, housing_median_age, total_rooms, total_bedrooms, population, households, median_income, ocean_proximity]\n",
       "Index: []"
      ]
     },
     "execution_count": 45,
     "metadata": {},
     "output_type": "execute_result"
    }
   ],
   "source": [
    "sample_incomplete_rows.dropna(subset=[\"total_bedrooms\"])    # option 1"
   ]
  },
  {
   "cell_type": "code",
   "execution_count": 46,
   "metadata": {
    "collapsed": false
   },
   "outputs": [
    {
     "data": {
      "text/html": [
       "<div>\n",
       "<style>\n",
       "    .dataframe thead tr:only-child th {\n",
       "        text-align: right;\n",
       "    }\n",
       "\n",
       "    .dataframe thead th {\n",
       "        text-align: left;\n",
       "    }\n",
       "\n",
       "    .dataframe tbody tr th {\n",
       "        vertical-align: top;\n",
       "    }\n",
       "</style>\n",
       "<table border=\"1\" class=\"dataframe\">\n",
       "  <thead>\n",
       "    <tr style=\"text-align: right;\">\n",
       "      <th></th>\n",
       "      <th>longitude</th>\n",
       "      <th>latitude</th>\n",
       "      <th>housing_median_age</th>\n",
       "      <th>total_rooms</th>\n",
       "      <th>population</th>\n",
       "      <th>households</th>\n",
       "      <th>median_income</th>\n",
       "      <th>ocean_proximity</th>\n",
       "    </tr>\n",
       "  </thead>\n",
       "  <tbody>\n",
       "    <tr>\n",
       "      <th>4629</th>\n",
       "      <td>-118.30</td>\n",
       "      <td>34.07</td>\n",
       "      <td>18.0</td>\n",
       "      <td>3759.0</td>\n",
       "      <td>3296.0</td>\n",
       "      <td>1462.0</td>\n",
       "      <td>2.2708</td>\n",
       "      <td>&lt;1H OCEAN</td>\n",
       "    </tr>\n",
       "    <tr>\n",
       "      <th>6068</th>\n",
       "      <td>-117.86</td>\n",
       "      <td>34.01</td>\n",
       "      <td>16.0</td>\n",
       "      <td>4632.0</td>\n",
       "      <td>3038.0</td>\n",
       "      <td>727.0</td>\n",
       "      <td>5.1762</td>\n",
       "      <td>&lt;1H OCEAN</td>\n",
       "    </tr>\n",
       "    <tr>\n",
       "      <th>17923</th>\n",
       "      <td>-121.97</td>\n",
       "      <td>37.35</td>\n",
       "      <td>30.0</td>\n",
       "      <td>1955.0</td>\n",
       "      <td>999.0</td>\n",
       "      <td>386.0</td>\n",
       "      <td>4.6328</td>\n",
       "      <td>&lt;1H OCEAN</td>\n",
       "    </tr>\n",
       "    <tr>\n",
       "      <th>13656</th>\n",
       "      <td>-117.30</td>\n",
       "      <td>34.05</td>\n",
       "      <td>6.0</td>\n",
       "      <td>2155.0</td>\n",
       "      <td>1039.0</td>\n",
       "      <td>391.0</td>\n",
       "      <td>1.6675</td>\n",
       "      <td>INLAND</td>\n",
       "    </tr>\n",
       "    <tr>\n",
       "      <th>19252</th>\n",
       "      <td>-122.79</td>\n",
       "      <td>38.48</td>\n",
       "      <td>7.0</td>\n",
       "      <td>6837.0</td>\n",
       "      <td>3468.0</td>\n",
       "      <td>1405.0</td>\n",
       "      <td>3.1662</td>\n",
       "      <td>&lt;1H OCEAN</td>\n",
       "    </tr>\n",
       "  </tbody>\n",
       "</table>\n",
       "</div>"
      ],
      "text/plain": [
       "       longitude  latitude  housing_median_age  total_rooms  population  \\\n",
       "4629     -118.30     34.07                18.0       3759.0      3296.0   \n",
       "6068     -117.86     34.01                16.0       4632.0      3038.0   \n",
       "17923    -121.97     37.35                30.0       1955.0       999.0   \n",
       "13656    -117.30     34.05                 6.0       2155.0      1039.0   \n",
       "19252    -122.79     38.48                 7.0       6837.0      3468.0   \n",
       "\n",
       "       households  median_income ocean_proximity  \n",
       "4629       1462.0         2.2708       <1H OCEAN  \n",
       "6068        727.0         5.1762       <1H OCEAN  \n",
       "17923       386.0         4.6328       <1H OCEAN  \n",
       "13656       391.0         1.6675          INLAND  \n",
       "19252      1405.0         3.1662       <1H OCEAN  "
      ]
     },
     "execution_count": 46,
     "metadata": {},
     "output_type": "execute_result"
    }
   ],
   "source": [
    "sample_incomplete_rows.drop(\"total_bedrooms\", axis=1)       # option 2"
   ]
  },
  {
   "cell_type": "code",
   "execution_count": 47,
   "metadata": {
    "collapsed": false
   },
   "outputs": [
    {
     "data": {
      "text/html": [
       "<div>\n",
       "<style>\n",
       "    .dataframe thead tr:only-child th {\n",
       "        text-align: right;\n",
       "    }\n",
       "\n",
       "    .dataframe thead th {\n",
       "        text-align: left;\n",
       "    }\n",
       "\n",
       "    .dataframe tbody tr th {\n",
       "        vertical-align: top;\n",
       "    }\n",
       "</style>\n",
       "<table border=\"1\" class=\"dataframe\">\n",
       "  <thead>\n",
       "    <tr style=\"text-align: right;\">\n",
       "      <th></th>\n",
       "      <th>longitude</th>\n",
       "      <th>latitude</th>\n",
       "      <th>housing_median_age</th>\n",
       "      <th>total_rooms</th>\n",
       "      <th>total_bedrooms</th>\n",
       "      <th>population</th>\n",
       "      <th>households</th>\n",
       "      <th>median_income</th>\n",
       "      <th>ocean_proximity</th>\n",
       "    </tr>\n",
       "  </thead>\n",
       "  <tbody>\n",
       "    <tr>\n",
       "      <th>4629</th>\n",
       "      <td>-118.30</td>\n",
       "      <td>34.07</td>\n",
       "      <td>18.0</td>\n",
       "      <td>3759.0</td>\n",
       "      <td>433.0</td>\n",
       "      <td>3296.0</td>\n",
       "      <td>1462.0</td>\n",
       "      <td>2.2708</td>\n",
       "      <td>&lt;1H OCEAN</td>\n",
       "    </tr>\n",
       "    <tr>\n",
       "      <th>6068</th>\n",
       "      <td>-117.86</td>\n",
       "      <td>34.01</td>\n",
       "      <td>16.0</td>\n",
       "      <td>4632.0</td>\n",
       "      <td>433.0</td>\n",
       "      <td>3038.0</td>\n",
       "      <td>727.0</td>\n",
       "      <td>5.1762</td>\n",
       "      <td>&lt;1H OCEAN</td>\n",
       "    </tr>\n",
       "    <tr>\n",
       "      <th>17923</th>\n",
       "      <td>-121.97</td>\n",
       "      <td>37.35</td>\n",
       "      <td>30.0</td>\n",
       "      <td>1955.0</td>\n",
       "      <td>433.0</td>\n",
       "      <td>999.0</td>\n",
       "      <td>386.0</td>\n",
       "      <td>4.6328</td>\n",
       "      <td>&lt;1H OCEAN</td>\n",
       "    </tr>\n",
       "    <tr>\n",
       "      <th>13656</th>\n",
       "      <td>-117.30</td>\n",
       "      <td>34.05</td>\n",
       "      <td>6.0</td>\n",
       "      <td>2155.0</td>\n",
       "      <td>433.0</td>\n",
       "      <td>1039.0</td>\n",
       "      <td>391.0</td>\n",
       "      <td>1.6675</td>\n",
       "      <td>INLAND</td>\n",
       "    </tr>\n",
       "    <tr>\n",
       "      <th>19252</th>\n",
       "      <td>-122.79</td>\n",
       "      <td>38.48</td>\n",
       "      <td>7.0</td>\n",
       "      <td>6837.0</td>\n",
       "      <td>433.0</td>\n",
       "      <td>3468.0</td>\n",
       "      <td>1405.0</td>\n",
       "      <td>3.1662</td>\n",
       "      <td>&lt;1H OCEAN</td>\n",
       "    </tr>\n",
       "  </tbody>\n",
       "</table>\n",
       "</div>"
      ],
      "text/plain": [
       "       longitude  latitude  housing_median_age  total_rooms  total_bedrooms  \\\n",
       "4629     -118.30     34.07                18.0       3759.0           433.0   \n",
       "6068     -117.86     34.01                16.0       4632.0           433.0   \n",
       "17923    -121.97     37.35                30.0       1955.0           433.0   \n",
       "13656    -117.30     34.05                 6.0       2155.0           433.0   \n",
       "19252    -122.79     38.48                 7.0       6837.0           433.0   \n",
       "\n",
       "       population  households  median_income ocean_proximity  \n",
       "4629       3296.0      1462.0         2.2708       <1H OCEAN  \n",
       "6068       3038.0       727.0         5.1762       <1H OCEAN  \n",
       "17923       999.0       386.0         4.6328       <1H OCEAN  \n",
       "13656      1039.0       391.0         1.6675          INLAND  \n",
       "19252      3468.0      1405.0         3.1662       <1H OCEAN  "
      ]
     },
     "execution_count": 47,
     "metadata": {},
     "output_type": "execute_result"
    }
   ],
   "source": [
    "median = housing[\"total_bedrooms\"].median()\n",
    "sample_incomplete_rows[\"total_bedrooms\"].fillna(median, inplace=True) # option 3\n",
    "sample_incomplete_rows"
   ]
  },
  {
   "cell_type": "code",
   "execution_count": 48,
   "metadata": {
    "collapsed": true
   },
   "outputs": [],
   "source": [
    "from sklearn.preprocessing import Imputer\n",
    "\n",
    "imputer = Imputer(strategy=\"median\")"
   ]
  },
  {
   "cell_type": "markdown",
   "metadata": {},
   "source": [
    "Remove the text attribute because median can only be calculated on numerical attributes:"
   ]
  },
  {
   "cell_type": "code",
   "execution_count": 49,
   "metadata": {
    "collapsed": true
   },
   "outputs": [],
   "source": [
    "housing_num = housing.drop('ocean_proximity', axis=1)\n",
    "# alternatively: housing_num = housing.select_dtypes(include=[np.number])"
   ]
  },
  {
   "cell_type": "code",
   "execution_count": 50,
   "metadata": {
    "collapsed": false
   },
   "outputs": [
    {
     "data": {
      "text/plain": [
       "Imputer(axis=0, copy=True, missing_values='NaN', strategy='median', verbose=0)"
      ]
     },
     "execution_count": 50,
     "metadata": {},
     "output_type": "execute_result"
    }
   ],
   "source": [
    "imputer.fit(housing_num)"
   ]
  },
  {
   "cell_type": "code",
   "execution_count": 51,
   "metadata": {
    "collapsed": false
   },
   "outputs": [
    {
     "data": {
      "text/plain": [
       "array([ -118.51  ,    34.26  ,    29.    ,  2119.5   ,   433.    ,\n",
       "        1164.    ,   408.    ,     3.5409])"
      ]
     },
     "execution_count": 51,
     "metadata": {},
     "output_type": "execute_result"
    }
   ],
   "source": [
    "imputer.statistics_"
   ]
  },
  {
   "cell_type": "markdown",
   "metadata": {},
   "source": [
    "Check that this is the same as manually computing the median of each attribute:"
   ]
  },
  {
   "cell_type": "code",
   "execution_count": 52,
   "metadata": {
    "collapsed": false
   },
   "outputs": [
    {
     "data": {
      "text/plain": [
       "array([ -118.51  ,    34.26  ,    29.    ,  2119.5   ,   433.    ,\n",
       "        1164.    ,   408.    ,     3.5409])"
      ]
     },
     "execution_count": 52,
     "metadata": {},
     "output_type": "execute_result"
    }
   ],
   "source": [
    "housing_num.median().values"
   ]
  },
  {
   "cell_type": "markdown",
   "metadata": {},
   "source": [
    "Transform the training set:"
   ]
  },
  {
   "cell_type": "code",
   "execution_count": 53,
   "metadata": {
    "collapsed": true
   },
   "outputs": [],
   "source": [
    "X = imputer.transform(housing_num)"
   ]
  },
  {
   "cell_type": "code",
   "execution_count": 54,
   "metadata": {
    "collapsed": true
   },
   "outputs": [],
   "source": [
    "housing_tr = pd.DataFrame(X, columns=housing_num.columns,\n",
    "                          index = list(housing.index.values))"
   ]
  },
  {
   "cell_type": "code",
   "execution_count": 55,
   "metadata": {
    "collapsed": false
   },
   "outputs": [
    {
     "data": {
      "text/html": [
       "<div>\n",
       "<style>\n",
       "    .dataframe thead tr:only-child th {\n",
       "        text-align: right;\n",
       "    }\n",
       "\n",
       "    .dataframe thead th {\n",
       "        text-align: left;\n",
       "    }\n",
       "\n",
       "    .dataframe tbody tr th {\n",
       "        vertical-align: top;\n",
       "    }\n",
       "</style>\n",
       "<table border=\"1\" class=\"dataframe\">\n",
       "  <thead>\n",
       "    <tr style=\"text-align: right;\">\n",
       "      <th></th>\n",
       "      <th>longitude</th>\n",
       "      <th>latitude</th>\n",
       "      <th>housing_median_age</th>\n",
       "      <th>total_rooms</th>\n",
       "      <th>total_bedrooms</th>\n",
       "      <th>population</th>\n",
       "      <th>households</th>\n",
       "      <th>median_income</th>\n",
       "    </tr>\n",
       "  </thead>\n",
       "  <tbody>\n",
       "    <tr>\n",
       "      <th>4629</th>\n",
       "      <td>-118.30</td>\n",
       "      <td>34.07</td>\n",
       "      <td>18.0</td>\n",
       "      <td>3759.0</td>\n",
       "      <td>433.0</td>\n",
       "      <td>3296.0</td>\n",
       "      <td>1462.0</td>\n",
       "      <td>2.2708</td>\n",
       "    </tr>\n",
       "    <tr>\n",
       "      <th>6068</th>\n",
       "      <td>-117.86</td>\n",
       "      <td>34.01</td>\n",
       "      <td>16.0</td>\n",
       "      <td>4632.0</td>\n",
       "      <td>433.0</td>\n",
       "      <td>3038.0</td>\n",
       "      <td>727.0</td>\n",
       "      <td>5.1762</td>\n",
       "    </tr>\n",
       "    <tr>\n",
       "      <th>17923</th>\n",
       "      <td>-121.97</td>\n",
       "      <td>37.35</td>\n",
       "      <td>30.0</td>\n",
       "      <td>1955.0</td>\n",
       "      <td>433.0</td>\n",
       "      <td>999.0</td>\n",
       "      <td>386.0</td>\n",
       "      <td>4.6328</td>\n",
       "    </tr>\n",
       "    <tr>\n",
       "      <th>13656</th>\n",
       "      <td>-117.30</td>\n",
       "      <td>34.05</td>\n",
       "      <td>6.0</td>\n",
       "      <td>2155.0</td>\n",
       "      <td>433.0</td>\n",
       "      <td>1039.0</td>\n",
       "      <td>391.0</td>\n",
       "      <td>1.6675</td>\n",
       "    </tr>\n",
       "    <tr>\n",
       "      <th>19252</th>\n",
       "      <td>-122.79</td>\n",
       "      <td>38.48</td>\n",
       "      <td>7.0</td>\n",
       "      <td>6837.0</td>\n",
       "      <td>433.0</td>\n",
       "      <td>3468.0</td>\n",
       "      <td>1405.0</td>\n",
       "      <td>3.1662</td>\n",
       "    </tr>\n",
       "  </tbody>\n",
       "</table>\n",
       "</div>"
      ],
      "text/plain": [
       "       longitude  latitude  housing_median_age  total_rooms  total_bedrooms  \\\n",
       "4629     -118.30     34.07                18.0       3759.0           433.0   \n",
       "6068     -117.86     34.01                16.0       4632.0           433.0   \n",
       "17923    -121.97     37.35                30.0       1955.0           433.0   \n",
       "13656    -117.30     34.05                 6.0       2155.0           433.0   \n",
       "19252    -122.79     38.48                 7.0       6837.0           433.0   \n",
       "\n",
       "       population  households  median_income  \n",
       "4629       3296.0      1462.0         2.2708  \n",
       "6068       3038.0       727.0         5.1762  \n",
       "17923       999.0       386.0         4.6328  \n",
       "13656      1039.0       391.0         1.6675  \n",
       "19252      3468.0      1405.0         3.1662  "
      ]
     },
     "execution_count": 55,
     "metadata": {},
     "output_type": "execute_result"
    }
   ],
   "source": [
    "housing_tr.loc[sample_incomplete_rows.index.values]"
   ]
  },
  {
   "cell_type": "code",
   "execution_count": 56,
   "metadata": {
    "collapsed": false
   },
   "outputs": [
    {
     "data": {
      "text/plain": [
       "'median'"
      ]
     },
     "execution_count": 56,
     "metadata": {},
     "output_type": "execute_result"
    }
   ],
   "source": [
    "imputer.strategy"
   ]
  },
  {
   "cell_type": "code",
   "execution_count": 57,
   "metadata": {
    "collapsed": false
   },
   "outputs": [
    {
     "data": {
      "text/html": [
       "<div>\n",
       "<style>\n",
       "    .dataframe thead tr:only-child th {\n",
       "        text-align: right;\n",
       "    }\n",
       "\n",
       "    .dataframe thead th {\n",
       "        text-align: left;\n",
       "    }\n",
       "\n",
       "    .dataframe tbody tr th {\n",
       "        vertical-align: top;\n",
       "    }\n",
       "</style>\n",
       "<table border=\"1\" class=\"dataframe\">\n",
       "  <thead>\n",
       "    <tr style=\"text-align: right;\">\n",
       "      <th></th>\n",
       "      <th>longitude</th>\n",
       "      <th>latitude</th>\n",
       "      <th>housing_median_age</th>\n",
       "      <th>total_rooms</th>\n",
       "      <th>total_bedrooms</th>\n",
       "      <th>population</th>\n",
       "      <th>households</th>\n",
       "      <th>median_income</th>\n",
       "    </tr>\n",
       "  </thead>\n",
       "  <tbody>\n",
       "    <tr>\n",
       "      <th>0</th>\n",
       "      <td>-121.89</td>\n",
       "      <td>37.29</td>\n",
       "      <td>38.0</td>\n",
       "      <td>1568.0</td>\n",
       "      <td>351.0</td>\n",
       "      <td>710.0</td>\n",
       "      <td>339.0</td>\n",
       "      <td>2.7042</td>\n",
       "    </tr>\n",
       "    <tr>\n",
       "      <th>1</th>\n",
       "      <td>-121.93</td>\n",
       "      <td>37.05</td>\n",
       "      <td>14.0</td>\n",
       "      <td>679.0</td>\n",
       "      <td>108.0</td>\n",
       "      <td>306.0</td>\n",
       "      <td>113.0</td>\n",
       "      <td>6.4214</td>\n",
       "    </tr>\n",
       "    <tr>\n",
       "      <th>2</th>\n",
       "      <td>-117.20</td>\n",
       "      <td>32.77</td>\n",
       "      <td>31.0</td>\n",
       "      <td>1952.0</td>\n",
       "      <td>471.0</td>\n",
       "      <td>936.0</td>\n",
       "      <td>462.0</td>\n",
       "      <td>2.8621</td>\n",
       "    </tr>\n",
       "    <tr>\n",
       "      <th>3</th>\n",
       "      <td>-119.61</td>\n",
       "      <td>36.31</td>\n",
       "      <td>25.0</td>\n",
       "      <td>1847.0</td>\n",
       "      <td>371.0</td>\n",
       "      <td>1460.0</td>\n",
       "      <td>353.0</td>\n",
       "      <td>1.8839</td>\n",
       "    </tr>\n",
       "    <tr>\n",
       "      <th>4</th>\n",
       "      <td>-118.59</td>\n",
       "      <td>34.23</td>\n",
       "      <td>17.0</td>\n",
       "      <td>6592.0</td>\n",
       "      <td>1525.0</td>\n",
       "      <td>4459.0</td>\n",
       "      <td>1463.0</td>\n",
       "      <td>3.0347</td>\n",
       "    </tr>\n",
       "  </tbody>\n",
       "</table>\n",
       "</div>"
      ],
      "text/plain": [
       "   longitude  latitude  housing_median_age  total_rooms  total_bedrooms  \\\n",
       "0    -121.89     37.29                38.0       1568.0           351.0   \n",
       "1    -121.93     37.05                14.0        679.0           108.0   \n",
       "2    -117.20     32.77                31.0       1952.0           471.0   \n",
       "3    -119.61     36.31                25.0       1847.0           371.0   \n",
       "4    -118.59     34.23                17.0       6592.0          1525.0   \n",
       "\n",
       "   population  households  median_income  \n",
       "0       710.0       339.0         2.7042  \n",
       "1       306.0       113.0         6.4214  \n",
       "2       936.0       462.0         2.8621  \n",
       "3      1460.0       353.0         1.8839  \n",
       "4      4459.0      1463.0         3.0347  "
      ]
     },
     "execution_count": 57,
     "metadata": {},
     "output_type": "execute_result"
    }
   ],
   "source": [
    "housing_tr = pd.DataFrame(X, columns=housing_num.columns)\n",
    "housing_tr.head()"
   ]
  },
  {
   "cell_type": "markdown",
   "metadata": {},
   "source": [
    "Now let's preprocess the categorical input feature, `ocean_proximity`:"
   ]
  },
  {
   "cell_type": "code",
   "execution_count": 58,
   "metadata": {
    "collapsed": false
   },
   "outputs": [
    {
     "data": {
      "text/plain": [
       "17606     <1H OCEAN\n",
       "18632     <1H OCEAN\n",
       "14650    NEAR OCEAN\n",
       "3230         INLAND\n",
       "3555      <1H OCEAN\n",
       "19480        INLAND\n",
       "8879      <1H OCEAN\n",
       "13685        INLAND\n",
       "4937      <1H OCEAN\n",
       "4861      <1H OCEAN\n",
       "Name: ocean_proximity, dtype: object"
      ]
     },
     "execution_count": 58,
     "metadata": {},
     "output_type": "execute_result"
    }
   ],
   "source": [
    "housing_cat = housing['ocean_proximity']\n",
    "housing_cat.head(10)"
   ]
  },
  {
   "cell_type": "markdown",
   "metadata": {},
   "source": [
    "We can use Pandas' `factorize()` method to convert this string categorical feature to an integer categorical feature, which will be easier for Machine Learning algorithms to handle:"
   ]
  },
  {
   "cell_type": "code",
   "execution_count": 59,
   "metadata": {
    "collapsed": false
   },
   "outputs": [
    {
     "data": {
      "text/plain": [
       "array([0, 0, 1, 2, 0, 2, 0, 2, 0, 0])"
      ]
     },
     "execution_count": 59,
     "metadata": {},
     "output_type": "execute_result"
    }
   ],
   "source": [
    "housing_cat_encoded, housing_categories = housing_cat.factorize()\n",
    "housing_cat_encoded[:10]"
   ]
  },
  {
   "cell_type": "code",
   "execution_count": 60,
   "metadata": {
    "collapsed": false
   },
   "outputs": [
    {
     "data": {
      "text/plain": [
       "Index(['<1H OCEAN', 'NEAR OCEAN', 'INLAND', 'NEAR BAY', 'ISLAND'], dtype='object')"
      ]
     },
     "execution_count": 60,
     "metadata": {},
     "output_type": "execute_result"
    }
   ],
   "source": [
    "housing_categories"
   ]
  },
  {
   "cell_type": "markdown",
   "metadata": {},
   "source": [
    "**Warning**: earlier versions of the book used the `LabelEncoder` class instead of Pandas' `factorize()` method. This was incorrect: indeed, as its name suggests, the `LabelEncoder` class was designed for labels, not for input features. The code worked because we were handling a single categorical input feature, but it would break if you passed multiple categorical input features."
   ]
  },
  {
   "cell_type": "markdown",
   "metadata": {},
   "source": [
    "We can convert each categorical value to a one-hot vector using a `OneHotEncoder`:"
   ]
  },
  {
   "cell_type": "code",
   "execution_count": 61,
   "metadata": {
    "collapsed": false
   },
   "outputs": [
    {
     "data": {
      "text/plain": [
       "<16512x5 sparse matrix of type '<class 'numpy.float64'>'\n",
       "\twith 16512 stored elements in Compressed Sparse Row format>"
      ]
     },
     "execution_count": 61,
     "metadata": {},
     "output_type": "execute_result"
    }
   ],
   "source": [
    "from sklearn.preprocessing import OneHotEncoder\n",
    "\n",
    "encoder = OneHotEncoder()\n",
    "housing_cat_1hot = encoder.fit_transform(housing_cat_encoded.reshape(-1,1))\n",
    "housing_cat_1hot"
   ]
  },
  {
   "cell_type": "markdown",
   "metadata": {},
   "source": [
    "The `OneHotEncoder` returns a sparse array by default, but we can convert it to a dense array if needed:"
   ]
  },
  {
   "cell_type": "code",
   "execution_count": 62,
   "metadata": {
    "collapsed": false
   },
   "outputs": [
    {
     "data": {
      "text/plain": [
       "array([[ 1.,  0.,  0.,  0.,  0.],\n",
       "       [ 1.,  0.,  0.,  0.,  0.],\n",
       "       [ 0.,  1.,  0.,  0.,  0.],\n",
       "       ..., \n",
       "       [ 0.,  0.,  1.,  0.,  0.],\n",
       "       [ 1.,  0.,  0.,  0.,  0.],\n",
       "       [ 0.,  0.,  0.,  1.,  0.]])"
      ]
     },
     "execution_count": 62,
     "metadata": {},
     "output_type": "execute_result"
    }
   ],
   "source": [
    "housing_cat_1hot.toarray()"
   ]
  },
  {
   "cell_type": "markdown",
   "metadata": {},
   "source": [
    "**Warning**: earlier versions of the book used the `LabelBinarizer` class at this point. Again, this was incorrect: just like the `LabelEncoder` class, the `LabelBinarizer` class was designed to preprocess labels, not input features. A better solution is to use Scikit-Learn's upcoming `CategoricalEncoder` class: it will soon be added to Scikit-Learn, and in the meantime you can use the code below (copied from [Pull Request #9151](https://github.com/scikit-learn/scikit-learn/pull/9151))."
   ]
  },
  {
   "cell_type": "code",
   "execution_count": 63,
   "metadata": {
    "collapsed": true
   },
   "outputs": [],
   "source": [
    "# Definition of the CategoricalEncoder class, copied from PR #9151.\n",
    "# Just run this cell, or copy it to your code, do not try to understand it (yet).\n",
    "\n",
    "from sklearn.base import BaseEstimator, TransformerMixin\n",
    "from sklearn.utils import check_array\n",
    "from sklearn.preprocessing import LabelEncoder\n",
    "from scipy import sparse\n",
    "\n",
    "class CategoricalEncoder(BaseEstimator, TransformerMixin):\n",
    "    \"\"\"Encode categorical features as a numeric array.\n",
    "    The input to this transformer should be a matrix of integers or strings,\n",
    "    denoting the values taken on by categorical (discrete) features.\n",
    "    The features can be encoded using a one-hot aka one-of-K scheme\n",
    "    (``encoding='onehot'``, the default) or converted to ordinal integers\n",
    "    (``encoding='ordinal'``).\n",
    "    This encoding is needed for feeding categorical data to many scikit-learn\n",
    "    estimators, notably linear models and SVMs with the standard kernels.\n",
    "    Read more in the :ref:`User Guide <preprocessing_categorical_features>`.\n",
    "    Parameters\n",
    "    ----------\n",
    "    encoding : str, 'onehot', 'onehot-dense' or 'ordinal'\n",
    "        The type of encoding to use (default is 'onehot'):\n",
    "        - 'onehot': encode the features using a one-hot aka one-of-K scheme\n",
    "          (or also called 'dummy' encoding). This creates a binary column for\n",
    "          each category and returns a sparse matrix.\n",
    "        - 'onehot-dense': the same as 'onehot' but returns a dense array\n",
    "          instead of a sparse matrix.\n",
    "        - 'ordinal': encode the features as ordinal integers. This results in\n",
    "          a single column of integers (0 to n_categories - 1) per feature.\n",
    "    categories : 'auto' or a list of lists/arrays of values.\n",
    "        Categories (unique values) per feature:\n",
    "        - 'auto' : Determine categories automatically from the training data.\n",
    "        - list : ``categories[i]`` holds the categories expected in the ith\n",
    "          column. The passed categories are sorted before encoding the data\n",
    "          (used categories can be found in the ``categories_`` attribute).\n",
    "    dtype : number type, default np.float64\n",
    "        Desired dtype of output.\n",
    "    handle_unknown : 'error' (default) or 'ignore'\n",
    "        Whether to raise an error or ignore if a unknown categorical feature is\n",
    "        present during transform (default is to raise). When this is parameter\n",
    "        is set to 'ignore' and an unknown category is encountered during\n",
    "        transform, the resulting one-hot encoded columns for this feature\n",
    "        will be all zeros.\n",
    "        Ignoring unknown categories is not supported for\n",
    "        ``encoding='ordinal'``.\n",
    "    Attributes\n",
    "    ----------\n",
    "    categories_ : list of arrays\n",
    "        The categories of each feature determined during fitting. When\n",
    "        categories were specified manually, this holds the sorted categories\n",
    "        (in order corresponding with output of `transform`).\n",
    "    Examples\n",
    "    --------\n",
    "    Given a dataset with three features and two samples, we let the encoder\n",
    "    find the maximum value per feature and transform the data to a binary\n",
    "    one-hot encoding.\n",
    "    >>> from sklearn.preprocessing import CategoricalEncoder\n",
    "    >>> enc = CategoricalEncoder(handle_unknown='ignore')\n",
    "    >>> enc.fit([[0, 0, 3], [1, 1, 0], [0, 2, 1], [1, 0, 2]])\n",
    "    ... # doctest: +ELLIPSIS\n",
    "    CategoricalEncoder(categories='auto', dtype=<... 'numpy.float64'>,\n",
    "              encoding='onehot', handle_unknown='ignore')\n",
    "    >>> enc.transform([[0, 1, 1], [1, 0, 4]]).toarray()\n",
    "    array([[ 1.,  0.,  0.,  1.,  0.,  0.,  1.,  0.,  0.],\n",
    "           [ 0.,  1.,  1.,  0.,  0.,  0.,  0.,  0.,  0.]])\n",
    "    See also\n",
    "    --------\n",
    "    sklearn.preprocessing.OneHotEncoder : performs a one-hot encoding of\n",
    "      integer ordinal features. The ``OneHotEncoder assumes`` that input\n",
    "      features take on values in the range ``[0, max(feature)]`` instead of\n",
    "      using the unique values.\n",
    "    sklearn.feature_extraction.DictVectorizer : performs a one-hot encoding of\n",
    "      dictionary items (also handles string-valued features).\n",
    "    sklearn.feature_extraction.FeatureHasher : performs an approximate one-hot\n",
    "      encoding of dictionary items or strings.\n",
    "    \"\"\"\n",
    "\n",
    "    def __init__(self, encoding='onehot', categories='auto', dtype=np.float64,\n",
    "                 handle_unknown='error'):\n",
    "        self.encoding = encoding\n",
    "        self.categories = categories\n",
    "        self.dtype = dtype\n",
    "        self.handle_unknown = handle_unknown\n",
    "\n",
    "    def fit(self, X, y=None):\n",
    "        \"\"\"Fit the CategoricalEncoder to X.\n",
    "        Parameters\n",
    "        ----------\n",
    "        X : array-like, shape [n_samples, n_feature]\n",
    "            The data to determine the categories of each feature.\n",
    "        Returns\n",
    "        -------\n",
    "        self\n",
    "        \"\"\"\n",
    "\n",
    "        if self.encoding not in ['onehot', 'onehot-dense', 'ordinal']:\n",
    "            template = (\"encoding should be either 'onehot', 'onehot-dense' \"\n",
    "                        \"or 'ordinal', got %s\")\n",
    "            raise ValueError(template % self.handle_unknown)\n",
    "\n",
    "        if self.handle_unknown not in ['error', 'ignore']:\n",
    "            template = (\"handle_unknown should be either 'error' or \"\n",
    "                        \"'ignore', got %s\")\n",
    "            raise ValueError(template % self.handle_unknown)\n",
    "\n",
    "        if self.encoding == 'ordinal' and self.handle_unknown == 'ignore':\n",
    "            raise ValueError(\"handle_unknown='ignore' is not supported for\"\n",
    "                             \" encoding='ordinal'\")\n",
    "\n",
    "        X = check_array(X, dtype=np.object, accept_sparse='csc', copy=True)\n",
    "        n_samples, n_features = X.shape\n",
    "\n",
    "        self._label_encoders_ = [LabelEncoder() for _ in range(n_features)]\n",
    "\n",
    "        for i in range(n_features):\n",
    "            le = self._label_encoders_[i]\n",
    "            Xi = X[:, i]\n",
    "            if self.categories == 'auto':\n",
    "                le.fit(Xi)\n",
    "            else:\n",
    "                valid_mask = np.in1d(Xi, self.categories[i])\n",
    "                if not np.all(valid_mask):\n",
    "                    if self.handle_unknown == 'error':\n",
    "                        diff = np.unique(Xi[~valid_mask])\n",
    "                        msg = (\"Found unknown categories {0} in column {1}\"\n",
    "                               \" during fit\".format(diff, i))\n",
    "                        raise ValueError(msg)\n",
    "                le.classes_ = np.array(np.sort(self.categories[i]))\n",
    "\n",
    "        self.categories_ = [le.classes_ for le in self._label_encoders_]\n",
    "\n",
    "        return self\n",
    "\n",
    "    def transform(self, X):\n",
    "        \"\"\"Transform X using one-hot encoding.\n",
    "        Parameters\n",
    "        ----------\n",
    "        X : array-like, shape [n_samples, n_features]\n",
    "            The data to encode.\n",
    "        Returns\n",
    "        -------\n",
    "        X_out : sparse matrix or a 2-d array\n",
    "            Transformed input.\n",
    "        \"\"\"\n",
    "        X = check_array(X, accept_sparse='csc', dtype=np.object, copy=True)\n",
    "        n_samples, n_features = X.shape\n",
    "        X_int = np.zeros_like(X, dtype=np.int)\n",
    "        X_mask = np.ones_like(X, dtype=np.bool)\n",
    "\n",
    "        for i in range(n_features):\n",
    "            valid_mask = np.in1d(X[:, i], self.categories_[i])\n",
    "\n",
    "            if not np.all(valid_mask):\n",
    "                if self.handle_unknown == 'error':\n",
    "                    diff = np.unique(X[~valid_mask, i])\n",
    "                    msg = (\"Found unknown categories {0} in column {1}\"\n",
    "                           \" during transform\".format(diff, i))\n",
    "                    raise ValueError(msg)\n",
    "                else:\n",
    "                    # Set the problematic rows to an acceptable value and\n",
    "                    # continue `The rows are marked `X_mask` and will be\n",
    "                    # removed later.\n",
    "                    X_mask[:, i] = valid_mask\n",
    "                    X[:, i][~valid_mask] = self.categories_[i][0]\n",
    "            X_int[:, i] = self._label_encoders_[i].transform(X[:, i])\n",
    "\n",
    "        if self.encoding == 'ordinal':\n",
    "            return X_int.astype(self.dtype, copy=False)\n",
    "\n",
    "        mask = X_mask.ravel()\n",
    "        n_values = [cats.shape[0] for cats in self.categories_]\n",
    "        n_values = np.array([0] + n_values)\n",
    "        indices = np.cumsum(n_values)\n",
    "\n",
    "        column_indices = (X_int + indices[:-1]).ravel()[mask]\n",
    "        row_indices = np.repeat(np.arange(n_samples, dtype=np.int32),\n",
    "                                n_features)[mask]\n",
    "        data = np.ones(n_samples * n_features)[mask]\n",
    "\n",
    "        out = sparse.csc_matrix((data, (row_indices, column_indices)),\n",
    "                                shape=(n_samples, indices[-1]),\n",
    "                                dtype=self.dtype).tocsr()\n",
    "        if self.encoding == 'onehot-dense':\n",
    "            return out.toarray()\n",
    "        else:\n",
    "            return out"
   ]
  },
  {
   "cell_type": "markdown",
   "metadata": {},
   "source": [
    "The `CategoricalEncoder` expects a 2D array containing one or more categorical input features. We need to reshape `housing_cat` to a 2D array:"
   ]
  },
  {
   "cell_type": "code",
   "execution_count": 64,
   "metadata": {
    "collapsed": false
   },
   "outputs": [
    {
     "data": {
      "text/plain": [
       "<16512x5 sparse matrix of type '<class 'numpy.float64'>'\n",
       "\twith 16512 stored elements in Compressed Sparse Row format>"
      ]
     },
     "execution_count": 64,
     "metadata": {},
     "output_type": "execute_result"
    }
   ],
   "source": [
    "#from sklearn.preprocessing import CategoricalEncoder # in future versions of Scikit-Learn\n",
    "\n",
    "cat_encoder = CategoricalEncoder()\n",
    "housing_cat_reshaped = housing_cat.values.reshape(-1, 1)\n",
    "housing_cat_1hot = cat_encoder.fit_transform(housing_cat_reshaped)\n",
    "housing_cat_1hot"
   ]
  },
  {
   "cell_type": "markdown",
   "metadata": {},
   "source": [
    "The default encoding is one-hot, and it returns a sparse array. You can use `toarray()` to get a dense array:"
   ]
  },
  {
   "cell_type": "code",
   "execution_count": 65,
   "metadata": {
    "collapsed": false
   },
   "outputs": [
    {
     "data": {
      "text/plain": [
       "array([[ 1.,  0.,  0.,  0.,  0.],\n",
       "       [ 1.,  0.,  0.,  0.,  0.],\n",
       "       [ 0.,  0.,  0.,  0.,  1.],\n",
       "       ..., \n",
       "       [ 0.,  1.,  0.,  0.,  0.],\n",
       "       [ 1.,  0.,  0.,  0.,  0.],\n",
       "       [ 0.,  0.,  0.,  1.,  0.]])"
      ]
     },
     "execution_count": 65,
     "metadata": {},
     "output_type": "execute_result"
    }
   ],
   "source": [
    "housing_cat_1hot.toarray()"
   ]
  },
  {
   "cell_type": "markdown",
   "metadata": {},
   "source": [
    "Alternatively, you can specify the encoding to be `\"onehot-dense\"` to get a dense matrix rather than a sparse matrix:"
   ]
  },
  {
   "cell_type": "code",
   "execution_count": 66,
   "metadata": {
    "collapsed": false
   },
   "outputs": [
    {
     "data": {
      "text/plain": [
       "array([[ 1.,  0.,  0.,  0.,  0.],\n",
       "       [ 1.,  0.,  0.,  0.,  0.],\n",
       "       [ 0.,  0.,  0.,  0.,  1.],\n",
       "       ..., \n",
       "       [ 0.,  1.,  0.,  0.,  0.],\n",
       "       [ 1.,  0.,  0.,  0.,  0.],\n",
       "       [ 0.,  0.,  0.,  1.,  0.]])"
      ]
     },
     "execution_count": 66,
     "metadata": {},
     "output_type": "execute_result"
    }
   ],
   "source": [
    "cat_encoder = CategoricalEncoder(encoding=\"onehot-dense\")\n",
    "housing_cat_1hot = cat_encoder.fit_transform(housing_cat_reshaped)\n",
    "housing_cat_1hot"
   ]
  },
  {
   "cell_type": "code",
   "execution_count": 67,
   "metadata": {
    "collapsed": false
   },
   "outputs": [
    {
     "data": {
      "text/plain": [
       "[array(['<1H OCEAN', 'INLAND', 'ISLAND', 'NEAR BAY', 'NEAR OCEAN'], dtype=object)]"
      ]
     },
     "execution_count": 67,
     "metadata": {},
     "output_type": "execute_result"
    }
   ],
   "source": [
    "cat_encoder.categories_"
   ]
  },
  {
   "cell_type": "markdown",
   "metadata": {},
   "source": [
    "Let's create a custom transformer to add extra attributes:"
   ]
  },
  {
   "cell_type": "code",
   "execution_count": 68,
   "metadata": {
    "collapsed": true
   },
   "outputs": [],
   "source": [
    "from sklearn.base import BaseEstimator, TransformerMixin\n",
    "\n",
    "# column index\n",
    "rooms_ix, bedrooms_ix, population_ix, household_ix = 3, 4, 5, 6\n",
    "\n",
    "class CombinedAttributesAdder(BaseEstimator, TransformerMixin):\n",
    "    def __init__(self, add_bedrooms_per_room = True): # no *args or **kargs\n",
    "        self.add_bedrooms_per_room = add_bedrooms_per_room\n",
    "    def fit(self, X, y=None):\n",
    "        return self  # nothing else to do\n",
    "    def transform(self, X, y=None):\n",
    "        rooms_per_household = X[:, rooms_ix] / X[:, household_ix]\n",
    "        population_per_household = X[:, population_ix] / X[:, household_ix]\n",
    "        if self.add_bedrooms_per_room:\n",
    "            bedrooms_per_room = X[:, bedrooms_ix] / X[:, rooms_ix]\n",
    "            return np.c_[X, rooms_per_household, population_per_household,\n",
    "                         bedrooms_per_room]\n",
    "        else:\n",
    "            return np.c_[X, rooms_per_household, population_per_household]\n",
    "\n",
    "attr_adder = CombinedAttributesAdder(add_bedrooms_per_room=False)\n",
    "housing_extra_attribs = attr_adder.transform(housing.values)"
   ]
  },
  {
   "cell_type": "code",
   "execution_count": 69,
   "metadata": {
    "collapsed": false
   },
   "outputs": [
    {
     "data": {
      "text/html": [
       "<div>\n",
       "<style>\n",
       "    .dataframe thead tr:only-child th {\n",
       "        text-align: right;\n",
       "    }\n",
       "\n",
       "    .dataframe thead th {\n",
       "        text-align: left;\n",
       "    }\n",
       "\n",
       "    .dataframe tbody tr th {\n",
       "        vertical-align: top;\n",
       "    }\n",
       "</style>\n",
       "<table border=\"1\" class=\"dataframe\">\n",
       "  <thead>\n",
       "    <tr style=\"text-align: right;\">\n",
       "      <th></th>\n",
       "      <th>longitude</th>\n",
       "      <th>latitude</th>\n",
       "      <th>housing_median_age</th>\n",
       "      <th>total_rooms</th>\n",
       "      <th>total_bedrooms</th>\n",
       "      <th>population</th>\n",
       "      <th>households</th>\n",
       "      <th>median_income</th>\n",
       "      <th>ocean_proximity</th>\n",
       "      <th>rooms_per_household</th>\n",
       "      <th>population_per_household</th>\n",
       "    </tr>\n",
       "  </thead>\n",
       "  <tbody>\n",
       "    <tr>\n",
       "      <th>0</th>\n",
       "      <td>-121.89</td>\n",
       "      <td>37.29</td>\n",
       "      <td>38</td>\n",
       "      <td>1568</td>\n",
       "      <td>351</td>\n",
       "      <td>710</td>\n",
       "      <td>339</td>\n",
       "      <td>2.7042</td>\n",
       "      <td>&lt;1H OCEAN</td>\n",
       "      <td>4.62537</td>\n",
       "      <td>2.0944</td>\n",
       "    </tr>\n",
       "    <tr>\n",
       "      <th>1</th>\n",
       "      <td>-121.93</td>\n",
       "      <td>37.05</td>\n",
       "      <td>14</td>\n",
       "      <td>679</td>\n",
       "      <td>108</td>\n",
       "      <td>306</td>\n",
       "      <td>113</td>\n",
       "      <td>6.4214</td>\n",
       "      <td>&lt;1H OCEAN</td>\n",
       "      <td>6.00885</td>\n",
       "      <td>2.70796</td>\n",
       "    </tr>\n",
       "    <tr>\n",
       "      <th>2</th>\n",
       "      <td>-117.2</td>\n",
       "      <td>32.77</td>\n",
       "      <td>31</td>\n",
       "      <td>1952</td>\n",
       "      <td>471</td>\n",
       "      <td>936</td>\n",
       "      <td>462</td>\n",
       "      <td>2.8621</td>\n",
       "      <td>NEAR OCEAN</td>\n",
       "      <td>4.22511</td>\n",
       "      <td>2.02597</td>\n",
       "    </tr>\n",
       "    <tr>\n",
       "      <th>3</th>\n",
       "      <td>-119.61</td>\n",
       "      <td>36.31</td>\n",
       "      <td>25</td>\n",
       "      <td>1847</td>\n",
       "      <td>371</td>\n",
       "      <td>1460</td>\n",
       "      <td>353</td>\n",
       "      <td>1.8839</td>\n",
       "      <td>INLAND</td>\n",
       "      <td>5.23229</td>\n",
       "      <td>4.13598</td>\n",
       "    </tr>\n",
       "    <tr>\n",
       "      <th>4</th>\n",
       "      <td>-118.59</td>\n",
       "      <td>34.23</td>\n",
       "      <td>17</td>\n",
       "      <td>6592</td>\n",
       "      <td>1525</td>\n",
       "      <td>4459</td>\n",
       "      <td>1463</td>\n",
       "      <td>3.0347</td>\n",
       "      <td>&lt;1H OCEAN</td>\n",
       "      <td>4.50581</td>\n",
       "      <td>3.04785</td>\n",
       "    </tr>\n",
       "  </tbody>\n",
       "</table>\n",
       "</div>"
      ],
      "text/plain": [
       "  longitude latitude housing_median_age total_rooms total_bedrooms population  \\\n",
       "0   -121.89    37.29                 38        1568            351        710   \n",
       "1   -121.93    37.05                 14         679            108        306   \n",
       "2    -117.2    32.77                 31        1952            471        936   \n",
       "3   -119.61    36.31                 25        1847            371       1460   \n",
       "4   -118.59    34.23                 17        6592           1525       4459   \n",
       "\n",
       "  households median_income ocean_proximity rooms_per_household  \\\n",
       "0        339        2.7042       <1H OCEAN             4.62537   \n",
       "1        113        6.4214       <1H OCEAN             6.00885   \n",
       "2        462        2.8621      NEAR OCEAN             4.22511   \n",
       "3        353        1.8839          INLAND             5.23229   \n",
       "4       1463        3.0347       <1H OCEAN             4.50581   \n",
       "\n",
       "  population_per_household  \n",
       "0                   2.0944  \n",
       "1                  2.70796  \n",
       "2                  2.02597  \n",
       "3                  4.13598  \n",
       "4                  3.04785  "
      ]
     },
     "execution_count": 69,
     "metadata": {},
     "output_type": "execute_result"
    }
   ],
   "source": [
    "housing_extra_attribs = pd.DataFrame(housing_extra_attribs, columns=list(housing.columns)+[\"rooms_per_household\", \"population_per_household\"])\n",
    "housing_extra_attribs.head()"
   ]
  },
  {
   "cell_type": "markdown",
   "metadata": {},
   "source": [
    "Now let's build a pipeline for preprocessing the numerical attributes:"
   ]
  },
  {
   "cell_type": "code",
   "execution_count": 70,
   "metadata": {
    "collapsed": true
   },
   "outputs": [],
   "source": [
    "from sklearn.pipeline import Pipeline\n",
    "from sklearn.preprocessing import StandardScaler\n",
    "\n",
    "num_pipeline = Pipeline([\n",
    "        ('imputer', Imputer(strategy=\"median\")),\n",
    "        ('attribs_adder', CombinedAttributesAdder()),\n",
    "        ('std_scaler', StandardScaler()),\n",
    "    ])\n",
    "\n",
    "housing_num_tr = num_pipeline.fit_transform(housing_num)"
   ]
  },
  {
   "cell_type": "code",
   "execution_count": 71,
   "metadata": {
    "collapsed": false
   },
   "outputs": [
    {
     "data": {
      "text/plain": [
       "array([[-1.15604281,  0.77194962,  0.74333089, ..., -0.31205452,\n",
       "        -0.08649871,  0.15531753],\n",
       "       [-1.17602483,  0.6596948 , -1.1653172 , ...,  0.21768338,\n",
       "        -0.03353391, -0.83628902],\n",
       "       [ 1.18684903, -1.34218285,  0.18664186, ..., -0.46531516,\n",
       "        -0.09240499,  0.4222004 ],\n",
       "       ..., \n",
       "       [ 1.58648943, -0.72478134, -1.56295222, ...,  0.3469342 ,\n",
       "        -0.03055414, -0.52177644],\n",
       "       [ 0.78221312, -0.85106801,  0.18664186, ...,  0.02499488,\n",
       "         0.06150916, -0.30340741],\n",
       "       [-1.43579109,  0.99645926,  1.85670895, ..., -0.22852947,\n",
       "        -0.09586294,  0.10180567]])"
      ]
     },
     "execution_count": 71,
     "metadata": {},
     "output_type": "execute_result"
    }
   ],
   "source": [
    "housing_num_tr"
   ]
  },
  {
   "cell_type": "markdown",
   "metadata": {},
   "source": [
    "And a transformer to just select a subset of the Pandas DataFrame columns:"
   ]
  },
  {
   "cell_type": "code",
   "execution_count": 72,
   "metadata": {
    "collapsed": true
   },
   "outputs": [],
   "source": [
    "from sklearn.base import BaseEstimator, TransformerMixin\n",
    "\n",
    "# Create a class to select numerical or categorical columns \n",
    "# since Scikit-Learn doesn't handle DataFrames yet\n",
    "class DataFrameSelector(BaseEstimator, TransformerMixin):\n",
    "    def __init__(self, attribute_names):\n",
    "        self.attribute_names = attribute_names\n",
    "    def fit(self, X, y=None):\n",
    "        return self\n",
    "    def transform(self, X):\n",
    "        return X[self.attribute_names].values"
   ]
  },
  {
   "cell_type": "markdown",
   "metadata": {},
   "source": [
    "Now let's join all these components into a big pipeline that will preprocess both the numerical and the categorical features:"
   ]
  },
  {
   "cell_type": "code",
   "execution_count": 73,
   "metadata": {
    "collapsed": true
   },
   "outputs": [],
   "source": [
    "num_attribs = list(housing_num)\n",
    "cat_attribs = [\"ocean_proximity\"]\n",
    "\n",
    "num_pipeline = Pipeline([\n",
    "        ('selector', DataFrameSelector(num_attribs)),\n",
    "        ('imputer', Imputer(strategy=\"median\")),\n",
    "        ('attribs_adder', CombinedAttributesAdder()),\n",
    "        ('std_scaler', StandardScaler()),\n",
    "    ])\n",
    "\n",
    "cat_pipeline = Pipeline([\n",
    "        ('selector', DataFrameSelector(cat_attribs)),\n",
    "        ('cat_encoder', CategoricalEncoder(encoding=\"onehot-dense\")),\n",
    "    ])"
   ]
  },
  {
   "cell_type": "code",
   "execution_count": 74,
   "metadata": {
    "collapsed": true
   },
   "outputs": [],
   "source": [
    "from sklearn.pipeline import FeatureUnion\n",
    "\n",
    "full_pipeline = FeatureUnion(transformer_list=[\n",
    "        (\"num_pipeline\", num_pipeline),\n",
    "        (\"cat_pipeline\", cat_pipeline),\n",
    "    ])"
   ]
  },
  {
   "cell_type": "code",
   "execution_count": 75,
   "metadata": {
    "collapsed": false
   },
   "outputs": [
    {
     "data": {
      "text/plain": [
       "array([[-1.15604281,  0.77194962,  0.74333089, ...,  0.        ,\n",
       "         0.        ,  0.        ],\n",
       "       [-1.17602483,  0.6596948 , -1.1653172 , ...,  0.        ,\n",
       "         0.        ,  0.        ],\n",
       "       [ 1.18684903, -1.34218285,  0.18664186, ...,  0.        ,\n",
       "         0.        ,  1.        ],\n",
       "       ..., \n",
       "       [ 1.58648943, -0.72478134, -1.56295222, ...,  0.        ,\n",
       "         0.        ,  0.        ],\n",
       "       [ 0.78221312, -0.85106801,  0.18664186, ...,  0.        ,\n",
       "         0.        ,  0.        ],\n",
       "       [-1.43579109,  0.99645926,  1.85670895, ...,  0.        ,\n",
       "         1.        ,  0.        ]])"
      ]
     },
     "execution_count": 75,
     "metadata": {},
     "output_type": "execute_result"
    }
   ],
   "source": [
    "housing_prepared = full_pipeline.fit_transform(housing)\n",
    "housing_prepared"
   ]
  },
  {
   "cell_type": "code",
   "execution_count": 76,
   "metadata": {
    "collapsed": false
   },
   "outputs": [
    {
     "data": {
      "text/plain": [
       "(16512, 16)"
      ]
     },
     "execution_count": 76,
     "metadata": {},
     "output_type": "execute_result"
    }
   ],
   "source": [
    "housing_prepared.shape"
   ]
  },
  {
   "cell_type": "markdown",
   "metadata": {},
   "source": [
    "# Select and train a model "
   ]
  },
  {
   "cell_type": "code",
   "execution_count": 77,
   "metadata": {
    "collapsed": false
   },
   "outputs": [
    {
     "data": {
      "text/plain": [
       "LinearRegression(copy_X=True, fit_intercept=True, n_jobs=1, normalize=False)"
      ]
     },
     "execution_count": 77,
     "metadata": {},
     "output_type": "execute_result"
    }
   ],
   "source": [
    "from sklearn.linear_model import LinearRegression\n",
    "\n",
    "lin_reg = LinearRegression()\n",
    "lin_reg.fit(housing_prepared, housing_labels)"
   ]
  },
  {
   "cell_type": "code",
   "execution_count": 78,
   "metadata": {
    "collapsed": false
   },
   "outputs": [
    {
     "name": "stdout",
     "output_type": "stream",
     "text": [
      "Predictions: [ 210644.60459286  317768.80697211  210956.43331178   59218.98886849\n",
      "  189747.55849879]\n"
     ]
    }
   ],
   "source": [
    "# let's try the full pipeline on a few training instances\n",
    "some_data = housing.iloc[:5]\n",
    "some_labels = housing_labels.iloc[:5]\n",
    "some_data_prepared = full_pipeline.transform(some_data)\n",
    "\n",
    "print(\"Predictions:\", lin_reg.predict(some_data_prepared))"
   ]
  },
  {
   "cell_type": "markdown",
   "metadata": {},
   "source": [
    "Compare against the actual values:"
   ]
  },
  {
   "cell_type": "code",
   "execution_count": 79,
   "metadata": {
    "collapsed": false
   },
   "outputs": [
    {
     "name": "stdout",
     "output_type": "stream",
     "text": [
      "Labels: [286600.0, 340600.0, 196900.0, 46300.0, 254500.0]\n"
     ]
    }
   ],
   "source": [
    "print(\"Labels:\", list(some_labels))"
   ]
  },
  {
   "cell_type": "code",
   "execution_count": 80,
   "metadata": {
    "collapsed": false
   },
   "outputs": [
    {
     "data": {
      "text/plain": [
       "array([[-1.15604281,  0.77194962,  0.74333089, -0.49323393, -0.44543821,\n",
       "        -0.63621141, -0.42069842, -0.61493744, -0.31205452, -0.08649871,\n",
       "         0.15531753,  1.        ,  0.        ,  0.        ,  0.        ,\n",
       "         0.        ],\n",
       "       [-1.17602483,  0.6596948 , -1.1653172 , -0.90896655, -1.0369278 ,\n",
       "        -0.99833135, -1.02222705,  1.33645936,  0.21768338, -0.03353391,\n",
       "        -0.83628902,  1.        ,  0.        ,  0.        ,  0.        ,\n",
       "         0.        ],\n",
       "       [ 1.18684903, -1.34218285,  0.18664186, -0.31365989, -0.15334458,\n",
       "        -0.43363936, -0.0933178 , -0.5320456 , -0.46531516, -0.09240499,\n",
       "         0.4222004 ,  0.        ,  0.        ,  0.        ,  0.        ,\n",
       "         1.        ],\n",
       "       [-0.01706767,  0.31357576, -0.29052016, -0.36276217, -0.39675594,\n",
       "         0.03604096, -0.38343559, -1.04556555, -0.07966124,  0.08973561,\n",
       "        -0.19645314,  0.        ,  1.        ,  0.        ,  0.        ,\n",
       "         0.        ],\n",
       "       [ 0.49247384, -0.65929936, -0.92673619,  1.85619316,  2.41221109,\n",
       "         2.72415407,  2.57097492, -0.44143679, -0.35783383, -0.00419445,\n",
       "         0.2699277 ,  1.        ,  0.        ,  0.        ,  0.        ,\n",
       "         0.        ]])"
      ]
     },
     "execution_count": 80,
     "metadata": {},
     "output_type": "execute_result"
    }
   ],
   "source": [
    "some_data_prepared"
   ]
  },
  {
   "cell_type": "code",
   "execution_count": 81,
   "metadata": {
    "collapsed": false
   },
   "outputs": [
    {
     "data": {
      "text/plain": [
       "68628.198198489219"
      ]
     },
     "execution_count": 81,
     "metadata": {},
     "output_type": "execute_result"
    }
   ],
   "source": [
    "from sklearn.metrics import mean_squared_error\n",
    "\n",
    "housing_predictions = lin_reg.predict(housing_prepared)\n",
    "lin_mse = mean_squared_error(housing_labels, housing_predictions)\n",
    "lin_rmse = np.sqrt(lin_mse)\n",
    "lin_rmse"
   ]
  },
  {
   "cell_type": "code",
   "execution_count": 82,
   "metadata": {
    "collapsed": false
   },
   "outputs": [
    {
     "data": {
      "text/plain": [
       "49439.895990018973"
      ]
     },
     "execution_count": 82,
     "metadata": {},
     "output_type": "execute_result"
    }
   ],
   "source": [
    "from sklearn.metrics import mean_absolute_error\n",
    "\n",
    "lin_mae = mean_absolute_error(housing_labels, housing_predictions)\n",
    "lin_mae"
   ]
  },
  {
   "cell_type": "code",
   "execution_count": 83,
   "metadata": {
    "collapsed": false
   },
   "outputs": [
    {
     "data": {
      "text/plain": [
       "DecisionTreeRegressor(criterion='mse', max_depth=None, max_features=None,\n",
       "           max_leaf_nodes=None, min_impurity_decrease=0.0,\n",
       "           min_impurity_split=None, min_samples_leaf=1,\n",
       "           min_samples_split=2, min_weight_fraction_leaf=0.0,\n",
       "           presort=False, random_state=42, splitter='best')"
      ]
     },
     "execution_count": 83,
     "metadata": {},
     "output_type": "execute_result"
    }
   ],
   "source": [
    "from sklearn.tree import DecisionTreeRegressor\n",
    "\n",
    "tree_reg = DecisionTreeRegressor(random_state=42)\n",
    "tree_reg.fit(housing_prepared, housing_labels)"
   ]
  },
  {
   "cell_type": "code",
   "execution_count": 84,
   "metadata": {
    "collapsed": false
   },
   "outputs": [
    {
     "data": {
      "text/plain": [
       "0.0"
      ]
     },
     "execution_count": 84,
     "metadata": {},
     "output_type": "execute_result"
    }
   ],
   "source": [
    "housing_predictions = tree_reg.predict(housing_prepared)\n",
    "tree_mse = mean_squared_error(housing_labels, housing_predictions)\n",
    "tree_rmse = np.sqrt(tree_mse)\n",
    "tree_rmse"
   ]
  },
  {
   "cell_type": "markdown",
   "metadata": {},
   "source": [
    "# Fine-tune your model"
   ]
  },
  {
   "cell_type": "code",
   "execution_count": 85,
   "metadata": {
    "collapsed": true
   },
   "outputs": [],
   "source": [
    "from sklearn.model_selection import cross_val_score\n",
    "\n",
    "scores = cross_val_score(tree_reg, housing_prepared, housing_labels,\n",
    "                         scoring=\"neg_mean_squared_error\", cv=10)\n",
    "tree_rmse_scores = np.sqrt(-scores)"
   ]
  },
  {
   "cell_type": "code",
   "execution_count": 86,
   "metadata": {
    "collapsed": false
   },
   "outputs": [
    {
     "name": "stdout",
     "output_type": "stream",
     "text": [
      "Scores: [ 70232.0136482   66828.46839892  72444.08721003  70761.50186201\n",
      "  71125.52697653  75581.29319857  70169.59286164  70055.37863456\n",
      "  75370.49116773  71222.39081244]\n",
      "Mean: 71379.0744771\n",
      "Standard deviation: 2458.31882043\n"
     ]
    }
   ],
   "source": [
    "def display_scores(scores):\n",
    "    print(\"Scores:\", scores)\n",
    "    print(\"Mean:\", scores.mean())\n",
    "    print(\"Standard deviation:\", scores.std())\n",
    "\n",
    "display_scores(tree_rmse_scores)"
   ]
  },
  {
   "cell_type": "code",
   "execution_count": 87,
   "metadata": {
    "collapsed": false
   },
   "outputs": [
    {
     "name": "stdout",
     "output_type": "stream",
     "text": [
      "Scores: [ 66782.73843989  66960.118071    70347.95244419  74739.57052552\n",
      "  68031.13388938  71193.84183426  64969.63056405  68281.61137997\n",
      "  71552.91566558  67665.10082067]\n",
      "Mean: 69052.4613635\n",
      "Standard deviation: 2731.6740018\n"
     ]
    }
   ],
   "source": [
    "lin_scores = cross_val_score(lin_reg, housing_prepared, housing_labels,\n",
    "                             scoring=\"neg_mean_squared_error\", cv=10)\n",
    "lin_rmse_scores = np.sqrt(-lin_scores)\n",
    "display_scores(lin_rmse_scores)"
   ]
  },
  {
   "cell_type": "code",
   "execution_count": 88,
   "metadata": {
    "collapsed": false
   },
   "outputs": [
    {
     "data": {
      "text/plain": [
       "RandomForestRegressor(bootstrap=True, criterion='mse', max_depth=None,\n",
       "           max_features='auto', max_leaf_nodes=None,\n",
       "           min_impurity_decrease=0.0, min_impurity_split=None,\n",
       "           min_samples_leaf=1, min_samples_split=2,\n",
       "           min_weight_fraction_leaf=0.0, n_estimators=10, n_jobs=1,\n",
       "           oob_score=False, random_state=42, verbose=0, warm_start=False)"
      ]
     },
     "execution_count": 88,
     "metadata": {},
     "output_type": "execute_result"
    }
   ],
   "source": [
    "from sklearn.ensemble import RandomForestRegressor\n",
    "\n",
    "forest_reg = RandomForestRegressor(random_state=42)\n",
    "forest_reg.fit(housing_prepared, housing_labels)"
   ]
  },
  {
   "cell_type": "code",
   "execution_count": 89,
   "metadata": {
    "collapsed": false
   },
   "outputs": [
    {
     "data": {
      "text/plain": [
       "21941.911027380233"
      ]
     },
     "execution_count": 89,
     "metadata": {},
     "output_type": "execute_result"
    }
   ],
   "source": [
    "housing_predictions = forest_reg.predict(housing_prepared)\n",
    "forest_mse = mean_squared_error(housing_labels, housing_predictions)\n",
    "forest_rmse = np.sqrt(forest_mse)\n",
    "forest_rmse"
   ]
  },
  {
   "cell_type": "code",
   "execution_count": 90,
   "metadata": {
    "collapsed": false
   },
   "outputs": [
    {
     "name": "stdout",
     "output_type": "stream",
     "text": [
      "Scores: [ 51650.94405471  48920.80645498  52979.16096752  54412.74042021\n",
      "  50861.29381163  56488.55699727  51866.90120786  49752.24599537\n",
      "  55399.50713191  53309.74548294]\n",
      "Mean: 52564.1902524\n",
      "Standard deviation: 2301.87380392\n"
     ]
    }
   ],
   "source": [
    "from sklearn.model_selection import cross_val_score\n",
    "\n",
    "forest_scores = cross_val_score(forest_reg, housing_prepared, housing_labels,\n",
    "                                scoring=\"neg_mean_squared_error\", cv=10)\n",
    "forest_rmse_scores = np.sqrt(-forest_scores)\n",
    "display_scores(forest_rmse_scores)"
   ]
  },
  {
   "cell_type": "code",
   "execution_count": 91,
   "metadata": {
    "collapsed": false
   },
   "outputs": [
    {
     "data": {
      "text/plain": [
       "count       10.000000\n",
       "mean     69052.461363\n",
       "std       2879.437224\n",
       "min      64969.630564\n",
       "25%      67136.363758\n",
       "50%      68156.372635\n",
       "75%      70982.369487\n",
       "max      74739.570526\n",
       "dtype: float64"
      ]
     },
     "execution_count": 91,
     "metadata": {},
     "output_type": "execute_result"
    }
   ],
   "source": [
    "scores = cross_val_score(lin_reg, housing_prepared, housing_labels, scoring=\"neg_mean_squared_error\", cv=10)\n",
    "pd.Series(np.sqrt(-scores)).describe()"
   ]
  },
  {
   "cell_type": "code",
   "execution_count": 92,
   "metadata": {
    "collapsed": false
   },
   "outputs": [
    {
     "data": {
      "text/plain": [
       "111094.6308539982"
      ]
     },
     "execution_count": 92,
     "metadata": {},
     "output_type": "execute_result"
    }
   ],
   "source": [
    "from sklearn.svm import SVR\n",
    "\n",
    "svm_reg = SVR(kernel=\"linear\")\n",
    "svm_reg.fit(housing_prepared, housing_labels)\n",
    "housing_predictions = svm_reg.predict(housing_prepared)\n",
    "svm_mse = mean_squared_error(housing_labels, housing_predictions)\n",
    "svm_rmse = np.sqrt(svm_mse)\n",
    "svm_rmse"
   ]
  },
  {
   "cell_type": "code",
   "execution_count": 93,
   "metadata": {
    "collapsed": false
   },
   "outputs": [
    {
     "data": {
      "text/plain": [
       "GridSearchCV(cv=5, error_score='raise',\n",
       "       estimator=RandomForestRegressor(bootstrap=True, criterion='mse', max_depth=None,\n",
       "           max_features='auto', max_leaf_nodes=None,\n",
       "           min_impurity_decrease=0.0, min_impurity_split=None,\n",
       "           min_samples_leaf=1, min_samples_split=2,\n",
       "           min_weight_fraction_leaf=0.0, n_estimators=10, n_jobs=1,\n",
       "           oob_score=False, random_state=42, verbose=0, warm_start=False),\n",
       "       fit_params=None, iid=True, n_jobs=1,\n",
       "       param_grid=[{'max_features': [2, 4, 6, 8], 'n_estimators': [3, 10, 30]}, {'max_features': [2, 3, 4], 'n_estimators': [3, 10], 'bootstrap': [False]}],\n",
       "       pre_dispatch='2*n_jobs', refit=True, return_train_score=True,\n",
       "       scoring='neg_mean_squared_error', verbose=0)"
      ]
     },
     "execution_count": 93,
     "metadata": {},
     "output_type": "execute_result"
    }
   ],
   "source": [
    "from sklearn.model_selection import GridSearchCV\n",
    "\n",
    "param_grid = [\n",
    "    # try 12 (3×4) combinations of hyperparameters\n",
    "    {'n_estimators': [3, 10, 30], 'max_features': [2, 4, 6, 8]},\n",
    "    # then try 6 (2×3) combinations with bootstrap set as False\n",
    "    {'bootstrap': [False], 'n_estimators': [3, 10], 'max_features': [2, 3, 4]},\n",
    "  ]\n",
    "\n",
    "forest_reg = RandomForestRegressor(random_state=42)\n",
    "# train across 5 folds, that's a total of (12+6)*5=90 rounds of training \n",
    "grid_search = GridSearchCV(forest_reg, param_grid, cv=5,\n",
    "                           scoring='neg_mean_squared_error')\n",
    "grid_search.fit(housing_prepared, housing_labels)"
   ]
  },
  {
   "cell_type": "markdown",
   "metadata": {},
   "source": [
    "The best hyperparameter combination found:"
   ]
  },
  {
   "cell_type": "code",
   "execution_count": 94,
   "metadata": {
    "collapsed": false
   },
   "outputs": [
    {
     "data": {
      "text/plain": [
       "{'max_features': 8, 'n_estimators': 30}"
      ]
     },
     "execution_count": 94,
     "metadata": {},
     "output_type": "execute_result"
    }
   ],
   "source": [
    "grid_search.best_params_"
   ]
  },
  {
   "cell_type": "code",
   "execution_count": 95,
   "metadata": {
    "collapsed": false
   },
   "outputs": [
    {
     "data": {
      "text/plain": [
       "RandomForestRegressor(bootstrap=True, criterion='mse', max_depth=None,\n",
       "           max_features=8, max_leaf_nodes=None, min_impurity_decrease=0.0,\n",
       "           min_impurity_split=None, min_samples_leaf=1,\n",
       "           min_samples_split=2, min_weight_fraction_leaf=0.0,\n",
       "           n_estimators=30, n_jobs=1, oob_score=False, random_state=42,\n",
       "           verbose=0, warm_start=False)"
      ]
     },
     "execution_count": 95,
     "metadata": {},
     "output_type": "execute_result"
    }
   ],
   "source": [
    "grid_search.best_estimator_"
   ]
  },
  {
   "cell_type": "markdown",
   "metadata": {},
   "source": [
    "Let's look at the score of each hyperparameter combination tested during the grid search:"
   ]
  },
  {
   "cell_type": "code",
   "execution_count": 96,
   "metadata": {
    "collapsed": false
   },
   "outputs": [
    {
     "name": "stdout",
     "output_type": "stream",
     "text": [
      "63647.854446 {'max_features': 2, 'n_estimators': 3}\n",
      "55611.5015988 {'max_features': 2, 'n_estimators': 10}\n",
      "53370.0640736 {'max_features': 2, 'n_estimators': 30}\n",
      "60959.1388585 {'max_features': 4, 'n_estimators': 3}\n",
      "52740.5841667 {'max_features': 4, 'n_estimators': 10}\n",
      "50374.1421461 {'max_features': 4, 'n_estimators': 30}\n",
      "58661.2866462 {'max_features': 6, 'n_estimators': 3}\n",
      "52009.9739798 {'max_features': 6, 'n_estimators': 10}\n",
      "50154.1177737 {'max_features': 6, 'n_estimators': 30}\n",
      "57865.3616801 {'max_features': 8, 'n_estimators': 3}\n",
      "51730.0755087 {'max_features': 8, 'n_estimators': 10}\n",
      "49694.8514333 {'max_features': 8, 'n_estimators': 30}\n",
      "62874.4073931 {'max_features': 2, 'n_estimators': 3, 'bootstrap': False}\n",
      "54643.4998083 {'max_features': 2, 'n_estimators': 10, 'bootstrap': False}\n",
      "59437.8922859 {'max_features': 3, 'n_estimators': 3, 'bootstrap': False}\n",
      "52735.3582936 {'max_features': 3, 'n_estimators': 10, 'bootstrap': False}\n",
      "57490.0168279 {'max_features': 4, 'n_estimators': 3, 'bootstrap': False}\n",
      "51008.2615672 {'max_features': 4, 'n_estimators': 10, 'bootstrap': False}\n"
     ]
    }
   ],
   "source": [
    "cvres = grid_search.cv_results_\n",
    "for mean_score, params in zip(cvres[\"mean_test_score\"], cvres[\"params\"]):\n",
    "    print(np.sqrt(-mean_score), params)"
   ]
  },
  {
   "cell_type": "code",
   "execution_count": 97,
   "metadata": {
    "collapsed": false
   },
   "outputs": [
    {
     "data": {
      "text/html": [
       "<div>\n",
       "<style>\n",
       "    .dataframe thead tr:only-child th {\n",
       "        text-align: right;\n",
       "    }\n",
       "\n",
       "    .dataframe thead th {\n",
       "        text-align: left;\n",
       "    }\n",
       "\n",
       "    .dataframe tbody tr th {\n",
       "        vertical-align: top;\n",
       "    }\n",
       "</style>\n",
       "<table border=\"1\" class=\"dataframe\">\n",
       "  <thead>\n",
       "    <tr style=\"text-align: right;\">\n",
       "      <th></th>\n",
       "      <th>mean_fit_time</th>\n",
       "      <th>mean_score_time</th>\n",
       "      <th>mean_test_score</th>\n",
       "      <th>mean_train_score</th>\n",
       "      <th>param_bootstrap</th>\n",
       "      <th>param_max_features</th>\n",
       "      <th>param_n_estimators</th>\n",
       "      <th>params</th>\n",
       "      <th>rank_test_score</th>\n",
       "      <th>split0_test_score</th>\n",
       "      <th>...</th>\n",
       "      <th>split2_test_score</th>\n",
       "      <th>split2_train_score</th>\n",
       "      <th>split3_test_score</th>\n",
       "      <th>split3_train_score</th>\n",
       "      <th>split4_test_score</th>\n",
       "      <th>split4_train_score</th>\n",
       "      <th>std_fit_time</th>\n",
       "      <th>std_score_time</th>\n",
       "      <th>std_test_score</th>\n",
       "      <th>std_train_score</th>\n",
       "    </tr>\n",
       "  </thead>\n",
       "  <tbody>\n",
       "    <tr>\n",
       "      <th>0</th>\n",
       "      <td>0.045302</td>\n",
       "      <td>0.002430</td>\n",
       "      <td>-4.051049e+09</td>\n",
       "      <td>-1.106013e+09</td>\n",
       "      <td>NaN</td>\n",
       "      <td>2</td>\n",
       "      <td>3</td>\n",
       "      <td>{'max_features': 2, 'n_estimators': 3}</td>\n",
       "      <td>18</td>\n",
       "      <td>-3.850668e+09</td>\n",
       "      <td>...</td>\n",
       "      <td>-4.194135e+09</td>\n",
       "      <td>-1.116843e+09</td>\n",
       "      <td>-3.906732e+09</td>\n",
       "      <td>-1.112813e+09</td>\n",
       "      <td>-4.169669e+09</td>\n",
       "      <td>-1.129842e+09</td>\n",
       "      <td>0.001158</td>\n",
       "      <td>0.000211</td>\n",
       "      <td>1.431223e+08</td>\n",
       "      <td>2.173798e+07</td>\n",
       "    </tr>\n",
       "    <tr>\n",
       "      <th>1</th>\n",
       "      <td>0.145982</td>\n",
       "      <td>0.007629</td>\n",
       "      <td>-3.092639e+09</td>\n",
       "      <td>-5.819353e+08</td>\n",
       "      <td>NaN</td>\n",
       "      <td>2</td>\n",
       "      <td>10</td>\n",
       "      <td>{'max_features': 2, 'n_estimators': 10}</td>\n",
       "      <td>11</td>\n",
       "      <td>-3.052380e+09</td>\n",
       "      <td>...</td>\n",
       "      <td>-3.124982e+09</td>\n",
       "      <td>-5.780873e+08</td>\n",
       "      <td>-2.865117e+09</td>\n",
       "      <td>-5.713421e+08</td>\n",
       "      <td>-3.169914e+09</td>\n",
       "      <td>-5.797944e+08</td>\n",
       "      <td>0.000994</td>\n",
       "      <td>0.000199</td>\n",
       "      <td>1.306954e+08</td>\n",
       "      <td>7.584886e+06</td>\n",
       "    </tr>\n",
       "    <tr>\n",
       "      <th>2</th>\n",
       "      <td>0.447888</td>\n",
       "      <td>0.023658</td>\n",
       "      <td>-2.848364e+09</td>\n",
       "      <td>-4.396234e+08</td>\n",
       "      <td>NaN</td>\n",
       "      <td>2</td>\n",
       "      <td>30</td>\n",
       "      <td>{'max_features': 2, 'n_estimators': 30}</td>\n",
       "      <td>9</td>\n",
       "      <td>-2.692176e+09</td>\n",
       "      <td>...</td>\n",
       "      <td>-2.943808e+09</td>\n",
       "      <td>-4.374429e+08</td>\n",
       "      <td>-2.619893e+09</td>\n",
       "      <td>-4.374715e+08</td>\n",
       "      <td>-2.968460e+09</td>\n",
       "      <td>-4.451903e+08</td>\n",
       "      <td>0.002696</td>\n",
       "      <td>0.000297</td>\n",
       "      <td>1.604534e+08</td>\n",
       "      <td>2.883885e+06</td>\n",
       "    </tr>\n",
       "    <tr>\n",
       "      <th>3</th>\n",
       "      <td>0.075246</td>\n",
       "      <td>0.002313</td>\n",
       "      <td>-3.716017e+09</td>\n",
       "      <td>-9.850011e+08</td>\n",
       "      <td>NaN</td>\n",
       "      <td>4</td>\n",
       "      <td>3</td>\n",
       "      <td>{'max_features': 4, 'n_estimators': 3}</td>\n",
       "      <td>16</td>\n",
       "      <td>-3.729600e+09</td>\n",
       "      <td>...</td>\n",
       "      <td>-3.736527e+09</td>\n",
       "      <td>-9.172986e+08</td>\n",
       "      <td>-3.404974e+09</td>\n",
       "      <td>-1.035901e+09</td>\n",
       "      <td>-3.914186e+09</td>\n",
       "      <td>-9.711998e+08</td>\n",
       "      <td>0.000913</td>\n",
       "      <td>0.000055</td>\n",
       "      <td>1.690029e+08</td>\n",
       "      <td>4.047487e+07</td>\n",
       "    </tr>\n",
       "    <tr>\n",
       "      <th>4</th>\n",
       "      <td>0.245712</td>\n",
       "      <td>0.007718</td>\n",
       "      <td>-2.781569e+09</td>\n",
       "      <td>-5.160154e+08</td>\n",
       "      <td>NaN</td>\n",
       "      <td>4</td>\n",
       "      <td>10</td>\n",
       "      <td>{'max_features': 4, 'n_estimators': 10}</td>\n",
       "      <td>8</td>\n",
       "      <td>-2.667093e+09</td>\n",
       "      <td>...</td>\n",
       "      <td>-2.891599e+09</td>\n",
       "      <td>-4.960301e+08</td>\n",
       "      <td>-2.613393e+09</td>\n",
       "      <td>-5.422542e+08</td>\n",
       "      <td>-2.949550e+09</td>\n",
       "      <td>-5.158794e+08</td>\n",
       "      <td>0.001580</td>\n",
       "      <td>0.000156</td>\n",
       "      <td>1.278498e+08</td>\n",
       "      <td>1.498960e+07</td>\n",
       "    </tr>\n",
       "    <tr>\n",
       "      <th>5</th>\n",
       "      <td>0.734909</td>\n",
       "      <td>0.023360</td>\n",
       "      <td>-2.537554e+09</td>\n",
       "      <td>-3.878685e+08</td>\n",
       "      <td>NaN</td>\n",
       "      <td>4</td>\n",
       "      <td>30</td>\n",
       "      <td>{'max_features': 4, 'n_estimators': 30}</td>\n",
       "      <td>3</td>\n",
       "      <td>-2.387199e+09</td>\n",
       "      <td>...</td>\n",
       "      <td>-2.663178e+09</td>\n",
       "      <td>-3.789712e+08</td>\n",
       "      <td>-2.397951e+09</td>\n",
       "      <td>-4.036920e+08</td>\n",
       "      <td>-2.649850e+09</td>\n",
       "      <td>-3.846171e+08</td>\n",
       "      <td>0.004653</td>\n",
       "      <td>0.000110</td>\n",
       "      <td>1.209935e+08</td>\n",
       "      <td>8.424973e+06</td>\n",
       "    </tr>\n",
       "    <tr>\n",
       "      <th>6</th>\n",
       "      <td>0.103654</td>\n",
       "      <td>0.002362</td>\n",
       "      <td>-3.441147e+09</td>\n",
       "      <td>-9.030212e+08</td>\n",
       "      <td>NaN</td>\n",
       "      <td>6</td>\n",
       "      <td>3</td>\n",
       "      <td>{'max_features': 6, 'n_estimators': 3}</td>\n",
       "      <td>14</td>\n",
       "      <td>-3.119576e+09</td>\n",
       "      <td>...</td>\n",
       "      <td>-3.587747e+09</td>\n",
       "      <td>-9.360639e+08</td>\n",
       "      <td>-3.331544e+09</td>\n",
       "      <td>-9.025026e+08</td>\n",
       "      <td>-3.577062e+09</td>\n",
       "      <td>-8.612945e+08</td>\n",
       "      <td>0.003427</td>\n",
       "      <td>0.000044</td>\n",
       "      <td>1.884229e+08</td>\n",
       "      <td>2.639683e+07</td>\n",
       "    </tr>\n",
       "    <tr>\n",
       "      <th>7</th>\n",
       "      <td>0.342629</td>\n",
       "      <td>0.007915</td>\n",
       "      <td>-2.705037e+09</td>\n",
       "      <td>-5.014210e+08</td>\n",
       "      <td>NaN</td>\n",
       "      <td>6</td>\n",
       "      <td>10</td>\n",
       "      <td>{'max_features': 6, 'n_estimators': 10}</td>\n",
       "      <td>6</td>\n",
       "      <td>-2.553481e+09</td>\n",
       "      <td>...</td>\n",
       "      <td>-2.762945e+09</td>\n",
       "      <td>-4.996537e+08</td>\n",
       "      <td>-2.519522e+09</td>\n",
       "      <td>-4.989516e+08</td>\n",
       "      <td>-2.906270e+09</td>\n",
       "      <td>-5.063617e+08</td>\n",
       "      <td>0.005475</td>\n",
       "      <td>0.000176</td>\n",
       "      <td>1.464963e+08</td>\n",
       "      <td>3.357661e+06</td>\n",
       "    </tr>\n",
       "    <tr>\n",
       "      <th>8</th>\n",
       "      <td>1.029902</td>\n",
       "      <td>0.023183</td>\n",
       "      <td>-2.515436e+09</td>\n",
       "      <td>-3.840197e+08</td>\n",
       "      <td>NaN</td>\n",
       "      <td>6</td>\n",
       "      <td>30</td>\n",
       "      <td>{'max_features': 6, 'n_estimators': 30}</td>\n",
       "      <td>2</td>\n",
       "      <td>-2.371924e+09</td>\n",
       "      <td>...</td>\n",
       "      <td>-2.607962e+09</td>\n",
       "      <td>-3.805596e+08</td>\n",
       "      <td>-2.351220e+09</td>\n",
       "      <td>-3.856159e+08</td>\n",
       "      <td>-2.662399e+09</td>\n",
       "      <td>-3.904866e+08</td>\n",
       "      <td>0.004482</td>\n",
       "      <td>0.000140</td>\n",
       "      <td>1.283580e+08</td>\n",
       "      <td>3.796810e+06</td>\n",
       "    </tr>\n",
       "    <tr>\n",
       "      <th>9</th>\n",
       "      <td>0.130636</td>\n",
       "      <td>0.002393</td>\n",
       "      <td>-3.348400e+09</td>\n",
       "      <td>-8.884890e+08</td>\n",
       "      <td>NaN</td>\n",
       "      <td>8</td>\n",
       "      <td>3</td>\n",
       "      <td>{'max_features': 8, 'n_estimators': 3}</td>\n",
       "      <td>13</td>\n",
       "      <td>-3.351347e+09</td>\n",
       "      <td>...</td>\n",
       "      <td>-3.396841e+09</td>\n",
       "      <td>-8.596460e+08</td>\n",
       "      <td>-3.131753e+09</td>\n",
       "      <td>-8.893698e+08</td>\n",
       "      <td>-3.509451e+09</td>\n",
       "      <td>-9.146734e+08</td>\n",
       "      <td>0.000712</td>\n",
       "      <td>0.000129</td>\n",
       "      <td>1.226683e+08</td>\n",
       "      <td>2.730057e+07</td>\n",
       "    </tr>\n",
       "    <tr>\n",
       "      <th>10</th>\n",
       "      <td>0.441364</td>\n",
       "      <td>0.007754</td>\n",
       "      <td>-2.676001e+09</td>\n",
       "      <td>-4.923247e+08</td>\n",
       "      <td>NaN</td>\n",
       "      <td>8</td>\n",
       "      <td>10</td>\n",
       "      <td>{'max_features': 8, 'n_estimators': 10}</td>\n",
       "      <td>5</td>\n",
       "      <td>-2.572358e+09</td>\n",
       "      <td>...</td>\n",
       "      <td>-2.844608e+09</td>\n",
       "      <td>-4.730979e+08</td>\n",
       "      <td>-2.462797e+09</td>\n",
       "      <td>-5.154156e+08</td>\n",
       "      <td>-2.777049e+09</td>\n",
       "      <td>-4.979127e+08</td>\n",
       "      <td>0.003378</td>\n",
       "      <td>0.000204</td>\n",
       "      <td>1.393253e+08</td>\n",
       "      <td>1.446900e+07</td>\n",
       "    </tr>\n",
       "    <tr>\n",
       "      <th>11</th>\n",
       "      <td>1.332903</td>\n",
       "      <td>0.023311</td>\n",
       "      <td>-2.469578e+09</td>\n",
       "      <td>-3.809175e+08</td>\n",
       "      <td>NaN</td>\n",
       "      <td>8</td>\n",
       "      <td>30</td>\n",
       "      <td>{'max_features': 8, 'n_estimators': 30}</td>\n",
       "      <td>1</td>\n",
       "      <td>-2.358884e+09</td>\n",
       "      <td>...</td>\n",
       "      <td>-2.591134e+09</td>\n",
       "      <td>-3.772512e+08</td>\n",
       "      <td>-2.319816e+09</td>\n",
       "      <td>-3.881153e+08</td>\n",
       "      <td>-2.528200e+09</td>\n",
       "      <td>-3.807496e+08</td>\n",
       "      <td>0.006315</td>\n",
       "      <td>0.000131</td>\n",
       "      <td>1.089395e+08</td>\n",
       "      <td>4.853344e+06</td>\n",
       "    </tr>\n",
       "    <tr>\n",
       "      <th>12</th>\n",
       "      <td>0.070815</td>\n",
       "      <td>0.002721</td>\n",
       "      <td>-3.953191e+09</td>\n",
       "      <td>0.000000e+00</td>\n",
       "      <td>False</td>\n",
       "      <td>2</td>\n",
       "      <td>3</td>\n",
       "      <td>{'max_features': 2, 'n_estimators': 3, 'bootst...</td>\n",
       "      <td>17</td>\n",
       "      <td>-3.792367e+09</td>\n",
       "      <td>...</td>\n",
       "      <td>-4.050371e+09</td>\n",
       "      <td>-0.000000e+00</td>\n",
       "      <td>-3.668520e+09</td>\n",
       "      <td>-0.000000e+00</td>\n",
       "      <td>-4.087237e+09</td>\n",
       "      <td>-0.000000e+00</td>\n",
       "      <td>0.001584</td>\n",
       "      <td>0.000097</td>\n",
       "      <td>1.898516e+08</td>\n",
       "      <td>0.000000e+00</td>\n",
       "    </tr>\n",
       "    <tr>\n",
       "      <th>13</th>\n",
       "      <td>0.235981</td>\n",
       "      <td>0.009598</td>\n",
       "      <td>-2.985912e+09</td>\n",
       "      <td>-6.056027e-01</td>\n",
       "      <td>False</td>\n",
       "      <td>2</td>\n",
       "      <td>10</td>\n",
       "      <td>{'max_features': 2, 'n_estimators': 10, 'boots...</td>\n",
       "      <td>10</td>\n",
       "      <td>-2.808029e+09</td>\n",
       "      <td>...</td>\n",
       "      <td>-3.125519e+09</td>\n",
       "      <td>-0.000000e+00</td>\n",
       "      <td>-2.788623e+09</td>\n",
       "      <td>-0.000000e+00</td>\n",
       "      <td>-3.100391e+09</td>\n",
       "      <td>-2.967449e+00</td>\n",
       "      <td>0.002296</td>\n",
       "      <td>0.000120</td>\n",
       "      <td>1.535103e+08</td>\n",
       "      <td>1.181156e+00</td>\n",
       "    </tr>\n",
       "    <tr>\n",
       "      <th>14</th>\n",
       "      <td>0.095853</td>\n",
       "      <td>0.002854</td>\n",
       "      <td>-3.532863e+09</td>\n",
       "      <td>-1.214568e+01</td>\n",
       "      <td>False</td>\n",
       "      <td>3</td>\n",
       "      <td>3</td>\n",
       "      <td>{'max_features': 3, 'n_estimators': 3, 'bootst...</td>\n",
       "      <td>15</td>\n",
       "      <td>-3.604830e+09</td>\n",
       "      <td>...</td>\n",
       "      <td>-3.552984e+09</td>\n",
       "      <td>-0.000000e+00</td>\n",
       "      <td>-3.610963e+09</td>\n",
       "      <td>-0.000000e+00</td>\n",
       "      <td>-3.455760e+09</td>\n",
       "      <td>-6.072840e+01</td>\n",
       "      <td>0.001642</td>\n",
       "      <td>0.000212</td>\n",
       "      <td>7.251650e+07</td>\n",
       "      <td>2.429136e+01</td>\n",
       "    </tr>\n",
       "    <tr>\n",
       "      <th>15</th>\n",
       "      <td>0.315569</td>\n",
       "      <td>0.009573</td>\n",
       "      <td>-2.781018e+09</td>\n",
       "      <td>-5.272080e+00</td>\n",
       "      <td>False</td>\n",
       "      <td>3</td>\n",
       "      <td>10</td>\n",
       "      <td>{'max_features': 3, 'n_estimators': 10, 'boots...</td>\n",
       "      <td>7</td>\n",
       "      <td>-2.756941e+09</td>\n",
       "      <td>...</td>\n",
       "      <td>-2.831963e+09</td>\n",
       "      <td>-0.000000e+00</td>\n",
       "      <td>-2.672258e+09</td>\n",
       "      <td>-0.000000e+00</td>\n",
       "      <td>-2.793018e+09</td>\n",
       "      <td>-5.465556e+00</td>\n",
       "      <td>0.002867</td>\n",
       "      <td>0.000179</td>\n",
       "      <td>6.329307e+07</td>\n",
       "      <td>8.093117e+00</td>\n",
       "    </tr>\n",
       "    <tr>\n",
       "      <th>16</th>\n",
       "      <td>0.120213</td>\n",
       "      <td>0.003053</td>\n",
       "      <td>-3.305102e+09</td>\n",
       "      <td>0.000000e+00</td>\n",
       "      <td>False</td>\n",
       "      <td>4</td>\n",
       "      <td>3</td>\n",
       "      <td>{'max_features': 4, 'n_estimators': 3, 'bootst...</td>\n",
       "      <td>12</td>\n",
       "      <td>-3.143457e+09</td>\n",
       "      <td>...</td>\n",
       "      <td>-3.440323e+09</td>\n",
       "      <td>-0.000000e+00</td>\n",
       "      <td>-3.047980e+09</td>\n",
       "      <td>-0.000000e+00</td>\n",
       "      <td>-3.337950e+09</td>\n",
       "      <td>-0.000000e+00</td>\n",
       "      <td>0.002222</td>\n",
       "      <td>0.000241</td>\n",
       "      <td>1.867866e+08</td>\n",
       "      <td>0.000000e+00</td>\n",
       "    </tr>\n",
       "    <tr>\n",
       "      <th>17</th>\n",
       "      <td>0.402905</td>\n",
       "      <td>0.009938</td>\n",
       "      <td>-2.601843e+09</td>\n",
       "      <td>-3.028238e-03</td>\n",
       "      <td>False</td>\n",
       "      <td>4</td>\n",
       "      <td>10</td>\n",
       "      <td>{'max_features': 4, 'n_estimators': 10, 'boots...</td>\n",
       "      <td>4</td>\n",
       "      <td>-2.531436e+09</td>\n",
       "      <td>...</td>\n",
       "      <td>-2.606596e+09</td>\n",
       "      <td>-0.000000e+00</td>\n",
       "      <td>-2.437626e+09</td>\n",
       "      <td>-0.000000e+00</td>\n",
       "      <td>-2.726341e+09</td>\n",
       "      <td>-0.000000e+00</td>\n",
       "      <td>0.000843</td>\n",
       "      <td>0.000070</td>\n",
       "      <td>1.082086e+08</td>\n",
       "      <td>6.056477e-03</td>\n",
       "    </tr>\n",
       "  </tbody>\n",
       "</table>\n",
       "<p>18 rows × 23 columns</p>\n",
       "</div>"
      ],
      "text/plain": [
       "    mean_fit_time  mean_score_time  mean_test_score  mean_train_score  \\\n",
       "0        0.045302         0.002430    -4.051049e+09     -1.106013e+09   \n",
       "1        0.145982         0.007629    -3.092639e+09     -5.819353e+08   \n",
       "2        0.447888         0.023658    -2.848364e+09     -4.396234e+08   \n",
       "3        0.075246         0.002313    -3.716017e+09     -9.850011e+08   \n",
       "4        0.245712         0.007718    -2.781569e+09     -5.160154e+08   \n",
       "5        0.734909         0.023360    -2.537554e+09     -3.878685e+08   \n",
       "6        0.103654         0.002362    -3.441147e+09     -9.030212e+08   \n",
       "7        0.342629         0.007915    -2.705037e+09     -5.014210e+08   \n",
       "8        1.029902         0.023183    -2.515436e+09     -3.840197e+08   \n",
       "9        0.130636         0.002393    -3.348400e+09     -8.884890e+08   \n",
       "10       0.441364         0.007754    -2.676001e+09     -4.923247e+08   \n",
       "11       1.332903         0.023311    -2.469578e+09     -3.809175e+08   \n",
       "12       0.070815         0.002721    -3.953191e+09      0.000000e+00   \n",
       "13       0.235981         0.009598    -2.985912e+09     -6.056027e-01   \n",
       "14       0.095853         0.002854    -3.532863e+09     -1.214568e+01   \n",
       "15       0.315569         0.009573    -2.781018e+09     -5.272080e+00   \n",
       "16       0.120213         0.003053    -3.305102e+09      0.000000e+00   \n",
       "17       0.402905         0.009938    -2.601843e+09     -3.028238e-03   \n",
       "\n",
       "   param_bootstrap param_max_features param_n_estimators  \\\n",
       "0              NaN                  2                  3   \n",
       "1              NaN                  2                 10   \n",
       "2              NaN                  2                 30   \n",
       "3              NaN                  4                  3   \n",
       "4              NaN                  4                 10   \n",
       "5              NaN                  4                 30   \n",
       "6              NaN                  6                  3   \n",
       "7              NaN                  6                 10   \n",
       "8              NaN                  6                 30   \n",
       "9              NaN                  8                  3   \n",
       "10             NaN                  8                 10   \n",
       "11             NaN                  8                 30   \n",
       "12           False                  2                  3   \n",
       "13           False                  2                 10   \n",
       "14           False                  3                  3   \n",
       "15           False                  3                 10   \n",
       "16           False                  4                  3   \n",
       "17           False                  4                 10   \n",
       "\n",
       "                                               params  rank_test_score  \\\n",
       "0              {'max_features': 2, 'n_estimators': 3}               18   \n",
       "1             {'max_features': 2, 'n_estimators': 10}               11   \n",
       "2             {'max_features': 2, 'n_estimators': 30}                9   \n",
       "3              {'max_features': 4, 'n_estimators': 3}               16   \n",
       "4             {'max_features': 4, 'n_estimators': 10}                8   \n",
       "5             {'max_features': 4, 'n_estimators': 30}                3   \n",
       "6              {'max_features': 6, 'n_estimators': 3}               14   \n",
       "7             {'max_features': 6, 'n_estimators': 10}                6   \n",
       "8             {'max_features': 6, 'n_estimators': 30}                2   \n",
       "9              {'max_features': 8, 'n_estimators': 3}               13   \n",
       "10            {'max_features': 8, 'n_estimators': 10}                5   \n",
       "11            {'max_features': 8, 'n_estimators': 30}                1   \n",
       "12  {'max_features': 2, 'n_estimators': 3, 'bootst...               17   \n",
       "13  {'max_features': 2, 'n_estimators': 10, 'boots...               10   \n",
       "14  {'max_features': 3, 'n_estimators': 3, 'bootst...               15   \n",
       "15  {'max_features': 3, 'n_estimators': 10, 'boots...                7   \n",
       "16  {'max_features': 4, 'n_estimators': 3, 'bootst...               12   \n",
       "17  {'max_features': 4, 'n_estimators': 10, 'boots...                4   \n",
       "\n",
       "    split0_test_score       ...         split2_test_score  split2_train_score  \\\n",
       "0       -3.850668e+09       ...             -4.194135e+09       -1.116843e+09   \n",
       "1       -3.052380e+09       ...             -3.124982e+09       -5.780873e+08   \n",
       "2       -2.692176e+09       ...             -2.943808e+09       -4.374429e+08   \n",
       "3       -3.729600e+09       ...             -3.736527e+09       -9.172986e+08   \n",
       "4       -2.667093e+09       ...             -2.891599e+09       -4.960301e+08   \n",
       "5       -2.387199e+09       ...             -2.663178e+09       -3.789712e+08   \n",
       "6       -3.119576e+09       ...             -3.587747e+09       -9.360639e+08   \n",
       "7       -2.553481e+09       ...             -2.762945e+09       -4.996537e+08   \n",
       "8       -2.371924e+09       ...             -2.607962e+09       -3.805596e+08   \n",
       "9       -3.351347e+09       ...             -3.396841e+09       -8.596460e+08   \n",
       "10      -2.572358e+09       ...             -2.844608e+09       -4.730979e+08   \n",
       "11      -2.358884e+09       ...             -2.591134e+09       -3.772512e+08   \n",
       "12      -3.792367e+09       ...             -4.050371e+09       -0.000000e+00   \n",
       "13      -2.808029e+09       ...             -3.125519e+09       -0.000000e+00   \n",
       "14      -3.604830e+09       ...             -3.552984e+09       -0.000000e+00   \n",
       "15      -2.756941e+09       ...             -2.831963e+09       -0.000000e+00   \n",
       "16      -3.143457e+09       ...             -3.440323e+09       -0.000000e+00   \n",
       "17      -2.531436e+09       ...             -2.606596e+09       -0.000000e+00   \n",
       "\n",
       "    split3_test_score  split3_train_score  split4_test_score  \\\n",
       "0       -3.906732e+09       -1.112813e+09      -4.169669e+09   \n",
       "1       -2.865117e+09       -5.713421e+08      -3.169914e+09   \n",
       "2       -2.619893e+09       -4.374715e+08      -2.968460e+09   \n",
       "3       -3.404974e+09       -1.035901e+09      -3.914186e+09   \n",
       "4       -2.613393e+09       -5.422542e+08      -2.949550e+09   \n",
       "5       -2.397951e+09       -4.036920e+08      -2.649850e+09   \n",
       "6       -3.331544e+09       -9.025026e+08      -3.577062e+09   \n",
       "7       -2.519522e+09       -4.989516e+08      -2.906270e+09   \n",
       "8       -2.351220e+09       -3.856159e+08      -2.662399e+09   \n",
       "9       -3.131753e+09       -8.893698e+08      -3.509451e+09   \n",
       "10      -2.462797e+09       -5.154156e+08      -2.777049e+09   \n",
       "11      -2.319816e+09       -3.881153e+08      -2.528200e+09   \n",
       "12      -3.668520e+09       -0.000000e+00      -4.087237e+09   \n",
       "13      -2.788623e+09       -0.000000e+00      -3.100391e+09   \n",
       "14      -3.610963e+09       -0.000000e+00      -3.455760e+09   \n",
       "15      -2.672258e+09       -0.000000e+00      -2.793018e+09   \n",
       "16      -3.047980e+09       -0.000000e+00      -3.337950e+09   \n",
       "17      -2.437626e+09       -0.000000e+00      -2.726341e+09   \n",
       "\n",
       "    split4_train_score  std_fit_time  std_score_time  std_test_score  \\\n",
       "0        -1.129842e+09      0.001158        0.000211    1.431223e+08   \n",
       "1        -5.797944e+08      0.000994        0.000199    1.306954e+08   \n",
       "2        -4.451903e+08      0.002696        0.000297    1.604534e+08   \n",
       "3        -9.711998e+08      0.000913        0.000055    1.690029e+08   \n",
       "4        -5.158794e+08      0.001580        0.000156    1.278498e+08   \n",
       "5        -3.846171e+08      0.004653        0.000110    1.209935e+08   \n",
       "6        -8.612945e+08      0.003427        0.000044    1.884229e+08   \n",
       "7        -5.063617e+08      0.005475        0.000176    1.464963e+08   \n",
       "8        -3.904866e+08      0.004482        0.000140    1.283580e+08   \n",
       "9        -9.146734e+08      0.000712        0.000129    1.226683e+08   \n",
       "10       -4.979127e+08      0.003378        0.000204    1.393253e+08   \n",
       "11       -3.807496e+08      0.006315        0.000131    1.089395e+08   \n",
       "12       -0.000000e+00      0.001584        0.000097    1.898516e+08   \n",
       "13       -2.967449e+00      0.002296        0.000120    1.535103e+08   \n",
       "14       -6.072840e+01      0.001642        0.000212    7.251650e+07   \n",
       "15       -5.465556e+00      0.002867        0.000179    6.329307e+07   \n",
       "16       -0.000000e+00      0.002222        0.000241    1.867866e+08   \n",
       "17       -0.000000e+00      0.000843        0.000070    1.082086e+08   \n",
       "\n",
       "    std_train_score  \n",
       "0      2.173798e+07  \n",
       "1      7.584886e+06  \n",
       "2      2.883885e+06  \n",
       "3      4.047487e+07  \n",
       "4      1.498960e+07  \n",
       "5      8.424973e+06  \n",
       "6      2.639683e+07  \n",
       "7      3.357661e+06  \n",
       "8      3.796810e+06  \n",
       "9      2.730057e+07  \n",
       "10     1.446900e+07  \n",
       "11     4.853344e+06  \n",
       "12     0.000000e+00  \n",
       "13     1.181156e+00  \n",
       "14     2.429136e+01  \n",
       "15     8.093117e+00  \n",
       "16     0.000000e+00  \n",
       "17     6.056477e-03  \n",
       "\n",
       "[18 rows x 23 columns]"
      ]
     },
     "execution_count": 97,
     "metadata": {},
     "output_type": "execute_result"
    }
   ],
   "source": [
    "pd.DataFrame(grid_search.cv_results_)"
   ]
  },
  {
   "cell_type": "code",
   "execution_count": 98,
   "metadata": {
    "collapsed": false
   },
   "outputs": [
    {
     "data": {
      "text/plain": [
       "RandomizedSearchCV(cv=5, error_score='raise',\n",
       "          estimator=RandomForestRegressor(bootstrap=True, criterion='mse', max_depth=None,\n",
       "           max_features='auto', max_leaf_nodes=None,\n",
       "           min_impurity_decrease=0.0, min_impurity_split=None,\n",
       "           min_samples_leaf=1, min_samples_split=2,\n",
       "           min_weight_fraction_leaf=0.0, n_estimators=10, n_jobs=1,\n",
       "           oob_score=False, random_state=42, verbose=0, warm_start=False),\n",
       "          fit_params=None, iid=True, n_iter=10, n_jobs=1,\n",
       "          param_distributions={'max_features': <scipy.stats._distn_infrastructure.rv_frozen object at 0x7f26e6519ac8>, 'n_estimators': <scipy.stats._distn_infrastructure.rv_frozen object at 0x7f26de22e080>},\n",
       "          pre_dispatch='2*n_jobs', random_state=42, refit=True,\n",
       "          return_train_score=True, scoring='neg_mean_squared_error',\n",
       "          verbose=0)"
      ]
     },
     "execution_count": 98,
     "metadata": {},
     "output_type": "execute_result"
    }
   ],
   "source": [
    "from sklearn.model_selection import RandomizedSearchCV\n",
    "from scipy.stats import randint\n",
    "\n",
    "param_distribs = {\n",
    "        'n_estimators': randint(low=1, high=200),\n",
    "        'max_features': randint(low=1, high=8),\n",
    "    }\n",
    "\n",
    "forest_reg = RandomForestRegressor(random_state=42)\n",
    "rnd_search = RandomizedSearchCV(forest_reg, param_distributions=param_distribs,\n",
    "                                n_iter=10, cv=5, scoring='neg_mean_squared_error', random_state=42)\n",
    "rnd_search.fit(housing_prepared, housing_labels)"
   ]
  },
  {
   "cell_type": "code",
   "execution_count": 99,
   "metadata": {
    "collapsed": false
   },
   "outputs": [
    {
     "name": "stdout",
     "output_type": "stream",
     "text": [
      "49147.1524172 {'max_features': 7, 'n_estimators': 180}\n",
      "51396.8768969 {'max_features': 5, 'n_estimators': 15}\n",
      "50797.0573732 {'max_features': 3, 'n_estimators': 72}\n",
      "50840.744514 {'max_features': 5, 'n_estimators': 21}\n",
      "49276.1753033 {'max_features': 7, 'n_estimators': 122}\n",
      "50775.4633168 {'max_features': 3, 'n_estimators': 75}\n",
      "50681.383925 {'max_features': 3, 'n_estimators': 88}\n",
      "49612.1525305 {'max_features': 5, 'n_estimators': 100}\n",
      "50473.0175142 {'max_features': 3, 'n_estimators': 150}\n",
      "64458.2538503 {'max_features': 5, 'n_estimators': 2}\n"
     ]
    }
   ],
   "source": [
    "cvres = rnd_search.cv_results_\n",
    "for mean_score, params in zip(cvres[\"mean_test_score\"], cvres[\"params\"]):\n",
    "    print(np.sqrt(-mean_score), params)"
   ]
  },
  {
   "cell_type": "code",
   "execution_count": 100,
   "metadata": {
    "collapsed": false
   },
   "outputs": [
    {
     "data": {
      "text/plain": [
       "array([  7.33442355e-02,   6.29090705e-02,   4.11437985e-02,\n",
       "         1.46726854e-02,   1.41064835e-02,   1.48742809e-02,\n",
       "         1.42575993e-02,   3.66158981e-01,   5.64191792e-02,\n",
       "         1.08792957e-01,   5.33510773e-02,   1.03114883e-02,\n",
       "         1.64780994e-01,   6.02803867e-05,   1.96041560e-03,\n",
       "         2.85647464e-03])"
      ]
     },
     "execution_count": 100,
     "metadata": {},
     "output_type": "execute_result"
    }
   ],
   "source": [
    "feature_importances = grid_search.best_estimator_.feature_importances_\n",
    "feature_importances"
   ]
  },
  {
   "cell_type": "code",
   "execution_count": 101,
   "metadata": {
    "collapsed": false
   },
   "outputs": [
    {
     "data": {
      "text/plain": [
       "[(0.36615898061813418, 'median_income'),\n",
       " (0.16478099356159051, 'INLAND'),\n",
       " (0.10879295677551573, 'pop_per_hhold'),\n",
       " (0.073344235516012421, 'longitude'),\n",
       " (0.062909070482620302, 'latitude'),\n",
       " (0.056419179181954007, 'rooms_per_hhold'),\n",
       " (0.053351077347675809, 'bedrooms_per_room'),\n",
       " (0.041143798478729635, 'housing_median_age'),\n",
       " (0.014874280890402767, 'population'),\n",
       " (0.014672685420543237, 'total_rooms'),\n",
       " (0.014257599323407807, 'households'),\n",
       " (0.014106483453584102, 'total_bedrooms'),\n",
       " (0.010311488326303787, '<1H OCEAN'),\n",
       " (0.0028564746373201579, 'NEAR OCEAN'),\n",
       " (0.0019604155994780701, 'NEAR BAY'),\n",
       " (6.0280386727365991e-05, 'ISLAND')]"
      ]
     },
     "execution_count": 101,
     "metadata": {},
     "output_type": "execute_result"
    }
   ],
   "source": [
    "extra_attribs = [\"rooms_per_hhold\", \"pop_per_hhold\", \"bedrooms_per_room\"]\n",
    "cat_encoder = cat_pipeline.named_steps[\"cat_encoder\"]\n",
    "cat_one_hot_attribs = list(cat_encoder.categories_[0])\n",
    "attributes = num_attribs + extra_attribs + cat_one_hot_attribs\n",
    "sorted(zip(feature_importances, attributes), reverse=True)"
   ]
  },
  {
   "cell_type": "code",
   "execution_count": 102,
   "metadata": {
    "collapsed": true
   },
   "outputs": [],
   "source": [
    "final_model = grid_search.best_estimator_\n",
    "\n",
    "X_test = strat_test_set.drop(\"median_house_value\", axis=1)\n",
    "y_test = strat_test_set[\"median_house_value\"].copy()\n",
    "\n",
    "X_test_prepared = full_pipeline.transform(X_test)\n",
    "final_predictions = final_model.predict(X_test_prepared)\n",
    "\n",
    "final_mse = mean_squared_error(y_test, final_predictions)\n",
    "final_rmse = np.sqrt(final_mse)"
   ]
  },
  {
   "cell_type": "code",
   "execution_count": 103,
   "metadata": {
    "collapsed": false
   },
   "outputs": [
    {
     "data": {
      "text/plain": [
       "47766.003966433083"
      ]
     },
     "execution_count": 103,
     "metadata": {},
     "output_type": "execute_result"
    }
   ],
   "source": [
    "final_rmse"
   ]
  },
  {
   "cell_type": "markdown",
   "metadata": {},
   "source": [
    "# Extra material"
   ]
  },
  {
   "cell_type": "markdown",
   "metadata": {},
   "source": [
    "## A full pipeline with both preparation and prediction"
   ]
  },
  {
   "cell_type": "code",
   "execution_count": 104,
   "metadata": {
    "collapsed": false
   },
   "outputs": [
    {
     "data": {
      "text/plain": [
       "array([ 210644.60459286,  317768.80697211,  210956.43331178,\n",
       "         59218.98886849,  189747.55849879])"
      ]
     },
     "execution_count": 104,
     "metadata": {},
     "output_type": "execute_result"
    }
   ],
   "source": [
    "full_pipeline_with_predictor = Pipeline([\n",
    "        (\"preparation\", full_pipeline),\n",
    "        (\"linear\", LinearRegression())\n",
    "    ])\n",
    "\n",
    "full_pipeline_with_predictor.fit(housing, housing_labels)\n",
    "full_pipeline_with_predictor.predict(some_data)"
   ]
  },
  {
   "cell_type": "markdown",
   "metadata": {},
   "source": [
    "## Model persistence using joblib"
   ]
  },
  {
   "cell_type": "code",
   "execution_count": 105,
   "metadata": {
    "collapsed": true
   },
   "outputs": [],
   "source": [
    "my_model = full_pipeline_with_predictor"
   ]
  },
  {
   "cell_type": "code",
   "execution_count": 106,
   "metadata": {
    "collapsed": true
   },
   "outputs": [],
   "source": [
    "from sklearn.externals import joblib\n",
    "joblib.dump(my_model, \"my_model.pkl\") # DIFF\n",
    "#...\n",
    "my_model_loaded = joblib.load(\"my_model.pkl\") # DIFF"
   ]
  },
  {
   "cell_type": "markdown",
   "metadata": {},
   "source": [
    "## Example SciPy distributions for `RandomizedSearchCV`"
   ]
  },
  {
   "cell_type": "code",
   "execution_count": 107,
   "metadata": {
    "collapsed": false
   },
   "outputs": [
    {
     "data": {
      "image/png": "[encoded data removed]",
      "text/plain": [
       "<matplotlib.figure.Figure at 0x7f26e61afe10>"
      ]
     },
     "metadata": {},
     "output_type": "display_data"
    },
    {
     "data": {
      "image/png": "[encoded data removed]",
      "text/plain": [
       "<matplotlib.figure.Figure at 0x7f26d40dd748>"
      ]
     },
     "metadata": {},
     "output_type": "display_data"
    }
   ],
   "source": [
    "from scipy.stats import geom, expon\n",
    "geom_distrib=geom(0.5).rvs(10000, random_state=42)\n",
    "expon_distrib=expon(scale=1).rvs(10000, random_state=42)\n",
    "plt.hist(geom_distrib, bins=50)\n",
    "plt.show()\n",
    "plt.hist(expon_distrib, bins=50)\n",
    "plt.show()"
   ]
  },
  {
   "cell_type": "markdown",
   "metadata": {},
   "source": [
    "# Exercise solutions"
   ]
  },
  {
   "cell_type": "markdown",
   "metadata": {},
   "source": [
    "## 1."
   ]
  },
  {
   "cell_type": "markdown",
   "metadata": {
    "collapsed": true
   },
   "source": [
    "Question: Try a Support Vector Machine regressor (`sklearn.svm.SVR`), with various hyperparameters such as `kernel=\"linear\"` (with various values for the `C` hyperparameter) or `kernel=\"rbf\"` (with various values for the `C` and `gamma` hyperparameters). Don't worry about what these hyperparameters mean for now. How does the best `SVR` predictor perform?"
   ]
  },
  {
   "cell_type": "code",
   "execution_count": 108,
   "metadata": {
    "collapsed": false
   },
   "outputs": [
    {
     "name": "stdout",
     "output_type": "stream",
     "text": [
      "Fitting 5 folds for each of 50 candidates, totalling 250 fits\n",
      "[CV] C=10.0, kernel=linear ...........................................\n",
      "[CV] C=10.0, kernel=linear ...........................................\n",
      "[CV] C=10.0, kernel=linear ...........................................\n",
      "[CV] C=10.0, kernel=linear ...........................................\n",
      "[CV] ............................ C=10.0, kernel=linear, total=   6.5s\n",
      "[CV] C=10.0, kernel=linear ...........................................\n",
      "[CV] ............................ C=10.0, kernel=linear, total=   6.5s\n",
      "[CV] C=30.0, kernel=linear ...........................................\n",
      "[CV] ............................ C=10.0, kernel=linear, total=   6.6s\n",
      "[CV] C=30.0, kernel=linear ...........................................\n",
      "[CV] ............................ C=10.0, kernel=linear, total=   6.6s\n",
      "[CV] C=30.0, kernel=linear ...........................................\n",
      "[CV] ............................ C=30.0, kernel=linear, total=   6.4s\n",
      "[CV] C=30.0, kernel=linear ...........................................\n",
      "[CV] ............................ C=30.0, kernel=linear, total=   6.5s\n",
      "[CV] C=30.0, kernel=linear ...........................................\n",
      "[CV] ............................ C=10.0, kernel=linear, total=   6.6s\n",
      "[CV] C=100.0, kernel=linear ..........................................\n",
      "[CV] ............................ C=30.0, kernel=linear, total=   6.7s\n",
      "[CV] C=100.0, kernel=linear ..........................................\n",
      "[CV] ............................ C=30.0, kernel=linear, total=   6.4s\n",
      "[CV] C=100.0, kernel=linear ..........................................\n",
      "[CV] ............................ C=30.0, kernel=linear, total=   6.6s\n",
      "[CV] C=100.0, kernel=linear ..........................................\n",
      "[CV] ........................... C=100.0, kernel=linear, total=   6.4s\n",
      "[CV] C=100.0, kernel=linear ..........................................\n",
      "[CV] ........................... C=100.0, kernel=linear, total=   6.4s\n",
      "[CV] C=300.0, kernel=linear ..........................................\n",
      "[CV] ........................... C=100.0, kernel=linear, total=   6.4s\n",
      "[CV] C=300.0, kernel=linear ..........................................\n",
      "[CV] ........................... C=100.0, kernel=linear, total=   6.3s\n",
      "[CV] C=300.0, kernel=linear ..........................................\n",
      "[CV] ........................... C=100.0, kernel=linear, total=   6.5s\n",
      "[CV] C=300.0, kernel=linear ..........................................\n",
      "[CV] ........................... C=300.0, kernel=linear, total=   6.5s\n",
      "[CV] C=300.0, kernel=linear ..........................................\n",
      "[CV] ........................... C=300.0, kernel=linear, total=   6.5s\n",
      "[CV] C=1000.0, kernel=linear .........................................\n",
      "[CV] ........................... C=300.0, kernel=linear, total=   6.6s\n",
      "[CV] C=1000.0, kernel=linear .........................................\n",
      "[CV] ........................... C=300.0, kernel=linear, total=   6.6s\n",
      "[CV] C=1000.0, kernel=linear .........................................\n",
      "[CV] ........................... C=300.0, kernel=linear, total=   6.5s\n",
      "[CV] C=1000.0, kernel=linear .........................................\n",
      "[CV] .......................... C=1000.0, kernel=linear, total=   6.6s\n",
      "[CV] C=1000.0, kernel=linear .........................................\n",
      "[CV] .......................... C=1000.0, kernel=linear, total=   6.7s\n",
      "[CV] C=3000.0, kernel=linear .........................................\n",
      "[CV] .......................... C=1000.0, kernel=linear, total=   6.9s\n",
      "[CV] C=3000.0, kernel=linear .........................................\n",
      "[CV] .......................... C=1000.0, kernel=linear, total=   6.8s\n",
      "[CV] C=3000.0, kernel=linear .........................................\n",
      "[CV] .......................... C=1000.0, kernel=linear, total=   6.6s\n",
      "[CV] C=3000.0, kernel=linear .........................................\n",
      "[CV] .......................... C=3000.0, kernel=linear, total=   7.3s\n",
      "[CV] C=3000.0, kernel=linear .........................................\n",
      "[CV] .......................... C=3000.0, kernel=linear, total=   7.1s\n",
      "[CV] C=10000.0, kernel=linear ........................................\n",
      "[CV] .......................... C=3000.0, kernel=linear, total=   7.3s\n",
      "[CV] C=10000.0, kernel=linear ........................................\n",
      "[CV] .......................... C=3000.0, kernel=linear, total=   7.6s\n",
      "[CV] C=10000.0, kernel=linear ........................................\n",
      "[CV] .......................... C=3000.0, kernel=linear, total=   7.2s\n",
      "[CV] C=10000.0, kernel=linear ........................................\n",
      "[CV] ......................... C=10000.0, kernel=linear, total=   9.4s\n",
      "[CV] C=10000.0, kernel=linear ........................................\n",
      "[CV] ......................... C=10000.0, kernel=linear, total=   9.6s\n",
      "[CV] C=30000.0, kernel=linear ........................................\n",
      "[CV] ......................... C=10000.0, kernel=linear, total=   9.0s\n",
      "[CV] C=30000.0, kernel=linear ........................................\n"
     ]
    },
    {
     "name": "stderr",
     "output_type": "stream",
     "text": [
      "[Parallel(n_jobs=4)]: Done  33 tasks      | elapsed:  1.4min\n"
     ]
    },
    {
     "name": "stdout",
     "output_type": "stream",
     "text": [
      "[CV] ......................... C=10000.0, kernel=linear, total=   9.8s\n",
      "[CV] C=30000.0, kernel=linear ........................................\n",
      "[CV] ......................... C=10000.0, kernel=linear, total=   8.6s\n",
      "[CV] C=30000.0, kernel=linear ........................................\n",
      "[CV] ......................... C=30000.0, kernel=linear, total=  15.3s\n",
      "[CV] C=30000.0, kernel=linear ........................................\n",
      "[CV] ......................... C=30000.0, kernel=linear, total=  15.4s\n",
      "[CV] gamma=0.01, C=1.0, kernel=rbf ...................................\n",
      "[CV] ......................... C=30000.0, kernel=linear, total=  16.1s\n",
      "[CV] gamma=0.01, C=1.0, kernel=rbf ...................................\n",
      "[CV] ......................... C=30000.0, kernel=linear, total=  15.4s\n",
      "[CV] gamma=0.01, C=1.0, kernel=rbf ...................................\n",
      "[CV] ......................... C=30000.0, kernel=linear, total=  13.5s\n",
      "[CV] gamma=0.01, C=1.0, kernel=rbf ...................................\n",
      "[CV] .................... gamma=0.01, C=1.0, kernel=rbf, total=  24.5s\n",
      "[CV] gamma=0.01, C=1.0, kernel=rbf ...................................\n",
      "[CV] .................... gamma=0.01, C=1.0, kernel=rbf, total=  24.6s\n",
      "[CV] gamma=0.03, C=1.0, kernel=rbf ...................................\n",
      "[CV] .................... gamma=0.01, C=1.0, kernel=rbf, total=  24.8s\n",
      "[CV] gamma=0.03, C=1.0, kernel=rbf ...................................\n",
      "[CV] .................... gamma=0.01, C=1.0, kernel=rbf, total=  24.5s\n",
      "[CV] gamma=0.03, C=1.0, kernel=rbf ...................................\n",
      "[CV] .................... gamma=0.01, C=1.0, kernel=rbf, total=  11.4s\n",
      "[CV] gamma=0.03, C=1.0, kernel=rbf ...................................\n",
      "[CV] .................... gamma=0.03, C=1.0, kernel=rbf, total=  11.3s\n",
      "[CV] gamma=0.03, C=1.0, kernel=rbf ...................................\n",
      "[CV] .................... gamma=0.03, C=1.0, kernel=rbf, total=  11.6s\n",
      "[CV] gamma=0.1, C=1.0, kernel=rbf ....................................\n",
      "[CV] .................... gamma=0.03, C=1.0, kernel=rbf, total=  11.4s\n",
      "[CV] gamma=0.1, C=1.0, kernel=rbf ....................................\n",
      "[CV] .................... gamma=0.03, C=1.0, kernel=rbf, total=  11.5s\n",
      "[CV] gamma=0.1, C=1.0, kernel=rbf ....................................\n",
      "[CV] .................... gamma=0.03, C=1.0, kernel=rbf, total=  11.3s\n",
      "[CV] gamma=0.1, C=1.0, kernel=rbf ....................................\n",
      "[CV] ..................... gamma=0.1, C=1.0, kernel=rbf, total=  11.4s\n",
      "[CV] gamma=0.1, C=1.0, kernel=rbf ....................................\n",
      "[CV] ..................... gamma=0.1, C=1.0, kernel=rbf, total=  11.2s\n",
      "[CV] gamma=0.3, C=1.0, kernel=rbf ....................................\n",
      "[CV] ..................... gamma=0.1, C=1.0, kernel=rbf, total=  11.2s\n",
      "[CV] gamma=0.3, C=1.0, kernel=rbf ....................................\n",
      "[CV] ..................... gamma=0.1, C=1.0, kernel=rbf, total=  11.2s\n",
      "[CV] gamma=0.3, C=1.0, kernel=rbf ....................................\n",
      "[CV] ..................... gamma=0.1, C=1.0, kernel=rbf, total=  11.3s\n",
      "[CV] gamma=0.3, C=1.0, kernel=rbf ....................................\n",
      "[CV] ..................... gamma=0.3, C=1.0, kernel=rbf, total=  10.9s\n",
      "[CV] gamma=0.3, C=1.0, kernel=rbf ....................................\n",
      "[CV] ..................... gamma=0.3, C=1.0, kernel=rbf, total=  11.0s\n",
      "[CV] gamma=1.0, C=1.0, kernel=rbf ....................................\n",
      "[CV] ..................... gamma=0.3, C=1.0, kernel=rbf, total=  11.1s\n",
      "[CV] gamma=1.0, C=1.0, kernel=rbf ....................................\n",
      "[CV] ..................... gamma=0.3, C=1.0, kernel=rbf, total=  11.2s\n",
      "[CV] gamma=1.0, C=1.0, kernel=rbf ....................................\n",
      "[CV] ..................... gamma=0.3, C=1.0, kernel=rbf, total=  11.2s\n",
      "[CV] gamma=1.0, C=1.0, kernel=rbf ....................................\n",
      "[CV] ..................... gamma=1.0, C=1.0, kernel=rbf, total=  10.6s\n",
      "[CV] gamma=1.0, C=1.0, kernel=rbf ....................................\n",
      "[CV] ..................... gamma=1.0, C=1.0, kernel=rbf, total=  10.6s\n",
      "[CV] gamma=3.0, C=1.0, kernel=rbf ....................................\n",
      "[CV] ..................... gamma=1.0, C=1.0, kernel=rbf, total=  10.7s\n",
      "[CV] gamma=3.0, C=1.0, kernel=rbf ....................................\n",
      "[CV] ..................... gamma=1.0, C=1.0, kernel=rbf, total=  10.6s\n",
      "[CV] gamma=3.0, C=1.0, kernel=rbf ....................................\n",
      "[CV] ..................... gamma=1.0, C=1.0, kernel=rbf, total=  10.6s\n",
      "[CV] gamma=3.0, C=1.0, kernel=rbf ....................................\n",
      "[CV] ..................... gamma=3.0, C=1.0, kernel=rbf, total=  11.8s\n",
      "[CV] gamma=3.0, C=1.0, kernel=rbf ....................................\n",
      "[CV] ..................... gamma=3.0, C=1.0, kernel=rbf, total=  12.5s\n",
      "[CV] gamma=0.01, C=3.0, kernel=rbf ...................................\n",
      "[CV] ..................... gamma=3.0, C=1.0, kernel=rbf, total=  11.8s\n",
      "[CV] gamma=0.01, C=3.0, kernel=rbf ...................................\n",
      "[CV] ..................... gamma=3.0, C=1.0, kernel=rbf, total=  12.3s\n",
      "[CV] gamma=0.01, C=3.0, kernel=rbf ...................................\n",
      "[CV] ..................... gamma=3.0, C=1.0, kernel=rbf, total=  12.2s\n",
      "[CV] gamma=0.01, C=3.0, kernel=rbf ...................................\n",
      "[CV] .................... gamma=0.01, C=3.0, kernel=rbf, total=  11.7s\n",
      "[CV] gamma=0.01, C=3.0, kernel=rbf ...................................\n",
      "[CV] .................... gamma=0.01, C=3.0, kernel=rbf, total=  11.8s\n",
      "[CV] gamma=0.03, C=3.0, kernel=rbf ...................................\n",
      "[CV] .................... gamma=0.01, C=3.0, kernel=rbf, total=  11.7s\n",
      "[CV] gamma=0.03, C=3.0, kernel=rbf ...................................\n",
      "[CV] .................... gamma=0.01, C=3.0, kernel=rbf, total=  12.0s\n",
      "[CV] gamma=0.03, C=3.0, kernel=rbf ...................................\n",
      "[CV] .................... gamma=0.01, C=3.0, kernel=rbf, total=  11.7s\n",
      "[CV] gamma=0.03, C=3.0, kernel=rbf ...................................\n",
      "[CV] .................... gamma=0.03, C=3.0, kernel=rbf, total=  11.8s\n",
      "[CV] gamma=0.03, C=3.0, kernel=rbf ...................................\n",
      "[CV] .................... gamma=0.03, C=3.0, kernel=rbf, total=  11.5s\n",
      "[CV] gamma=0.1, C=3.0, kernel=rbf ....................................\n",
      "[CV] .................... gamma=0.03, C=3.0, kernel=rbf, total=  11.7s\n",
      "[CV] gamma=0.1, C=3.0, kernel=rbf ....................................\n",
      "[CV] .................... gamma=0.03, C=3.0, kernel=rbf, total=  11.6s\n",
      "[CV] gamma=0.1, C=3.0, kernel=rbf ....................................\n",
      "[CV] .................... gamma=0.03, C=3.0, kernel=rbf, total=  11.7s\n",
      "[CV] gamma=0.1, C=3.0, kernel=rbf ....................................\n",
      "[CV] ..................... gamma=0.1, C=3.0, kernel=rbf, total=  12.0s\n",
      "[CV] gamma=0.1, C=3.0, kernel=rbf ....................................\n",
      "[CV] ..................... gamma=0.1, C=3.0, kernel=rbf, total=  11.5s\n",
      "[CV] gamma=0.3, C=3.0, kernel=rbf ....................................\n",
      "[CV] ..................... gamma=0.1, C=3.0, kernel=rbf, total=  11.7s\n",
      "[CV] gamma=0.3, C=3.0, kernel=rbf ....................................\n",
      "[CV] ..................... gamma=0.1, C=3.0, kernel=rbf, total=  11.5s\n",
      "[CV] gamma=0.3, C=3.0, kernel=rbf ....................................\n",
      "[CV] ..................... gamma=0.1, C=3.0, kernel=rbf, total=  11.9s\n",
      "[CV] gamma=0.3, C=3.0, kernel=rbf ....................................\n",
      "[CV] ..................... gamma=0.3, C=3.0, kernel=rbf, total=  10.9s\n",
      "[CV] gamma=0.3, C=3.0, kernel=rbf ....................................\n",
      "[CV] ..................... gamma=0.3, C=3.0, kernel=rbf, total=  11.2s\n",
      "[CV] gamma=1.0, C=3.0, kernel=rbf ....................................\n",
      "[CV] ..................... gamma=0.3, C=3.0, kernel=rbf, total=  11.1s\n",
      "[CV] gamma=1.0, C=3.0, kernel=rbf ....................................\n",
      "[CV] ..................... gamma=0.3, C=3.0, kernel=rbf, total=  11.0s\n",
      "[CV] gamma=1.0, C=3.0, kernel=rbf ....................................\n",
      "[CV] ..................... gamma=0.3, C=3.0, kernel=rbf, total=  10.9s\n",
      "[CV] gamma=1.0, C=3.0, kernel=rbf ....................................\n",
      "[CV] ..................... gamma=1.0, C=3.0, kernel=rbf, total=  10.7s\n",
      "[CV] gamma=1.0, C=3.0, kernel=rbf ....................................\n",
      "[CV] ..................... gamma=1.0, C=3.0, kernel=rbf, total=  10.8s\n",
      "[CV] gamma=3.0, C=3.0, kernel=rbf ....................................\n",
      "[CV] ..................... gamma=1.0, C=3.0, kernel=rbf, total=  10.9s\n",
      "[CV] gamma=3.0, C=3.0, kernel=rbf ....................................\n",
      "[CV] ..................... gamma=1.0, C=3.0, kernel=rbf, total=  10.8s\n",
      "[CV] gamma=3.0, C=3.0, kernel=rbf ....................................\n",
      "[CV] ..................... gamma=1.0, C=3.0, kernel=rbf, total=  10.6s\n",
      "[CV] gamma=3.0, C=3.0, kernel=rbf ....................................\n",
      "[CV] ..................... gamma=3.0, C=3.0, kernel=rbf, total=  11.8s\n",
      "[CV] gamma=3.0, C=3.0, kernel=rbf ....................................\n",
      "[CV] ..................... gamma=3.0, C=3.0, kernel=rbf, total=  11.9s\n",
      "[CV] gamma=0.01, C=10.0, kernel=rbf ..................................\n",
      "[CV] ..................... gamma=3.0, C=3.0, kernel=rbf, total=  11.8s\n",
      "[CV] gamma=0.01, C=10.0, kernel=rbf ..................................\n",
      "[CV] ..................... gamma=3.0, C=3.0, kernel=rbf, total=  11.8s\n",
      "[CV] gamma=0.01, C=10.0, kernel=rbf ..................................\n",
      "[CV] ..................... gamma=3.0, C=3.0, kernel=rbf, total=  11.9s\n",
      "[CV] gamma=0.01, C=10.0, kernel=rbf ..................................\n",
      "[CV] ................... gamma=0.01, C=10.0, kernel=rbf, total=  11.5s\n",
      "[CV] gamma=0.01, C=10.0, kernel=rbf ..................................\n",
      "[CV] ................... gamma=0.01, C=10.0, kernel=rbf, total=  11.5s\n",
      "[CV] gamma=0.03, C=10.0, kernel=rbf ..................................\n",
      "[CV] ................... gamma=0.01, C=10.0, kernel=rbf, total=  11.4s\n",
      "[CV] gamma=0.03, C=10.0, kernel=rbf ..................................\n",
      "[CV] ................... gamma=0.01, C=10.0, kernel=rbf, total=  11.5s\n",
      "[CV] gamma=0.03, C=10.0, kernel=rbf ..................................\n",
      "[CV] ................... gamma=0.01, C=10.0, kernel=rbf, total=  11.6s\n",
      "[CV] gamma=0.03, C=10.0, kernel=rbf ..................................\n",
      "[CV] ................... gamma=0.03, C=10.0, kernel=rbf, total=  11.5s\n",
      "[CV] gamma=0.03, C=10.0, kernel=rbf ..................................\n",
      "[CV] ................... gamma=0.03, C=10.0, kernel=rbf, total=  11.5s\n",
      "[CV] gamma=0.1, C=10.0, kernel=rbf ...................................\n",
      "[CV] ................... gamma=0.03, C=10.0, kernel=rbf, total=  11.3s\n",
      "[CV] gamma=0.1, C=10.0, kernel=rbf ...................................\n",
      "[CV] ................... gamma=0.03, C=10.0, kernel=rbf, total=  11.7s\n",
      "[CV] gamma=0.1, C=10.0, kernel=rbf ...................................\n",
      "[CV] ................... gamma=0.03, C=10.0, kernel=rbf, total=  11.5s\n",
      "[CV] gamma=0.1, C=10.0, kernel=rbf ...................................\n",
      "[CV] .................... gamma=0.1, C=10.0, kernel=rbf, total=  11.2s\n",
      "[CV] gamma=0.1, C=10.0, kernel=rbf ...................................\n",
      "[CV] .................... gamma=0.1, C=10.0, kernel=rbf, total=  11.2s\n",
      "[CV] gamma=0.3, C=10.0, kernel=rbf ...................................\n",
      "[CV] .................... gamma=0.1, C=10.0, kernel=rbf, total=  11.5s\n",
      "[CV] gamma=0.3, C=10.0, kernel=rbf ...................................\n",
      "[CV] .................... gamma=0.1, C=10.0, kernel=rbf, total=  11.3s\n",
      "[CV] gamma=0.3, C=10.0, kernel=rbf ...................................\n",
      "[CV] .................... gamma=0.1, C=10.0, kernel=rbf, total=  11.2s\n",
      "[CV] gamma=0.3, C=10.0, kernel=rbf ...................................\n",
      "[CV] .................... gamma=0.3, C=10.0, kernel=rbf, total=  11.0s\n",
      "[CV] gamma=0.3, C=10.0, kernel=rbf ...................................\n",
      "[CV] .................... gamma=0.3, C=10.0, kernel=rbf, total=  11.0s\n",
      "[CV] gamma=1.0, C=10.0, kernel=rbf ...................................\n",
      "[CV] .................... gamma=0.3, C=10.0, kernel=rbf, total=  11.2s\n",
      "[CV] gamma=1.0, C=10.0, kernel=rbf ...................................\n",
      "[CV] .................... gamma=0.3, C=10.0, kernel=rbf, total=  11.7s\n",
      "[CV] gamma=1.0, C=10.0, kernel=rbf ...................................\n",
      "[CV] .................... gamma=0.3, C=10.0, kernel=rbf, total=  11.1s\n",
      "[CV] gamma=1.0, C=10.0, kernel=rbf ...................................\n",
      "[CV] .................... gamma=1.0, C=10.0, kernel=rbf, total=  10.7s\n",
      "[CV] gamma=1.0, C=10.0, kernel=rbf ...................................\n",
      "[CV] .................... gamma=1.0, C=10.0, kernel=rbf, total=  10.7s\n",
      "[CV] gamma=3.0, C=10.0, kernel=rbf ...................................\n",
      "[CV] .................... gamma=1.0, C=10.0, kernel=rbf, total=  10.8s\n",
      "[CV] gamma=3.0, C=10.0, kernel=rbf ...................................\n",
      "[CV] .................... gamma=1.0, C=10.0, kernel=rbf, total=  10.6s\n",
      "[CV] gamma=3.0, C=10.0, kernel=rbf ...................................\n",
      "[CV] .................... gamma=1.0, C=10.0, kernel=rbf, total=  10.7s\n",
      "[CV] gamma=3.0, C=10.0, kernel=rbf ...................................\n",
      "[CV] .................... gamma=3.0, C=10.0, kernel=rbf, total=  11.9s\n",
      "[CV] gamma=3.0, C=10.0, kernel=rbf ...................................\n",
      "[CV] .................... gamma=3.0, C=10.0, kernel=rbf, total=  12.0s\n",
      "[CV] gamma=0.01, C=30.0, kernel=rbf ..................................\n",
      "[CV] .................... gamma=3.0, C=10.0, kernel=rbf, total=  11.8s\n",
      "[CV] gamma=0.01, C=30.0, kernel=rbf ..................................\n",
      "[CV] .................... gamma=3.0, C=10.0, kernel=rbf, total=  12.0s\n",
      "[CV] gamma=0.01, C=30.0, kernel=rbf ..................................\n",
      "[CV] .................... gamma=3.0, C=10.0, kernel=rbf, total=  12.0s\n",
      "[CV] gamma=0.01, C=30.0, kernel=rbf ..................................\n",
      "[CV] ................... gamma=0.01, C=30.0, kernel=rbf, total=  11.5s\n",
      "[CV] gamma=0.01, C=30.0, kernel=rbf ..................................\n",
      "[CV] ................... gamma=0.01, C=30.0, kernel=rbf, total=  11.5s\n",
      "[CV] gamma=0.03, C=30.0, kernel=rbf ..................................\n",
      "[CV] ................... gamma=0.01, C=30.0, kernel=rbf, total=  11.4s\n",
      "[CV] gamma=0.03, C=30.0, kernel=rbf ..................................\n",
      "[CV] ................... gamma=0.01, C=30.0, kernel=rbf, total=  11.6s\n",
      "[CV] gamma=0.03, C=30.0, kernel=rbf ..................................\n",
      "[CV] ................... gamma=0.01, C=30.0, kernel=rbf, total=  11.4s\n",
      "[CV] gamma=0.03, C=30.0, kernel=rbf ..................................\n",
      "[CV] ................... gamma=0.03, C=30.0, kernel=rbf, total=  11.3s\n",
      "[CV] gamma=0.03, C=30.0, kernel=rbf ..................................\n",
      "[CV] ................... gamma=0.03, C=30.0, kernel=rbf, total=  11.4s\n",
      "[CV] gamma=0.1, C=30.0, kernel=rbf ...................................\n",
      "[CV] ................... gamma=0.03, C=30.0, kernel=rbf, total=  11.3s\n",
      "[CV] gamma=0.1, C=30.0, kernel=rbf ...................................\n",
      "[CV] ................... gamma=0.03, C=30.0, kernel=rbf, total=  11.3s\n",
      "[CV] gamma=0.1, C=30.0, kernel=rbf ...................................\n",
      "[CV] ................... gamma=0.03, C=30.0, kernel=rbf, total=  11.3s\n",
      "[CV] gamma=0.1, C=30.0, kernel=rbf ...................................\n",
      "[CV] .................... gamma=0.1, C=30.0, kernel=rbf, total=  11.7s\n",
      "[CV] gamma=0.1, C=30.0, kernel=rbf ...................................\n",
      "[CV] .................... gamma=0.1, C=30.0, kernel=rbf, total=  11.3s\n",
      "[CV] gamma=0.3, C=30.0, kernel=rbf ...................................\n",
      "[CV] .................... gamma=0.1, C=30.0, kernel=rbf, total=  11.3s\n",
      "[CV] gamma=0.3, C=30.0, kernel=rbf ...................................\n",
      "[CV] .................... gamma=0.1, C=30.0, kernel=rbf, total=  11.2s\n",
      "[CV] gamma=0.3, C=30.0, kernel=rbf ...................................\n",
      "[CV] .................... gamma=0.1, C=30.0, kernel=rbf, total=  11.4s\n",
      "[CV] gamma=0.3, C=30.0, kernel=rbf ...................................\n",
      "[CV] .................... gamma=0.3, C=30.0, kernel=rbf, total=  11.1s\n",
      "[CV] gamma=0.3, C=30.0, kernel=rbf ...................................\n",
      "[CV] .................... gamma=0.3, C=30.0, kernel=rbf, total=  11.1s\n",
      "[CV] gamma=1.0, C=30.0, kernel=rbf ...................................\n",
      "[CV] .................... gamma=0.3, C=30.0, kernel=rbf, total=  10.9s\n",
      "[CV] gamma=1.0, C=30.0, kernel=rbf ...................................\n",
      "[CV] .................... gamma=0.3, C=30.0, kernel=rbf, total=  10.9s\n",
      "[CV] gamma=1.0, C=30.0, kernel=rbf ...................................\n",
      "[CV] .................... gamma=0.3, C=30.0, kernel=rbf, total=  10.9s\n",
      "[CV] gamma=1.0, C=30.0, kernel=rbf ...................................\n",
      "[CV] .................... gamma=1.0, C=30.0, kernel=rbf, total=  10.7s\n",
      "[CV] gamma=1.0, C=30.0, kernel=rbf ...................................\n",
      "[CV] .................... gamma=1.0, C=30.0, kernel=rbf, total=  10.5s\n",
      "[CV] gamma=3.0, C=30.0, kernel=rbf ...................................\n",
      "[CV] .................... gamma=1.0, C=30.0, kernel=rbf, total=  10.9s\n",
      "[CV] gamma=3.0, C=30.0, kernel=rbf ...................................\n",
      "[CV] .................... gamma=1.0, C=30.0, kernel=rbf, total=  10.5s\n",
      "[CV] gamma=3.0, C=30.0, kernel=rbf ...................................\n"
     ]
    },
    {
     "name": "stderr",
     "output_type": "stream",
     "text": [
      "[Parallel(n_jobs=4)]: Done 154 tasks      | elapsed:  9.9min\n"
     ]
    },
    {
     "name": "stdout",
     "output_type": "stream",
     "text": [
      "[CV] .................... gamma=1.0, C=30.0, kernel=rbf, total=  10.7s\n",
      "[CV] gamma=3.0, C=30.0, kernel=rbf ...................................\n",
      "[CV] .................... gamma=3.0, C=30.0, kernel=rbf, total=  11.7s\n",
      "[CV] gamma=3.0, C=30.0, kernel=rbf ...................................\n",
      "[CV] .................... gamma=3.0, C=30.0, kernel=rbf, total=  12.0s\n",
      "[CV] gamma=0.01, C=100.0, kernel=rbf .................................\n",
      "[CV] .................... gamma=3.0, C=30.0, kernel=rbf, total=  12.0s\n",
      "[CV] gamma=0.01, C=100.0, kernel=rbf .................................\n",
      "[CV] .................... gamma=3.0, C=30.0, kernel=rbf, total=  12.0s\n",
      "[CV] gamma=0.01, C=100.0, kernel=rbf .................................\n",
      "[CV] .................... gamma=3.0, C=30.0, kernel=rbf, total=  12.2s\n",
      "[CV] gamma=0.01, C=100.0, kernel=rbf .................................\n",
      "[CV] .................. gamma=0.01, C=100.0, kernel=rbf, total=  11.5s\n",
      "[CV] gamma=0.01, C=100.0, kernel=rbf .................................\n",
      "[CV] .................. gamma=0.01, C=100.0, kernel=rbf, total=  11.5s\n",
      "[CV] gamma=0.03, C=100.0, kernel=rbf .................................\n",
      "[CV] .................. gamma=0.01, C=100.0, kernel=rbf, total=  11.6s\n",
      "[CV] gamma=0.03, C=100.0, kernel=rbf .................................\n",
      "[CV] .................. gamma=0.01, C=100.0, kernel=rbf, total=  11.5s\n",
      "[CV] gamma=0.03, C=100.0, kernel=rbf .................................\n",
      "[CV] .................. gamma=0.03, C=100.0, kernel=rbf, total=  11.3s\n",
      "[CV] gamma=0.03, C=100.0, kernel=rbf .................................\n",
      "[CV] .................. gamma=0.01, C=100.0, kernel=rbf, total=  11.7s\n",
      "[CV] gamma=0.03, C=100.0, kernel=rbf .................................\n",
      "[CV] .................. gamma=0.03, C=100.0, kernel=rbf, total=  11.8s\n",
      "[CV] gamma=0.1, C=100.0, kernel=rbf ..................................\n",
      "[CV] .................. gamma=0.03, C=100.0, kernel=rbf, total=  11.6s\n",
      "[CV] gamma=0.1, C=100.0, kernel=rbf ..................................\n",
      "[CV] .................. gamma=0.03, C=100.0, kernel=rbf, total=  11.2s\n",
      "[CV] gamma=0.1, C=100.0, kernel=rbf ..................................\n",
      "[CV] .................. gamma=0.03, C=100.0, kernel=rbf, total=  11.5s\n",
      "[CV] gamma=0.1, C=100.0, kernel=rbf ..................................\n",
      "[CV] ................... gamma=0.1, C=100.0, kernel=rbf, total=  11.1s\n",
      "[CV] gamma=0.1, C=100.0, kernel=rbf ..................................\n",
      "[CV] ................... gamma=0.1, C=100.0, kernel=rbf, total=  11.2s\n",
      "[CV] gamma=0.3, C=100.0, kernel=rbf ..................................\n",
      "[CV] ................... gamma=0.1, C=100.0, kernel=rbf, total=  11.0s\n",
      "[CV] gamma=0.3, C=100.0, kernel=rbf ..................................\n",
      "[CV] ................... gamma=0.1, C=100.0, kernel=rbf, total=  11.1s\n",
      "[CV] gamma=0.3, C=100.0, kernel=rbf ..................................\n",
      "[CV] ................... gamma=0.1, C=100.0, kernel=rbf, total=  11.2s\n",
      "[CV] gamma=0.3, C=100.0, kernel=rbf ..................................\n",
      "[CV] ................... gamma=0.3, C=100.0, kernel=rbf, total=  11.0s\n",
      "[CV] gamma=0.3, C=100.0, kernel=rbf ..................................\n",
      "[CV] ................... gamma=0.3, C=100.0, kernel=rbf, total=  10.8s\n",
      "[CV] gamma=1.0, C=100.0, kernel=rbf ..................................\n",
      "[CV] ................... gamma=0.3, C=100.0, kernel=rbf, total=  10.9s\n",
      "[CV] gamma=1.0, C=100.0, kernel=rbf ..................................\n",
      "[CV] ................... gamma=0.3, C=100.0, kernel=rbf, total=  11.1s\n",
      "[CV] gamma=1.0, C=100.0, kernel=rbf ..................................\n",
      "[CV] ................... gamma=0.3, C=100.0, kernel=rbf, total=  11.0s\n",
      "[CV] gamma=1.0, C=100.0, kernel=rbf ..................................\n",
      "[CV] ................... gamma=1.0, C=100.0, kernel=rbf, total=  10.6s\n",
      "[CV] gamma=1.0, C=100.0, kernel=rbf ..................................\n",
      "[CV] ................... gamma=1.0, C=100.0, kernel=rbf, total=  10.8s\n",
      "[CV] gamma=3.0, C=100.0, kernel=rbf ..................................\n",
      "[CV] ................... gamma=1.0, C=100.0, kernel=rbf, total=  10.9s\n",
      "[CV] gamma=3.0, C=100.0, kernel=rbf ..................................\n",
      "[CV] ................... gamma=1.0, C=100.0, kernel=rbf, total=  10.6s\n",
      "[CV] gamma=3.0, C=100.0, kernel=rbf ..................................\n",
      "[CV] ................... gamma=1.0, C=100.0, kernel=rbf, total=  10.6s\n",
      "[CV] gamma=3.0, C=100.0, kernel=rbf ..................................\n",
      "[CV] ................... gamma=3.0, C=100.0, kernel=rbf, total=  12.0s\n",
      "[CV] gamma=3.0, C=100.0, kernel=rbf ..................................\n",
      "[CV] ................... gamma=3.0, C=100.0, kernel=rbf, total=  11.9s\n",
      "[CV] gamma=0.01, C=300.0, kernel=rbf .................................\n",
      "[CV] ................... gamma=3.0, C=100.0, kernel=rbf, total=  11.8s\n",
      "[CV] gamma=0.01, C=300.0, kernel=rbf .................................\n",
      "[CV] ................... gamma=3.0, C=100.0, kernel=rbf, total=  12.0s\n",
      "[CV] gamma=0.01, C=300.0, kernel=rbf .................................\n",
      "[CV] ................... gamma=3.0, C=100.0, kernel=rbf, total=  11.9s\n",
      "[CV] gamma=0.01, C=300.0, kernel=rbf .................................\n",
      "[CV] .................. gamma=0.01, C=300.0, kernel=rbf, total=  11.2s\n",
      "[CV] gamma=0.01, C=300.0, kernel=rbf .................................\n",
      "[CV] .................. gamma=0.01, C=300.0, kernel=rbf, total=  11.2s\n",
      "[CV] gamma=0.03, C=300.0, kernel=rbf .................................\n",
      "[CV] .................. gamma=0.01, C=300.0, kernel=rbf, total=  11.3s\n",
      "[CV] gamma=0.03, C=300.0, kernel=rbf .................................\n",
      "[CV] .................. gamma=0.01, C=300.0, kernel=rbf, total=  11.5s\n",
      "[CV] gamma=0.03, C=300.0, kernel=rbf .................................\n",
      "[CV] .................. gamma=0.01, C=300.0, kernel=rbf, total=  11.2s\n",
      "[CV] gamma=0.03, C=300.0, kernel=rbf .................................\n",
      "[CV] .................. gamma=0.03, C=300.0, kernel=rbf, total=  10.9s\n",
      "[CV] gamma=0.03, C=300.0, kernel=rbf .................................\n",
      "[CV] .................. gamma=0.03, C=300.0, kernel=rbf, total=  11.0s\n",
      "[CV] gamma=0.1, C=300.0, kernel=rbf ..................................\n",
      "[CV] .................. gamma=0.03, C=300.0, kernel=rbf, total=  10.9s\n",
      "[CV] gamma=0.1, C=300.0, kernel=rbf ..................................\n",
      "[CV] .................. gamma=0.03, C=300.0, kernel=rbf, total=  11.1s\n",
      "[CV] gamma=0.1, C=300.0, kernel=rbf ..................................\n",
      "[CV] .................. gamma=0.03, C=300.0, kernel=rbf, total=  10.9s\n",
      "[CV] gamma=0.1, C=300.0, kernel=rbf ..................................\n",
      "[CV] ................... gamma=0.1, C=300.0, kernel=rbf, total=  11.0s\n",
      "[CV] gamma=0.1, C=300.0, kernel=rbf ..................................\n",
      "[CV] ................... gamma=0.1, C=300.0, kernel=rbf, total=  10.9s\n",
      "[CV] gamma=0.3, C=300.0, kernel=rbf ..................................\n",
      "[CV] ................... gamma=0.1, C=300.0, kernel=rbf, total=  11.1s\n",
      "[CV] gamma=0.3, C=300.0, kernel=rbf ..................................\n",
      "[CV] ................... gamma=0.1, C=300.0, kernel=rbf, total=  11.0s\n",
      "[CV] gamma=0.3, C=300.0, kernel=rbf ..................................\n",
      "[CV] ................... gamma=0.1, C=300.0, kernel=rbf, total=  10.6s\n",
      "[CV] gamma=0.3, C=300.0, kernel=rbf ..................................\n",
      "[CV] ................... gamma=0.3, C=300.0, kernel=rbf, total=  10.8s\n",
      "[CV] gamma=0.3, C=300.0, kernel=rbf ..................................\n",
      "[CV] ................... gamma=0.3, C=300.0, kernel=rbf, total=  10.6s\n",
      "[CV] gamma=1.0, C=300.0, kernel=rbf ..................................\n",
      "[CV] ................... gamma=0.3, C=300.0, kernel=rbf, total=  10.6s\n",
      "[CV] gamma=1.0, C=300.0, kernel=rbf ..................................\n",
      "[CV] ................... gamma=0.3, C=300.0, kernel=rbf, total=  10.7s\n",
      "[CV] gamma=1.0, C=300.0, kernel=rbf ..................................\n",
      "[CV] ................... gamma=0.3, C=300.0, kernel=rbf, total=  10.9s\n",
      "[CV] gamma=1.0, C=300.0, kernel=rbf ..................................\n",
      "[CV] ................... gamma=1.0, C=300.0, kernel=rbf, total=  10.8s\n",
      "[CV] gamma=1.0, C=300.0, kernel=rbf ..................................\n",
      "[CV] ................... gamma=1.0, C=300.0, kernel=rbf, total=  10.7s\n",
      "[CV] gamma=3.0, C=300.0, kernel=rbf ..................................\n",
      "[CV] ................... gamma=1.0, C=300.0, kernel=rbf, total=  10.7s\n",
      "[CV] gamma=3.0, C=300.0, kernel=rbf ..................................\n",
      "[CV] ................... gamma=1.0, C=300.0, kernel=rbf, total=  10.9s\n",
      "[CV] gamma=3.0, C=300.0, kernel=rbf ..................................\n",
      "[CV] ................... gamma=1.0, C=300.0, kernel=rbf, total=  10.9s\n",
      "[CV] gamma=3.0, C=300.0, kernel=rbf ..................................\n",
      "[CV] ................... gamma=3.0, C=300.0, kernel=rbf, total=  12.2s\n",
      "[CV] gamma=3.0, C=300.0, kernel=rbf ..................................\n",
      "[CV] ................... gamma=3.0, C=300.0, kernel=rbf, total=  12.1s\n",
      "[CV] gamma=0.01, C=1000.0, kernel=rbf ................................\n",
      "[CV] ................... gamma=3.0, C=300.0, kernel=rbf, total=  11.8s\n",
      "[CV] gamma=0.01, C=1000.0, kernel=rbf ................................\n",
      "[CV] ................... gamma=3.0, C=300.0, kernel=rbf, total=  12.2s\n",
      "[CV] gamma=0.01, C=1000.0, kernel=rbf ................................\n",
      "[CV] ................... gamma=3.0, C=300.0, kernel=rbf, total=  12.4s\n",
      "[CV] gamma=0.01, C=1000.0, kernel=rbf ................................\n",
      "[CV] ................. gamma=0.01, C=1000.0, kernel=rbf, total=  10.9s\n",
      "[CV] gamma=0.01, C=1000.0, kernel=rbf ................................\n",
      "[CV] ................. gamma=0.01, C=1000.0, kernel=rbf, total=  10.8s\n",
      "[CV] gamma=0.03, C=1000.0, kernel=rbf ................................\n",
      "[CV] ................. gamma=0.01, C=1000.0, kernel=rbf, total=  10.8s\n",
      "[CV] gamma=0.03, C=1000.0, kernel=rbf ................................\n",
      "[CV] ................. gamma=0.01, C=1000.0, kernel=rbf, total=  11.0s\n",
      "[CV] gamma=0.03, C=1000.0, kernel=rbf ................................\n",
      "[CV] ................. gamma=0.01, C=1000.0, kernel=rbf, total=  11.1s\n",
      "[CV] gamma=0.03, C=1000.0, kernel=rbf ................................\n",
      "[CV] ................. gamma=0.03, C=1000.0, kernel=rbf, total=  10.7s\n",
      "[CV] gamma=0.03, C=1000.0, kernel=rbf ................................\n",
      "[CV] ................. gamma=0.03, C=1000.0, kernel=rbf, total=  10.6s\n",
      "[CV] gamma=0.1, C=1000.0, kernel=rbf .................................\n",
      "[CV] ................. gamma=0.03, C=1000.0, kernel=rbf, total=  10.7s\n",
      "[CV] gamma=0.1, C=1000.0, kernel=rbf .................................\n",
      "[CV] ................. gamma=0.03, C=1000.0, kernel=rbf, total=  11.0s\n",
      "[CV] gamma=0.1, C=1000.0, kernel=rbf .................................\n",
      "[CV] ................. gamma=0.03, C=1000.0, kernel=rbf, total=  10.6s\n",
      "[CV] gamma=0.1, C=1000.0, kernel=rbf .................................\n",
      "[CV] .................. gamma=0.1, C=1000.0, kernel=rbf, total=  10.5s\n",
      "[CV] gamma=0.1, C=1000.0, kernel=rbf .................................\n",
      "[CV] .................. gamma=0.1, C=1000.0, kernel=rbf, total=  10.5s\n",
      "[CV] gamma=0.3, C=1000.0, kernel=rbf .................................\n",
      "[CV] .................. gamma=0.1, C=1000.0, kernel=rbf, total=  10.6s\n",
      "[CV] gamma=0.3, C=1000.0, kernel=rbf .................................\n",
      "[CV] .................. gamma=0.1, C=1000.0, kernel=rbf, total=  10.7s\n",
      "[CV] gamma=0.3, C=1000.0, kernel=rbf .................................\n",
      "[CV] .................. gamma=0.1, C=1000.0, kernel=rbf, total=  10.6s\n",
      "[CV] gamma=0.3, C=1000.0, kernel=rbf .................................\n",
      "[CV] .................. gamma=0.3, C=1000.0, kernel=rbf, total=  10.5s\n",
      "[CV] gamma=0.3, C=1000.0, kernel=rbf .................................\n",
      "[CV] .................. gamma=0.3, C=1000.0, kernel=rbf, total=  10.7s\n",
      "[CV] gamma=1.0, C=1000.0, kernel=rbf .................................\n",
      "[CV] .................. gamma=0.3, C=1000.0, kernel=rbf, total=  11.0s\n",
      "[CV] gamma=1.0, C=1000.0, kernel=rbf .................................\n",
      "[CV] .................. gamma=0.3, C=1000.0, kernel=rbf, total=  10.7s\n",
      "[CV] gamma=1.0, C=1000.0, kernel=rbf .................................\n",
      "[CV] .................. gamma=0.3, C=1000.0, kernel=rbf, total=  10.7s\n",
      "[CV] gamma=1.0, C=1000.0, kernel=rbf .................................\n",
      "[CV] .................. gamma=1.0, C=1000.0, kernel=rbf, total=  10.9s\n",
      "[CV] gamma=1.0, C=1000.0, kernel=rbf .................................\n",
      "[CV] .................. gamma=1.0, C=1000.0, kernel=rbf, total=  10.6s\n",
      "[CV] gamma=3.0, C=1000.0, kernel=rbf .................................\n",
      "[CV] .................. gamma=1.0, C=1000.0, kernel=rbf, total=  10.6s\n",
      "[CV] gamma=3.0, C=1000.0, kernel=rbf .................................\n",
      "[CV] .................. gamma=1.0, C=1000.0, kernel=rbf, total=  10.9s\n",
      "[CV] gamma=3.0, C=1000.0, kernel=rbf .................................\n",
      "[CV] .................. gamma=1.0, C=1000.0, kernel=rbf, total=  11.2s\n",
      "[CV] gamma=3.0, C=1000.0, kernel=rbf .................................\n",
      "[CV] .................. gamma=3.0, C=1000.0, kernel=rbf, total=  11.8s\n",
      "[CV] gamma=3.0, C=1000.0, kernel=rbf .................................\n",
      "[CV] .................. gamma=3.0, C=1000.0, kernel=rbf, total=  11.9s\n",
      "[CV] .................. gamma=3.0, C=1000.0, kernel=rbf, total=  12.4s\n",
      "[CV] .................. gamma=3.0, C=1000.0, kernel=rbf, total=  11.7s\n",
      "[CV] .................. gamma=3.0, C=1000.0, kernel=rbf, total=  11.8s\n"
     ]
    },
    {
     "name": "stderr",
     "output_type": "stream",
     "text": [
      "[Parallel(n_jobs=4)]: Done 250 out of 250 | elapsed: 16.5min finished\n"
     ]
    },
    {
     "data": {
      "text/plain": [
       "GridSearchCV(cv=5, error_score='raise',\n",
       "       estimator=SVR(C=1.0, cache_size=200, coef0=0.0, degree=3, epsilon=0.1, gamma='auto',\n",
       "  kernel='rbf', max_iter=-1, shrinking=True, tol=0.001, verbose=False),\n",
       "       fit_params=None, iid=True, n_jobs=4,\n",
       "       param_grid=[{'C': [10.0, 30.0, 100.0, 300.0, 1000.0, 3000.0, 10000.0, 30000.0], 'kernel': ['linear']}, {'gamma': [0.01, 0.03, 0.1, 0.3, 1.0, 3.0], 'C': [1.0, 3.0, 10.0, 30.0, 100.0, 300.0, 1000.0], 'kernel': ['rbf']}],\n",
       "       pre_dispatch='2*n_jobs', refit=True, return_train_score=True,\n",
       "       scoring='neg_mean_squared_error', verbose=2)"
      ]
     },
     "execution_count": 108,
     "metadata": {},
     "output_type": "execute_result"
    }
   ],
   "source": [
    "from sklearn.model_selection import GridSearchCV\n",
    "\n",
    "param_grid = [\n",
    "        {'kernel': ['linear'], 'C': [10., 30., 100., 300., 1000., 3000., 10000., 30000.0]},\n",
    "        {'kernel': ['rbf'], 'C': [1.0, 3.0, 10., 30., 100., 300., 1000.0],\n",
    "         'gamma': [0.01, 0.03, 0.1, 0.3, 1.0, 3.0]},\n",
    "    ]\n",
    "\n",
    "svm_reg = SVR()\n",
    "grid_search = GridSearchCV(svm_reg, param_grid, cv=5, scoring='neg_mean_squared_error', verbose=2, n_jobs=4)\n",
    "grid_search.fit(housing_prepared, housing_labels)"
   ]
  },
  {
   "cell_type": "markdown",
   "metadata": {},
   "source": [
    "The best model achieves the following score (evaluated using 5-fold cross validation):"
   ]
  },
  {
   "cell_type": "code",
   "execution_count": 109,
   "metadata": {
    "collapsed": false
   },
   "outputs": [
    {
     "data": {
      "text/plain": [
       "70363.903139641669"
      ]
     },
     "execution_count": 109,
     "metadata": {},
     "output_type": "execute_result"
    }
   ],
   "source": [
    "negative_mse = grid_search.best_score_\n",
    "rmse = np.sqrt(-negative_mse)\n",
    "rmse"
   ]
  },
  {
   "cell_type": "markdown",
   "metadata": {},
   "source": [
    "That's much worse than the `RandomForestRegressor`. Let's check the best hyperparameters found:"
   ]
  },
  {
   "cell_type": "code",
   "execution_count": 110,
   "metadata": {
    "collapsed": false
   },
   "outputs": [
    {
     "data": {
      "text/plain": [
       "{'C': 30000.0, 'kernel': 'linear'}"
      ]
     },
     "execution_count": 110,
     "metadata": {},
     "output_type": "execute_result"
    }
   ],
   "source": [
    "grid_search.best_params_"
   ]
  },
  {
   "cell_type": "markdown",
   "metadata": {},
   "source": [
    "The linear kernel seems better than the RBF kernel. Notice that the value of `C` is the maximum tested value. When this happens you definitely want to launch the grid search again with higher values for `C` (removing the smallest values), because it is likely that higher values of `C` will be better."
   ]
  },
  {
   "cell_type": "markdown",
   "metadata": {},
   "source": [
    "## 2."
   ]
  },
  {
   "cell_type": "markdown",
   "metadata": {},
   "source": [
    "Question: Try replacing `GridSearchCV` with `RandomizedSearchCV`."
   ]
  },
  {
   "cell_type": "code",
   "execution_count": 111,
   "metadata": {
    "collapsed": false
   },
   "outputs": [
    {
     "name": "stdout",
     "output_type": "stream",
     "text": [
      "Fitting 5 folds for each of 50 candidates, totalling 250 fits\n",
      "[CV] gamma=3.01012143092, C=629.782329591, kernel=linear .............\n",
      "[CV] gamma=3.01012143092, C=629.782329591, kernel=linear .............\n",
      "[CV] gamma=3.01012143092, C=629.782329591, kernel=linear .............\n",
      "[CV] gamma=3.01012143092, C=629.782329591, kernel=linear .............\n",
      "[CV]  gamma=3.01012143092, C=629.782329591, kernel=linear, total=   6.6s\n",
      "[CV] gamma=3.01012143092, C=629.782329591, kernel=linear .............\n",
      "[CV]  gamma=3.01012143092, C=629.782329591, kernel=linear, total=   6.6s\n",
      "[CV] gamma=0.908446969632, C=26290.2064643, kernel=rbf ...............\n",
      "[CV]  gamma=3.01012143092, C=629.782329591, kernel=linear, total=   6.7s\n",
      "[CV] gamma=0.908446969632, C=26290.2064643, kernel=rbf ...............\n",
      "[CV]  gamma=3.01012143092, C=629.782329591, kernel=linear, total=   6.8s\n",
      "[CV] gamma=0.908446969632, C=26290.2064643, kernel=rbf ...............\n",
      "[CV]  gamma=3.01012143092, C=629.782329591, kernel=linear, total=   6.6s\n",
      "[CV] gamma=0.908446969632, C=26290.2064643, kernel=rbf ...............\n",
      "[CV]  gamma=0.908446969632, C=26290.2064643, kernel=rbf, total=  25.6s\n",
      "[CV] gamma=0.908446969632, C=26290.2064643, kernel=rbf ...............\n",
      "[CV]  gamma=0.908446969632, C=26290.2064643, kernel=rbf, total=  25.7s\n",
      "[CV] gamma=0.0598387686087, C=84.1410790058, kernel=rbf ..............\n",
      "[CV]  gamma=0.908446969632, C=26290.2064643, kernel=rbf, total=  25.9s\n",
      "[CV] gamma=0.0598387686087, C=84.1410790058, kernel=rbf ..............\n",
      "[CV]  gamma=0.908446969632, C=26290.2064643, kernel=rbf, total=  25.9s\n",
      "[CV] gamma=0.0598387686087, C=84.1410790058, kernel=rbf ..............\n",
      "[CV]  gamma=0.0598387686087, C=84.1410790058, kernel=rbf, total=  11.1s\n",
      "[CV] gamma=0.0598387686087, C=84.1410790058, kernel=rbf ..............\n",
      "[CV]  gamma=0.0598387686087, C=84.1410790058, kernel=rbf, total=  11.3s\n",
      "[CV] gamma=0.0598387686087, C=84.1410790058, kernel=rbf ..............\n",
      "[CV]  gamma=0.908446969632, C=26290.2064643, kernel=rbf, total=  13.4s\n",
      "[CV] gamma=0.154161967467, C=432.378848131, kernel=linear ............\n",
      "[CV]  gamma=0.0598387686087, C=84.1410790058, kernel=rbf, total=  11.2s\n",
      "[CV] gamma=0.154161967467, C=432.378848131, kernel=linear ............\n",
      "[CV]  gamma=0.154161967467, C=432.378848131, kernel=linear, total=   6.3s\n",
      "[CV] gamma=0.154161967467, C=432.378848131, kernel=linear ............\n",
      "[CV]  gamma=0.0598387686087, C=84.1410790058, kernel=rbf, total=  11.2s\n",
      "[CV] gamma=0.154161967467, C=432.378848131, kernel=linear ............\n",
      "[CV]  gamma=0.0598387686087, C=84.1410790058, kernel=rbf, total=  11.4s\n",
      "[CV] gamma=0.154161967467, C=432.378848131, kernel=linear ............\n",
      "[CV]  gamma=0.154161967467, C=432.378848131, kernel=linear, total=   6.6s\n",
      "[CV] gamma=3.50355747516, C=24.1750829461, kernel=rbf ................\n",
      "[CV]  gamma=0.154161967467, C=432.378848131, kernel=linear, total=   6.6s\n",
      "[CV] gamma=3.50355747516, C=24.1750829461, kernel=rbf ................\n",
      "[CV]  gamma=0.154161967467, C=432.378848131, kernel=linear, total=   6.5s\n",
      "[CV] gamma=3.50355747516, C=24.1750829461, kernel=rbf ................\n",
      "[CV]  gamma=0.154161967467, C=432.378848131, kernel=linear, total=   6.6s\n",
      "[CV] gamma=3.50355747516, C=24.1750829461, kernel=rbf ................\n",
      "[CV] . gamma=3.50355747516, C=24.1750829461, kernel=rbf, total=  12.6s\n",
      "[CV] gamma=3.50355747516, C=24.1750829461, kernel=rbf ................\n",
      "[CV] . gamma=3.50355747516, C=24.1750829461, kernel=rbf, total=  12.5s\n",
      "[CV] gamma=0.000779069236658, C=113564.039406, kernel=rbf ............\n",
      "[CV] . gamma=3.50355747516, C=24.1750829461, kernel=rbf, total=  12.7s\n",
      "[CV] gamma=0.000779069236658, C=113564.039406, kernel=rbf ............\n",
      "[CV] . gamma=3.50355747516, C=24.1750829461, kernel=rbf, total=  12.4s\n",
      "[CV] gamma=0.000779069236658, C=113564.039406, kernel=rbf ............\n",
      "[CV]  gamma=0.000779069236658, C=113564.039406, kernel=rbf, total=  10.7s\n",
      "[CV] gamma=0.000779069236658, C=113564.039406, kernel=rbf ............\n",
      "[CV] . gamma=3.50355747516, C=24.1750829461, kernel=rbf, total=  12.4s\n",
      "[CV] gamma=0.000779069236658, C=113564.039406, kernel=rbf ............\n",
      "[CV]  gamma=0.000779069236658, C=113564.039406, kernel=rbf, total=  10.8s\n",
      "[CV] gamma=0.36275372946, C=108.304882388, kernel=rbf ................\n",
      "[CV]  gamma=0.000779069236658, C=113564.039406, kernel=rbf, total=  11.0s\n",
      "[CV] gamma=0.36275372946, C=108.304882388, kernel=rbf ................\n",
      "[CV]  gamma=0.000779069236658, C=113564.039406, kernel=rbf, total=  10.9s\n",
      "[CV] gamma=0.36275372946, C=108.304882388, kernel=rbf ................\n",
      "[CV]  gamma=0.000779069236658, C=113564.039406, kernel=rbf, total=  10.7s\n",
      "[CV] gamma=0.36275372946, C=108.304882388, kernel=rbf ................\n",
      "[CV] . gamma=0.36275372946, C=108.304882388, kernel=rbf, total=  10.8s\n",
      "[CV] gamma=0.36275372946, C=108.304882388, kernel=rbf ................\n",
      "[CV] . gamma=0.36275372946, C=108.304882388, kernel=rbf, total=  10.9s\n",
      "[CV] gamma=0.0233325235983, C=21.3449536726, kernel=linear ...........\n",
      "[CV]  gamma=0.0233325235983, C=21.3449536726, kernel=linear, total=   6.5s\n",
      "[CV] gamma=0.0233325235983, C=21.3449536726, kernel=linear ...........\n"
     ]
    },
    {
     "name": "stderr",
     "output_type": "stream",
     "text": [
      "[Parallel(n_jobs=4)]: Done  33 tasks      | elapsed:  2.4min\n"
     ]
    },
    {
     "name": "stdout",
     "output_type": "stream",
     "text": [
      "[CV] . gamma=0.36275372946, C=108.304882388, kernel=rbf, total=  10.8s\n",
      "[CV] gamma=0.0233325235983, C=21.3449536726, kernel=linear ...........\n",
      "[CV] . gamma=0.36275372946, C=108.304882388, kernel=rbf, total=  10.9s\n",
      "[CV] gamma=0.0233325235983, C=21.3449536726, kernel=linear ...........\n",
      "[CV] . gamma=0.36275372946, C=108.304882388, kernel=rbf, total=  10.7s\n",
      "[CV] gamma=0.0233325235983, C=21.3449536726, kernel=linear ...........\n",
      "[CV]  gamma=0.0233325235983, C=21.3449536726, kernel=linear, total=   6.6s\n",
      "[CV] gamma=0.150234528727, C=5603.27031743, kernel=rbf ...............\n",
      "[CV]  gamma=0.0233325235983, C=21.3449536726, kernel=linear, total=   6.5s\n",
      "[CV] gamma=0.150234528727, C=5603.27031743, kernel=rbf ...............\n",
      "[CV]  gamma=0.0233325235983, C=21.3449536726, kernel=linear, total=   6.5s\n",
      "[CV] gamma=0.150234528727, C=5603.27031743, kernel=rbf ...............\n",
      "[CV]  gamma=0.0233325235983, C=21.3449536726, kernel=linear, total=   6.4s\n",
      "[CV] gamma=0.150234528727, C=5603.27031743, kernel=rbf ...............\n",
      "[CV]  gamma=0.150234528727, C=5603.27031743, kernel=rbf, total=  10.7s\n",
      "[CV] gamma=0.150234528727, C=5603.27031743, kernel=rbf ...............\n",
      "[CV]  gamma=0.150234528727, C=5603.27031743, kernel=rbf, total=  10.5s\n",
      "[CV] gamma=0.26497040005, C=157055.109894, kernel=rbf ................\n",
      "[CV]  gamma=0.150234528727, C=5603.27031743, kernel=rbf, total=  10.7s\n",
      "[CV] gamma=0.26497040005, C=157055.109894, kernel=rbf ................\n",
      "[CV]  gamma=0.150234528727, C=5603.27031743, kernel=rbf, total=  10.5s\n",
      "[CV] gamma=0.26497040005, C=157055.109894, kernel=rbf ................\n",
      "[CV]  gamma=0.150234528727, C=5603.27031743, kernel=rbf, total=  10.6s\n",
      "[CV] gamma=0.26497040005, C=157055.109894, kernel=rbf ................\n",
      "[CV] . gamma=0.26497040005, C=157055.109894, kernel=rbf, total=  25.8s\n",
      "[CV] gamma=0.26497040005, C=157055.109894, kernel=rbf ................\n",
      "[CV] . gamma=0.26497040005, C=157055.109894, kernel=rbf, total=  27.3s\n",
      "[CV] gamma=0.222735862129, C=27652.4643587, kernel=linear ............\n",
      "[CV] . gamma=0.26497040005, C=157055.109894, kernel=rbf, total=  30.9s\n",
      "[CV] gamma=0.222735862129, C=27652.4643587, kernel=linear ............\n",
      "[CV] . gamma=0.26497040005, C=157055.109894, kernel=rbf, total=  25.5s\n",
      "[CV] gamma=0.222735862129, C=27652.4643587, kernel=linear ............\n",
      "[CV]  gamma=0.222735862129, C=27652.4643587, kernel=linear, total=  14.1s\n",
      "[CV] gamma=0.222735862129, C=27652.4643587, kernel=linear ............\n",
      "[CV]  gamma=0.222735862129, C=27652.4643587, kernel=linear, total=  15.0s\n",
      "[CV] gamma=0.222735862129, C=27652.4643587, kernel=linear ............\n",
      "[CV] . gamma=0.26497040005, C=157055.109894, kernel=rbf, total=  27.8s\n",
      "[CV] gamma=0.628789100541, C=171377.395704, kernel=linear ............\n",
      "[CV]  gamma=0.222735862129, C=27652.4643587, kernel=linear, total=  15.6s\n",
      "[CV] gamma=0.628789100541, C=171377.395704, kernel=linear ............\n",
      "[CV]  gamma=0.222735862129, C=27652.4643587, kernel=linear, total=  14.1s\n",
      "[CV] gamma=0.628789100541, C=171377.395704, kernel=linear ............\n",
      "[CV]  gamma=0.222735862129, C=27652.4643587, kernel=linear, total=  12.4s\n",
      "[CV] gamma=0.628789100541, C=171377.395704, kernel=linear ............\n",
      "[CV]  gamma=0.628789100541, C=171377.395704, kernel=linear, total=  46.0s\n",
      "[CV] gamma=0.628789100541, C=171377.395704, kernel=linear ............\n",
      "[CV]  gamma=0.628789100541, C=171377.395704, kernel=linear, total=  57.9s\n",
      "[CV] gamma=0.186961251977, C=5385.29382017, kernel=linear ............\n",
      "[CV]  gamma=0.628789100541, C=171377.395704, kernel=linear, total=  59.5s\n",
      "[CV] gamma=0.186961251977, C=5385.29382017, kernel=linear ............\n",
      "[CV]  gamma=0.628789100541, C=171377.395704, kernel=linear, total=  50.6s\n",
      "[CV] gamma=0.186961251977, C=5385.29382017, kernel=linear ............\n",
      "[CV]  gamma=0.186961251977, C=5385.29382017, kernel=linear, total=   8.0s\n",
      "[CV] gamma=0.186961251977, C=5385.29382017, kernel=linear ............\n",
      "[CV]  gamma=0.186961251977, C=5385.29382017, kernel=linear, total=   8.2s\n",
      "[CV] gamma=0.186961251977, C=5385.29382017, kernel=linear ............\n",
      "[CV]  gamma=0.186961251977, C=5385.29382017, kernel=linear, total=   8.2s\n",
      "[CV] gamma=2.85079687894, C=22.5990321662, kernel=rbf ................\n",
      "[CV]  gamma=0.186961251977, C=5385.29382017, kernel=linear, total=   7.9s\n",
      "[CV] gamma=2.85079687894, C=22.5990321662, kernel=rbf ................\n",
      "[CV]  gamma=0.186961251977, C=5385.29382017, kernel=linear, total=   8.1s\n",
      "[CV] gamma=2.85079687894, C=22.5990321662, kernel=rbf ................\n",
      "[CV] . gamma=2.85079687894, C=22.5990321662, kernel=rbf, total=  11.8s\n",
      "[CV] gamma=2.85079687894, C=22.5990321662, kernel=rbf ................\n",
      "[CV]  gamma=0.628789100541, C=171377.395704, kernel=linear, total=  39.8s\n",
      "[CV] gamma=2.85079687894, C=22.5990321662, kernel=rbf ................\n",
      "[CV] . gamma=2.85079687894, C=22.5990321662, kernel=rbf, total=  11.8s\n",
      "[CV] gamma=0.363287859969, C=34246.7519463, kernel=linear ............\n",
      "[CV] . gamma=2.85079687894, C=22.5990321662, kernel=rbf, total=  11.8s\n",
      "[CV] gamma=0.363287859969, C=34246.7519463, kernel=linear ............\n",
      "[CV] . gamma=2.85079687894, C=22.5990321662, kernel=rbf, total=  11.9s\n",
      "[CV] gamma=0.363287859969, C=34246.7519463, kernel=linear ............\n",
      "[CV] . gamma=2.85079687894, C=22.5990321662, kernel=rbf, total=  11.6s\n",
      "[CV] gamma=0.363287859969, C=34246.7519463, kernel=linear ............\n",
      "[CV]  gamma=0.363287859969, C=34246.7519463, kernel=linear, total=  16.4s\n",
      "[CV] gamma=0.363287859969, C=34246.7519463, kernel=linear ............\n",
      "[CV]  gamma=0.363287859969, C=34246.7519463, kernel=linear, total=  16.3s\n",
      "[CV] gamma=0.275787054226, C=167.727895608, kernel=rbf ...............\n",
      "[CV]  gamma=0.363287859969, C=34246.7519463, kernel=linear, total=  16.2s\n",
      "[CV] gamma=0.275787054226, C=167.727895608, kernel=rbf ...............\n",
      "[CV]  gamma=0.363287859969, C=34246.7519463, kernel=linear, total=  16.9s\n",
      "[CV] gamma=0.275787054226, C=167.727895608, kernel=rbf ...............\n",
      "[CV]  gamma=0.363287859969, C=34246.7519463, kernel=linear, total=  14.6s\n",
      "[CV] gamma=0.275787054226, C=167.727895608, kernel=rbf ...............\n",
      "[CV]  gamma=0.275787054226, C=167.727895608, kernel=rbf, total=  11.1s\n",
      "[CV] gamma=0.275787054226, C=167.727895608, kernel=rbf ...............\n",
      "[CV]  gamma=0.275787054226, C=167.727895608, kernel=rbf, total=  10.7s\n",
      "[CV] gamma=0.683547228134, C=61.543605425, kernel=linear .............\n",
      "[CV]  gamma=0.275787054226, C=167.727895608, kernel=rbf, total=  10.8s\n",
      "[CV] gamma=0.683547228134, C=61.543605425, kernel=linear .............\n",
      "[CV]  gamma=0.683547228134, C=61.543605425, kernel=linear, total=   6.4s\n",
      "[CV] gamma=0.683547228134, C=61.543605425, kernel=linear .............\n",
      "[CV]  gamma=0.275787054226, C=167.727895608, kernel=rbf, total=  10.7s\n",
      "[CV] gamma=0.683547228134, C=61.543605425, kernel=linear .............\n",
      "[CV]  gamma=0.275787054226, C=167.727895608, kernel=rbf, total=  10.9s\n",
      "[CV] gamma=0.683547228134, C=61.543605425, kernel=linear .............\n",
      "[CV]  gamma=0.683547228134, C=61.543605425, kernel=linear, total=   6.3s\n",
      "[CV] gamma=0.496036536049, C=98.7389738992, kernel=rbf ...............\n",
      "[CV]  gamma=0.683547228134, C=61.543605425, kernel=linear, total=   6.5s\n",
      "[CV] gamma=0.496036536049, C=98.7389738992, kernel=rbf ...............\n",
      "[CV]  gamma=0.683547228134, C=61.543605425, kernel=linear, total=   6.4s\n",
      "[CV] gamma=0.496036536049, C=98.7389738992, kernel=rbf ...............\n",
      "[CV]  gamma=0.683547228134, C=61.543605425, kernel=linear, total=   6.3s\n",
      "[CV] gamma=0.496036536049, C=98.7389738992, kernel=rbf ...............\n",
      "[CV]  gamma=0.496036536049, C=98.7389738992, kernel=rbf, total=  10.7s\n",
      "[CV] gamma=0.496036536049, C=98.7389738992, kernel=rbf ...............\n",
      "[CV]  gamma=0.496036536049, C=98.7389738992, kernel=rbf, total=  10.7s\n",
      "[CV] gamma=0.373546581658, C=8935.50563595, kernel=rbf ...............\n",
      "[CV]  gamma=0.496036536049, C=98.7389738992, kernel=rbf, total=  10.7s\n",
      "[CV] gamma=0.373546581658, C=8935.50563595, kernel=rbf ...............\n",
      "[CV]  gamma=0.496036536049, C=98.7389738992, kernel=rbf, total=  11.1s\n",
      "[CV] gamma=0.373546581658, C=8935.50563595, kernel=rbf ...............\n",
      "[CV]  gamma=0.496036536049, C=98.7389738992, kernel=rbf, total=  10.7s\n",
      "[CV] gamma=0.373546581658, C=8935.50563595, kernel=rbf ...............\n",
      "[CV]  gamma=0.373546581658, C=8935.50563595, kernel=rbf, total=  10.6s\n",
      "[CV] gamma=0.373546581658, C=8935.50563595, kernel=rbf ...............\n",
      "[CV]  gamma=0.373546581658, C=8935.50563595, kernel=rbf, total=  10.6s\n",
      "[CV] gamma=0.838636245625, C=135.767758248, kernel=linear ............\n",
      "[CV]  gamma=0.373546581658, C=8935.50563595, kernel=rbf, total=  11.0s\n",
      "[CV] gamma=0.838636245625, C=135.767758248, kernel=linear ............\n",
      "[CV]  gamma=0.373546581658, C=8935.50563595, kernel=rbf, total=  10.8s\n",
      "[CV] gamma=0.838636245625, C=135.767758248, kernel=linear ............\n",
      "[CV]  gamma=0.838636245625, C=135.767758248, kernel=linear, total=   6.4s\n",
      "[CV] gamma=0.838636245625, C=135.767758248, kernel=linear ............\n",
      "[CV]  gamma=0.838636245625, C=135.767758248, kernel=linear, total=   6.6s\n",
      "[CV] gamma=0.838636245625, C=135.767758248, kernel=linear ............\n",
      "[CV]  gamma=0.373546581658, C=8935.50563595, kernel=rbf, total=  10.9s\n",
      "[CV] gamma=1.49224537714, C=151136.202825, kernel=rbf ................\n",
      "[CV]  gamma=0.838636245625, C=135.767758248, kernel=linear, total=   6.8s\n",
      "[CV] gamma=1.49224537714, C=151136.202825, kernel=rbf ................\n",
      "[CV]  gamma=0.838636245625, C=135.767758248, kernel=linear, total=   6.6s\n",
      "[CV] gamma=1.49224537714, C=151136.202825, kernel=rbf ................\n",
      "[CV]  gamma=0.838636245625, C=135.767758248, kernel=linear, total=   6.6s\n",
      "[CV] gamma=1.49224537714, C=151136.202825, kernel=rbf ................\n",
      "[CV] . gamma=1.49224537714, C=151136.202825, kernel=rbf, total= 1.8min\n",
      "[CV] gamma=1.49224537714, C=151136.202825, kernel=rbf ................\n",
      "[CV] . gamma=1.49224537714, C=151136.202825, kernel=rbf, total= 1.9min\n",
      "[CV] gamma=2.61263365142, C=761.43167585, kernel=linear ..............\n",
      "[CV]  gamma=2.61263365142, C=761.43167585, kernel=linear, total=   6.6s\n",
      "[CV] gamma=2.61263365142, C=761.43167585, kernel=linear ..............\n",
      "[CV]  gamma=2.61263365142, C=761.43167585, kernel=linear, total=   6.7s\n",
      "[CV] gamma=2.61263365142, C=761.43167585, kernel=linear ..............\n",
      "[CV] . gamma=1.49224537714, C=151136.202825, kernel=rbf, total= 2.3min\n",
      "[CV] gamma=2.61263365142, C=761.43167585, kernel=linear ..............\n",
      "[CV]  gamma=2.61263365142, C=761.43167585, kernel=linear, total=   6.7s\n",
      "[CV] gamma=2.61263365142, C=761.43167585, kernel=linear ..............\n",
      "[CV]  gamma=2.61263365142, C=761.43167585, kernel=linear, total=   6.6s\n",
      "[CV] gamma=0.0926554589531, C=97392.8188304, kernel=linear ...........\n",
      "[CV] . gamma=1.49224537714, C=151136.202825, kernel=rbf, total= 2.5min\n",
      "[CV] gamma=0.0926554589531, C=97392.8188304, kernel=linear ...........\n",
      "[CV]  gamma=2.61263365142, C=761.43167585, kernel=linear, total=   6.6s\n",
      "[CV] gamma=0.0926554589531, C=97392.8188304, kernel=linear ...........\n",
      "[CV]  gamma=0.0926554589531, C=97392.8188304, kernel=linear, total=  32.9s\n",
      "[CV] gamma=0.0926554589531, C=97392.8188304, kernel=linear ...........\n",
      "[CV]  gamma=0.0926554589531, C=97392.8188304, kernel=linear, total=  32.0s\n",
      "[CV] gamma=0.0926554589531, C=97392.8188304, kernel=linear ...........\n",
      "[CV]  gamma=0.0926554589531, C=97392.8188304, kernel=linear, total=  50.7s\n",
      "[CV] gamma=3.24861427024, C=2423.07599849, kernel=linear .............\n",
      "[CV]  gamma=0.0926554589531, C=97392.8188304, kernel=linear, total=  27.2s\n",
      "[CV] gamma=3.24861427024, C=2423.07599849, kernel=linear .............\n",
      "[CV]  gamma=3.24861427024, C=2423.07599849, kernel=linear, total=   7.3s\n",
      "[CV] gamma=3.24861427024, C=2423.07599849, kernel=linear .............\n",
      "[CV]  gamma=0.0926554589531, C=97392.8188304, kernel=linear, total=  33.6s\n",
      "[CV] gamma=3.24861427024, C=2423.07599849, kernel=linear .............\n",
      "[CV]  gamma=3.24861427024, C=2423.07599849, kernel=linear, total=   7.1s\n",
      "[CV] gamma=3.24861427024, C=2423.07599849, kernel=linear .............\n",
      "[CV]  gamma=3.24861427024, C=2423.07599849, kernel=linear, total=   7.5s\n",
      "[CV] gamma=0.316560443209, C=717.363299726, kernel=linear ............\n",
      "[CV]  gamma=3.24861427024, C=2423.07599849, kernel=linear, total=   7.4s\n",
      "[CV] gamma=0.316560443209, C=717.363299726, kernel=linear ............\n",
      "[CV]  gamma=0.316560443209, C=717.363299726, kernel=linear, total=   6.6s\n",
      "[CV] gamma=0.316560443209, C=717.363299726, kernel=linear ............\n",
      "[CV]  gamma=3.24861427024, C=2423.07599849, kernel=linear, total=   7.1s\n",
      "[CV] gamma=0.316560443209, C=717.363299726, kernel=linear ............\n",
      "[CV]  gamma=0.316560443209, C=717.363299726, kernel=linear, total=   6.6s\n",
      "[CV] gamma=0.316560443209, C=717.363299726, kernel=linear ............\n",
      "[CV]  gamma=0.316560443209, C=717.363299726, kernel=linear, total=   6.8s\n",
      "[CV] gamma=3.35972844566, C=4446.66752118, kernel=rbf ................\n",
      "[CV]  gamma=0.316560443209, C=717.363299726, kernel=linear, total=   6.7s\n",
      "[CV] gamma=3.35972844566, C=4446.66752118, kernel=rbf ................\n",
      "[CV]  gamma=0.316560443209, C=717.363299726, kernel=linear, total=   6.5s\n",
      "[CV] gamma=3.35972844566, C=4446.66752118, kernel=rbf ................\n",
      "[CV] . gamma=1.49224537714, C=151136.202825, kernel=rbf, total= 2.2min\n",
      "[CV] gamma=3.35972844566, C=4446.66752118, kernel=rbf ................\n",
      "[CV] . gamma=3.35972844566, C=4446.66752118, kernel=rbf, total=  12.3s\n",
      "[CV] gamma=3.35972844566, C=4446.66752118, kernel=rbf ................\n",
      "[CV] . gamma=3.35972844566, C=4446.66752118, kernel=rbf, total=  12.4s\n",
      "[CV] gamma=0.151898147821, C=2963.56412121, kernel=linear ............\n",
      "[CV] . gamma=3.35972844566, C=4446.66752118, kernel=rbf, total=  12.3s\n",
      "[CV] gamma=0.151898147821, C=2963.56412121, kernel=linear ............\n",
      "[CV] . gamma=3.35972844566, C=4446.66752118, kernel=rbf, total=  12.3s\n",
      "[CV] gamma=0.151898147821, C=2963.56412121, kernel=linear ............\n",
      "[CV]  gamma=0.151898147821, C=2963.56412121, kernel=linear, total=   7.2s\n",
      "[CV] gamma=0.151898147821, C=2963.56412121, kernel=linear ............\n",
      "[CV]  gamma=0.151898147821, C=2963.56412121, kernel=linear, total=   7.6s\n",
      "[CV] gamma=0.151898147821, C=2963.56412121, kernel=linear ............\n",
      "[CV]  gamma=0.151898147821, C=2963.56412121, kernel=linear, total=   7.7s\n",
      "[CV] gamma=0.0157599448359, C=91.6426738169, kernel=linear ...........\n",
      "[CV] . gamma=3.35972844566, C=4446.66752118, kernel=rbf, total=  12.8s\n",
      "[CV] gamma=0.0157599448359, C=91.6426738169, kernel=linear ...........\n",
      "[CV]  gamma=0.151898147821, C=2963.56412121, kernel=linear, total=   7.4s\n",
      "[CV] gamma=0.0157599448359, C=91.6426738169, kernel=linear ...........\n",
      "[CV]  gamma=0.151898147821, C=2963.56412121, kernel=linear, total=   7.1s\n",
      "[CV] gamma=0.0157599448359, C=91.6426738169, kernel=linear ...........\n",
      "[CV]  gamma=0.0157599448359, C=91.6426738169, kernel=linear, total=   6.3s\n",
      "[CV] gamma=0.0157599448359, C=91.6426738169, kernel=linear ...........\n",
      "[CV]  gamma=0.0157599448359, C=91.6426738169, kernel=linear, total=   6.4s\n",
      "[CV] gamma=0.221539440506, C=24547.6019757, kernel=rbf ...............\n",
      "[CV]  gamma=0.0157599448359, C=91.6426738169, kernel=linear, total=   6.8s\n",
      "[CV] gamma=0.221539440506, C=24547.6019757, kernel=rbf ...............\n",
      "[CV]  gamma=0.0157599448359, C=91.6426738169, kernel=linear, total=   6.4s\n",
      "[CV] gamma=0.221539440506, C=24547.6019757, kernel=rbf ...............\n",
      "[CV]  gamma=0.0157599448359, C=91.6426738169, kernel=linear, total=   6.3s\n",
      "[CV] gamma=0.221539440506, C=24547.6019757, kernel=rbf ...............\n",
      "[CV]  gamma=0.221539440506, C=24547.6019757, kernel=rbf, total=  11.3s\n",
      "[CV] gamma=0.221539440506, C=24547.6019757, kernel=rbf ...............\n",
      "[CV]  gamma=0.221539440506, C=24547.6019757, kernel=rbf, total=  11.2s\n",
      "[CV] gamma=0.221697602314, C=22.7692794106, kernel=rbf ...............\n",
      "[CV]  gamma=0.221539440506, C=24547.6019757, kernel=rbf, total=  11.1s\n",
      "[CV] gamma=0.221697602314, C=22.7692794106, kernel=rbf ...............\n",
      "[CV]  gamma=0.221539440506, C=24547.6019757, kernel=rbf, total=  11.1s\n",
      "[CV] gamma=0.221697602314, C=22.7692794106, kernel=rbf ...............\n",
      "[CV]  gamma=0.221539440506, C=24547.6019757, kernel=rbf, total=  11.3s\n",
      "[CV] gamma=0.221697602314, C=22.7692794106, kernel=rbf ...............\n",
      "[CV]  gamma=0.221697602314, C=22.7692794106, kernel=rbf, total=  11.0s\n",
      "[CV] gamma=0.221697602314, C=22.7692794106, kernel=rbf ...............\n",
      "[CV]  gamma=0.221697602314, C=22.7692794106, kernel=rbf, total=  10.9s\n",
      "[CV] gamma=1.47521452604, C=16483.8505298, kernel=linear .............\n",
      "[CV]  gamma=0.221697602314, C=22.7692794106, kernel=rbf, total=  10.9s\n",
      "[CV] gamma=1.47521452604, C=16483.8505298, kernel=linear .............\n",
      "[CV]  gamma=1.47521452604, C=16483.8505298, kernel=linear, total=  10.4s\n",
      "[CV] gamma=1.47521452604, C=16483.8505298, kernel=linear .............\n",
      "[CV]  gamma=0.221697602314, C=22.7692794106, kernel=rbf, total=  11.2s\n",
      "[CV] gamma=1.47521452604, C=16483.8505298, kernel=linear .............\n",
      "[CV]  gamma=0.221697602314, C=22.7692794106, kernel=rbf, total=  11.0s\n",
      "[CV] gamma=1.47521452604, C=16483.8505298, kernel=linear .............\n",
      "[CV]  gamma=1.47521452604, C=16483.8505298, kernel=linear, total=  11.1s\n",
      "[CV] gamma=1.05290408458, C=101445.668813, kernel=rbf ................\n",
      "[CV]  gamma=1.47521452604, C=16483.8505298, kernel=linear, total=  11.3s\n",
      "[CV] gamma=1.05290408458, C=101445.668813, kernel=rbf ................\n",
      "[CV]  gamma=1.47521452604, C=16483.8505298, kernel=linear, total=  10.2s\n",
      "[CV] gamma=1.05290408458, C=101445.668813, kernel=rbf ................\n"
     ]
    },
    {
     "name": "stderr",
     "output_type": "stream",
     "text": [
      "[Parallel(n_jobs=4)]: Done 154 tasks      | elapsed: 13.2min\n"
     ]
    },
    {
     "name": "stdout",
     "output_type": "stream",
     "text": [
      "[CV]  gamma=1.47521452604, C=16483.8505298, kernel=linear, total=  11.9s\n",
      "[CV] gamma=1.05290408458, C=101445.668813, kernel=rbf ................\n",
      "[CV] . gamma=1.05290408458, C=101445.668813, kernel=rbf, total=  51.0s\n",
      "[CV] gamma=1.05290408458, C=101445.668813, kernel=rbf ................\n",
      "[CV] . gamma=1.05290408458, C=101445.668813, kernel=rbf, total=  47.6s\n",
      "[CV] gamma=0.976301191712, C=56681.8085903, kernel=rbf ...............\n",
      "[CV] . gamma=1.05290408458, C=101445.668813, kernel=rbf, total= 1.0min\n",
      "[CV] gamma=0.976301191712, C=56681.8085903, kernel=rbf ...............\n",
      "[CV] . gamma=1.05290408458, C=101445.668813, kernel=rbf, total= 1.1min\n",
      "[CV] gamma=0.976301191712, C=56681.8085903, kernel=rbf ...............\n",
      "[CV]  gamma=0.976301191712, C=56681.8085903, kernel=rbf, total=  21.3s\n",
      "[CV] gamma=0.976301191712, C=56681.8085903, kernel=rbf ...............\n",
      "[CV]  gamma=0.976301191712, C=56681.8085903, kernel=rbf, total=  21.4s\n",
      "[CV] gamma=0.976301191712, C=56681.8085903, kernel=rbf ...............\n",
      "[CV]  gamma=0.976301191712, C=56681.8085903, kernel=rbf, total=  20.9s\n",
      "[CV] gamma=0.463335116798, C=48.1582239093, kernel=rbf ...............\n",
      "[CV] . gamma=1.05290408458, C=101445.668813, kernel=rbf, total=  53.6s\n",
      "[CV] gamma=0.463335116798, C=48.1582239093, kernel=rbf ...............\n",
      "[CV]  gamma=0.976301191712, C=56681.8085903, kernel=rbf, total=  23.5s\n",
      "[CV] gamma=0.463335116798, C=48.1582239093, kernel=rbf ...............\n",
      "[CV]  gamma=0.463335116798, C=48.1582239093, kernel=rbf, total=  10.9s\n",
      "[CV] gamma=0.463335116798, C=48.1582239093, kernel=rbf ...............\n",
      "[CV]  gamma=0.463335116798, C=48.1582239093, kernel=rbf, total=  10.7s\n",
      "[CV] gamma=0.463335116798, C=48.1582239093, kernel=rbf ...............\n",
      "[CV]  gamma=0.976301191712, C=56681.8085903, kernel=rbf, total=  22.9s\n",
      "[CV] gamma=1.30787578396, C=399.726815571, kernel=rbf ................\n",
      "[CV]  gamma=0.463335116798, C=48.1582239093, kernel=rbf, total=  10.7s\n",
      "[CV] gamma=1.30787578396, C=399.726815571, kernel=rbf ................\n",
      "[CV]  gamma=0.463335116798, C=48.1582239093, kernel=rbf, total=  10.7s\n",
      "[CV] gamma=1.30787578396, C=399.726815571, kernel=rbf ................\n",
      "[CV]  gamma=0.463335116798, C=48.1582239093, kernel=rbf, total=  10.8s\n",
      "[CV] gamma=1.30787578396, C=399.726815571, kernel=rbf ................\n",
      "[CV] . gamma=1.30787578396, C=399.726815571, kernel=rbf, total=  10.7s\n",
      "[CV] gamma=1.30787578396, C=399.726815571, kernel=rbf ................\n",
      "[CV] . gamma=1.30787578396, C=399.726815571, kernel=rbf, total=  10.6s\n",
      "[CV] gamma=0.823810520491, C=251.140738863, kernel=linear ............\n",
      "[CV] . gamma=1.30787578396, C=399.726815571, kernel=rbf, total=  10.5s\n",
      "[CV] gamma=0.823810520491, C=251.140738863, kernel=linear ............\n",
      "[CV]  gamma=0.823810520491, C=251.140738863, kernel=linear, total=   6.3s\n",
      "[CV] gamma=0.823810520491, C=251.140738863, kernel=linear ............\n",
      "[CV] . gamma=1.30787578396, C=399.726815571, kernel=rbf, total=  10.7s\n",
      "[CV] gamma=0.823810520491, C=251.140738863, kernel=linear ............\n",
      "[CV]  gamma=0.823810520491, C=251.140738863, kernel=linear, total=   6.4s\n",
      "[CV] gamma=0.823810520491, C=251.140738863, kernel=linear ............\n",
      "[CV] . gamma=1.30787578396, C=399.726815571, kernel=rbf, total=  10.8s\n",
      "[CV] gamma=1.24912634432, C=60.1737364289, kernel=linear .............\n",
      "[CV]  gamma=0.823810520491, C=251.140738863, kernel=linear, total=   6.6s\n",
      "[CV] gamma=1.24912634432, C=60.1737364289, kernel=linear .............\n",
      "[CV]  gamma=0.823810520491, C=251.140738863, kernel=linear, total=   6.6s\n",
      "[CV] gamma=1.24912634432, C=60.1737364289, kernel=linear .............\n",
      "[CV]  gamma=1.24912634432, C=60.1737364289, kernel=linear, total=   6.5s\n",
      "[CV] gamma=1.24912634432, C=60.1737364289, kernel=linear .............\n",
      "[CV]  gamma=0.823810520491, C=251.140738863, kernel=linear, total=   6.8s\n",
      "[CV] gamma=1.24912634432, C=60.1737364289, kernel=linear .............\n",
      "[CV]  gamma=1.24912634432, C=60.1737364289, kernel=linear, total=   6.9s\n",
      "[CV] gamma=0.269167751462, C=15415.1615449, kernel=rbf ...............\n",
      "[CV]  gamma=1.24912634432, C=60.1737364289, kernel=linear, total=   6.5s\n",
      "[CV] gamma=0.269167751462, C=15415.1615449, kernel=rbf ...............\n",
      "[CV]  gamma=1.24912634432, C=60.1737364289, kernel=linear, total=   6.4s\n",
      "[CV] gamma=0.269167751462, C=15415.1615449, kernel=rbf ...............\n",
      "[CV]  gamma=1.24912634432, C=60.1737364289, kernel=linear, total=   6.5s\n",
      "[CV] gamma=0.269167751462, C=15415.1615449, kernel=rbf ...............\n",
      "[CV]  gamma=0.269167751462, C=15415.1615449, kernel=rbf, total=  10.8s\n",
      "[CV] gamma=0.269167751462, C=15415.1615449, kernel=rbf ...............\n",
      "[CV]  gamma=0.269167751462, C=15415.1615449, kernel=rbf, total=  11.3s\n",
      "[CV] gamma=0.739678838777, C=1888.914851, kernel=linear ..............\n",
      "[CV]  gamma=0.269167751462, C=15415.1615449, kernel=rbf, total=  10.9s\n",
      "[CV] gamma=0.739678838777, C=1888.914851, kernel=linear ..............\n",
      "[CV]  gamma=0.269167751462, C=15415.1615449, kernel=rbf, total=  11.3s\n",
      "[CV] gamma=0.739678838777, C=1888.914851, kernel=linear ..............\n",
      "[CV]  gamma=0.739678838777, C=1888.914851, kernel=linear, total=   7.0s\n",
      "[CV] gamma=0.739678838777, C=1888.914851, kernel=linear ..............\n",
      "[CV]  gamma=0.739678838777, C=1888.914851, kernel=linear, total=   7.1s\n",
      "[CV] gamma=0.739678838777, C=1888.914851, kernel=linear ..............\n",
      "[CV]  gamma=0.269167751462, C=15415.1615449, kernel=rbf, total=  10.8s\n",
      "[CV] gamma=0.578634378499, C=55.5383891123, kernel=linear ............\n",
      "[CV]  gamma=0.739678838777, C=1888.914851, kernel=linear, total=   7.4s\n",
      "[CV] gamma=0.578634378499, C=55.5383891123, kernel=linear ............\n",
      "[CV]  gamma=0.739678838777, C=1888.914851, kernel=linear, total=   7.1s\n",
      "[CV] gamma=0.578634378499, C=55.5383891123, kernel=linear ............\n",
      "[CV]  gamma=0.578634378499, C=55.5383891123, kernel=linear, total=   6.7s\n",
      "[CV] gamma=0.578634378499, C=55.5383891123, kernel=linear ............\n",
      "[CV]  gamma=0.578634378499, C=55.5383891123, kernel=linear, total=   6.5s\n",
      "[CV] gamma=0.578634378499, C=55.5383891123, kernel=linear ............\n",
      "[CV]  gamma=0.739678838777, C=1888.914851, kernel=linear, total=   6.9s\n",
      "[CV] gamma=1.01172955093, C=26.7144808239, kernel=rbf ................\n",
      "[CV]  gamma=0.578634378499, C=55.5383891123, kernel=linear, total=   7.0s\n",
      "[CV] gamma=1.01172955093, C=26.7144808239, kernel=rbf ................\n",
      "[CV]  gamma=0.578634378499, C=55.5383891123, kernel=linear, total=   6.3s\n",
      "[CV] gamma=1.01172955093, C=26.7144808239, kernel=rbf ................\n",
      "[CV]  gamma=0.578634378499, C=55.5383891123, kernel=linear, total=   6.7s\n",
      "[CV] gamma=1.01172955093, C=26.7144808239, kernel=rbf ................\n",
      "[CV] . gamma=1.01172955093, C=26.7144808239, kernel=rbf, total=  10.9s\n",
      "[CV] gamma=1.01172955093, C=26.7144808239, kernel=rbf ................\n",
      "[CV] . gamma=1.01172955093, C=26.7144808239, kernel=rbf, total=  10.7s\n",
      "[CV] gamma=1.18913702221, C=3582.05527805, kernel=linear .............\n",
      "[CV] . gamma=1.01172955093, C=26.7144808239, kernel=rbf, total=  10.7s\n",
      "[CV] gamma=1.18913702221, C=3582.05527805, kernel=linear .............\n",
      "[CV] . gamma=1.01172955093, C=26.7144808239, kernel=rbf, total=  10.8s\n",
      "[CV] gamma=1.18913702221, C=3582.05527805, kernel=linear .............\n",
      "[CV] . gamma=1.01172955093, C=26.7144808239, kernel=rbf, total=  10.6s\n",
      "[CV] gamma=1.18913702221, C=3582.05527805, kernel=linear .............\n",
      "[CV]  gamma=1.18913702221, C=3582.05527805, kernel=linear, total=   7.7s\n",
      "[CV] gamma=1.18913702221, C=3582.05527805, kernel=linear .............\n",
      "[CV]  gamma=1.18913702221, C=3582.05527805, kernel=linear, total=   7.6s\n",
      "[CV] gamma=0.528281974883, C=198.700478181, kernel=linear ............\n",
      "[CV]  gamma=1.18913702221, C=3582.05527805, kernel=linear, total=   7.8s\n",
      "[CV] gamma=0.528281974883, C=198.700478181, kernel=linear ............\n",
      "[CV]  gamma=1.18913702221, C=3582.05527805, kernel=linear, total=   7.2s\n",
      "[CV] gamma=0.528281974883, C=198.700478181, kernel=linear ............\n",
      "[CV]  gamma=1.18913702221, C=3582.05527805, kernel=linear, total=   7.5s\n",
      "[CV] gamma=0.528281974883, C=198.700478181, kernel=linear ............\n",
      "[CV]  gamma=0.528281974883, C=198.700478181, kernel=linear, total=   6.3s\n",
      "[CV] gamma=0.528281974883, C=198.700478181, kernel=linear ............\n",
      "[CV]  gamma=0.528281974883, C=198.700478181, kernel=linear, total=   6.5s\n",
      "[CV] gamma=2.86213836765, C=129.800060414, kernel=linear .............\n",
      "[CV]  gamma=0.528281974883, C=198.700478181, kernel=linear, total=   6.5s\n",
      "[CV] gamma=2.86213836765, C=129.800060414, kernel=linear .............\n",
      "[CV]  gamma=0.528281974883, C=198.700478181, kernel=linear, total=   6.5s\n",
      "[CV] gamma=2.86213836765, C=129.800060414, kernel=linear .............\n",
      "[CV]  gamma=0.528281974883, C=198.700478181, kernel=linear, total=   6.3s\n",
      "[CV] gamma=2.86213836765, C=129.800060414, kernel=linear .............\n",
      "[CV]  gamma=2.86213836765, C=129.800060414, kernel=linear, total=   6.7s\n",
      "[CV] gamma=2.86213836765, C=129.800060414, kernel=linear .............\n",
      "[CV]  gamma=2.86213836765, C=129.800060414, kernel=linear, total=   6.3s\n",
      "[CV] gamma=0.1758083585, C=288.426929959, kernel=rbf .................\n",
      "[CV]  gamma=2.86213836765, C=129.800060414, kernel=linear, total=   6.5s\n",
      "[CV] gamma=0.1758083585, C=288.426929959, kernel=rbf .................\n",
      "[CV]  gamma=2.86213836765, C=129.800060414, kernel=linear, total=   6.4s\n",
      "[CV] gamma=0.1758083585, C=288.426929959, kernel=rbf .................\n",
      "[CV]  gamma=2.86213836765, C=129.800060414, kernel=linear, total=   6.5s\n",
      "[CV] gamma=0.1758083585, C=288.426929959, kernel=rbf .................\n",
      "[CV] .. gamma=0.1758083585, C=288.426929959, kernel=rbf, total=  10.7s\n",
      "[CV] gamma=0.1758083585, C=288.426929959, kernel=rbf .................\n",
      "[CV] .. gamma=0.1758083585, C=288.426929959, kernel=rbf, total=  10.7s\n",
      "[CV] gamma=0.350456725533, C=6287.03948943, kernel=linear ............\n",
      "[CV] .. gamma=0.1758083585, C=288.426929959, kernel=rbf, total=  11.0s\n",
      "[CV] gamma=0.350456725533, C=6287.03948943, kernel=linear ............\n",
      "[CV] .. gamma=0.1758083585, C=288.426929959, kernel=rbf, total=  11.1s\n",
      "[CV] gamma=0.350456725533, C=6287.03948943, kernel=linear ............\n",
      "[CV]  gamma=0.350456725533, C=6287.03948943, kernel=linear, total=   8.2s\n",
      "[CV] gamma=0.350456725533, C=6287.03948943, kernel=linear ............\n",
      "[CV]  gamma=0.350456725533, C=6287.03948943, kernel=linear, total=   8.1s\n",
      "[CV] gamma=0.350456725533, C=6287.03948943, kernel=linear ............\n",
      "[CV]  gamma=0.350456725533, C=6287.03948943, kernel=linear, total=   8.7s\n",
      "[CV] gamma=1.62796894074, C=61217.0442134, kernel=rbf ................\n",
      "[CV] .. gamma=0.1758083585, C=288.426929959, kernel=rbf, total=  10.7s\n",
      "[CV] gamma=1.62796894074, C=61217.0442134, kernel=rbf ................\n",
      "[CV]  gamma=0.350456725533, C=6287.03948943, kernel=linear, total=   8.2s\n",
      "[CV] gamma=1.62796894074, C=61217.0442134, kernel=rbf ................\n",
      "[CV]  gamma=0.350456725533, C=6287.03948943, kernel=linear, total=   7.9s\n",
      "[CV] gamma=1.62796894074, C=61217.0442134, kernel=rbf ................\n",
      "[CV] . gamma=1.62796894074, C=61217.0442134, kernel=rbf, total=  39.0s\n",
      "[CV] gamma=1.62796894074, C=61217.0442134, kernel=rbf ................\n",
      "[CV] . gamma=1.62796894074, C=61217.0442134, kernel=rbf, total=  43.5s\n",
      "[CV] gamma=2.14797959306, C=926.97876841, kernel=rbf .................\n",
      "[CV] . gamma=1.62796894074, C=61217.0442134, kernel=rbf, total=  40.8s\n",
      "[CV] gamma=2.14797959306, C=926.97876841, kernel=rbf .................\n",
      "[CV] . gamma=1.62796894074, C=61217.0442134, kernel=rbf, total=  41.6s\n",
      "[CV] gamma=2.14797959306, C=926.97876841, kernel=rbf .................\n",
      "[CV] .. gamma=2.14797959306, C=926.97876841, kernel=rbf, total=  11.1s\n",
      "[CV] gamma=2.14797959306, C=926.97876841, kernel=rbf .................\n",
      "[CV] .. gamma=2.14797959306, C=926.97876841, kernel=rbf, total=  11.1s\n",
      "[CV] gamma=2.14797959306, C=926.97876841, kernel=rbf .................\n",
      "[CV] .. gamma=2.14797959306, C=926.97876841, kernel=rbf, total=  11.0s\n",
      "[CV] gamma=2.26424264929, C=33946.1570649, kernel=linear .............\n",
      "[CV] .. gamma=2.14797959306, C=926.97876841, kernel=rbf, total=  11.0s\n",
      "[CV] gamma=2.26424264929, C=33946.1570649, kernel=linear .............\n",
      "[CV] .. gamma=2.14797959306, C=926.97876841, kernel=rbf, total=  11.0s\n",
      "[CV] gamma=2.26424264929, C=33946.1570649, kernel=linear .............\n",
      "[CV] . gamma=1.62796894074, C=61217.0442134, kernel=rbf, total=  39.4s\n",
      "[CV] gamma=2.26424264929, C=33946.1570649, kernel=linear .............\n",
      "[CV]  gamma=2.26424264929, C=33946.1570649, kernel=linear, total=  16.3s\n",
      "[CV] gamma=2.26424264929, C=33946.1570649, kernel=linear .............\n",
      "[CV]  gamma=2.26424264929, C=33946.1570649, kernel=linear, total=  15.9s\n",
      "[CV] gamma=0.31763590853, C=84789.8294774, kernel=linear .............\n",
      "[CV]  gamma=2.26424264929, C=33946.1570649, kernel=linear, total=  14.6s\n",
      "[CV] gamma=0.31763590853, C=84789.8294774, kernel=linear .............\n",
      "[CV]  gamma=2.26424264929, C=33946.1570649, kernel=linear, total=  15.1s\n",
      "[CV] gamma=0.31763590853, C=84789.8294774, kernel=linear .............\n",
      "[CV]  gamma=2.26424264929, C=33946.1570649, kernel=linear, total=  16.9s\n",
      "[CV] gamma=0.31763590853, C=84789.8294774, kernel=linear .............\n",
      "[CV]  gamma=0.31763590853, C=84789.8294774, kernel=linear, total=  29.9s\n",
      "[CV] gamma=0.31763590853, C=84789.8294774, kernel=linear .............\n",
      "[CV]  gamma=0.31763590853, C=84789.8294774, kernel=linear, total=  40.3s\n",
      "[CV]  gamma=0.31763590853, C=84789.8294774, kernel=linear, total=  33.2s\n",
      "[CV]  gamma=0.31763590853, C=84789.8294774, kernel=linear, total=  44.2s\n",
      "[CV]  gamma=0.31763590853, C=84789.8294774, kernel=linear, total=  24.7s\n"
     ]
    },
    {
     "name": "stderr",
     "output_type": "stream",
     "text": [
      "[Parallel(n_jobs=4)]: Done 250 out of 250 | elapsed: 20.9min finished\n"
     ]
    },
    {
     "data": {
      "text/plain": [
       "RandomizedSearchCV(cv=5, error_score='raise',\n",
       "          estimator=SVR(C=1.0, cache_size=200, coef0=0.0, degree=3, epsilon=0.1, gamma='auto',\n",
       "  kernel='rbf', max_iter=-1, shrinking=True, tol=0.001, verbose=False),\n",
       "          fit_params=None, iid=True, n_iter=50, n_jobs=4,\n",
       "          param_distributions={'gamma': <scipy.stats._distn_infrastructure.rv_frozen object at 0x7f26de25b828>, 'C': <scipy.stats._distn_infrastructure.rv_frozen object at 0x7f26de25b8d0>, 'kernel': ['linear', 'rbf']},\n",
       "          pre_dispatch='2*n_jobs', random_state=42, refit=True,\n",
       "          return_train_score=True, scoring='neg_mean_squared_error',\n",
       "          verbose=2)"
      ]
     },
     "execution_count": 111,
     "metadata": {},
     "output_type": "execute_result"
    }
   ],
   "source": [
    "from sklearn.model_selection import RandomizedSearchCV\n",
    "from scipy.stats import expon, reciprocal\n",
    "\n",
    "# see https://docs.scipy.org/doc/scipy-0.19.0/reference/stats.html\n",
    "# for `expon()` and `reciprocal()` documentation and more probability distribution functions.\n",
    "\n",
    "# Note: gamma is ignored when kernel is \"linear\"\n",
    "param_distribs = {\n",
    "        'kernel': ['linear', 'rbf'],\n",
    "        'C': reciprocal(20, 200000),\n",
    "        'gamma': expon(scale=1.0),\n",
    "    }\n",
    "\n",
    "svm_reg = SVR()\n",
    "rnd_search = RandomizedSearchCV(svm_reg, param_distributions=param_distribs,\n",
    "                                n_iter=50, cv=5, scoring='neg_mean_squared_error',\n",
    "                                verbose=2, n_jobs=4, random_state=42)\n",
    "rnd_search.fit(housing_prepared, housing_labels)"
   ]
  },
  {
   "cell_type": "markdown",
   "metadata": {},
   "source": [
    "The best model achieves the following score (evaluated using 5-fold cross validation):"
   ]
  },
  {
   "cell_type": "code",
   "execution_count": 112,
   "metadata": {
    "collapsed": false
   },
   "outputs": [
    {
     "data": {
      "text/plain": [
       "54767.99053704409"
      ]
     },
     "execution_count": 112,
     "metadata": {},
     "output_type": "execute_result"
    }
   ],
   "source": [
    "negative_mse = rnd_search.best_score_\n",
    "rmse = np.sqrt(-negative_mse)\n",
    "rmse"
   ]
  },
  {
   "cell_type": "markdown",
   "metadata": {},
   "source": [
    "Now this is much closer to the performance of the `RandomForestRegressor` (but not quite there yet). Let's check the best hyperparameters found:"
   ]
  },
  {
   "cell_type": "code",
   "execution_count": 113,
   "metadata": {
    "collapsed": false
   },
   "outputs": [
    {
     "data": {
      "text/plain": [
       "{'C': 157055.10989448498, 'gamma': 0.26497040005002437, 'kernel': 'rbf'}"
      ]
     },
     "execution_count": 113,
     "metadata": {},
     "output_type": "execute_result"
    }
   ],
   "source": [
    "rnd_search.best_params_"
   ]
  },
  {
   "cell_type": "markdown",
   "metadata": {},
   "source": [
    "This time the search found a good set of hyperparameters for the RBF kernel. Randomized search tends to find better hyperparameters than grid search in the same amount of time."
   ]
  },
  {
   "cell_type": "markdown",
   "metadata": {},
   "source": [
    "Let's look at the exponential distribution we used, with `scale=1.0`. Note that some samples are much larger or smaller than 1.0, but when you look at the log of the distribution, you can see that most values are actually concentrated roughly in the range of exp(-2) to exp(+2), which is about 0.1 to 7.4."
   ]
  },
  {
   "cell_type": "code",
   "execution_count": 114,
   "metadata": {
    "collapsed": false
   },
   "outputs": [
    {
     "data": {
      "image/png": "[encoded data removed]",
      "text/plain": [
       "<matplotlib.figure.Figure at 0x7f26d7ac8a20>"
      ]
     },
     "metadata": {},
     "output_type": "display_data"
    }
   ],
   "source": [
    "expon_distrib = expon(scale=1.)\n",
    "samples = expon_distrib.rvs(10000, random_state=42)\n",
    "plt.figure(figsize=(10, 4))\n",
    "plt.subplot(121)\n",
    "plt.title(\"Exponential distribution (scale=1.0)\")\n",
    "plt.hist(samples, bins=50)\n",
    "plt.subplot(122)\n",
    "plt.title(\"Log of this distribution\")\n",
    "plt.hist(np.log(samples), bins=50)\n",
    "plt.show()"
   ]
  },
  {
   "cell_type": "markdown",
   "metadata": {},
   "source": [
    "The distribution we used for `C` looks quite different: the scale of the samples is picked from a uniform distribution within a given range, which is why the right graph, which represents the log of the samples, looks roughly constant. This distribution is useful when you don't have a clue of what the target scale is:"
   ]
  },
  {
   "cell_type": "code",
   "execution_count": 115,
   "metadata": {
    "collapsed": false
   },
   "outputs": [
    {
     "data": {
      "image/png": "[encoded data removed]",
      "text/plain": [
       "<matplotlib.figure.Figure at 0x7f26d7ac80f0>"
      ]
     },
     "metadata": {},
     "output_type": "display_data"
    }
   ],
   "source": [
    "reciprocal_distrib = reciprocal(20, 200000)\n",
    "samples = reciprocal_distrib.rvs(10000, random_state=42)\n",
    "plt.figure(figsize=(10, 4))\n",
    "plt.subplot(121)\n",
    "plt.title(\"Reciprocal distribution (scale=1.0)\")\n",
    "plt.hist(samples, bins=50)\n",
    "plt.subplot(122)\n",
    "plt.title(\"Log of this distribution\")\n",
    "plt.hist(np.log(samples), bins=50)\n",
    "plt.show()"
   ]
  },
  {
   "cell_type": "markdown",
   "metadata": {},
   "source": [
    "The reciprocal distribution is useful when you have no idea what the scale of the hyperparameter should be (indeed, as you can see on the figure on the right, all scales are equally likely, within the given range), whereas the exponential distribution is best when you know (more or less) what the scale of the hyperparameter should be."
   ]
  },
  {
   "cell_type": "markdown",
   "metadata": {},
   "source": [
    "## 3."
   ]
  },
  {
   "cell_type": "markdown",
   "metadata": {},
   "source": [
    "Question: Try adding a transformer in the preparation pipeline to select only the most important attributes."
   ]
  },
  {
   "cell_type": "code",
   "execution_count": 116,
   "metadata": {
    "collapsed": true
   },
   "outputs": [],
   "source": [
    "from sklearn.base import BaseEstimator, TransformerMixin\n",
    "\n",
    "def indices_of_top_k(arr, k):\n",
    "    return np.sort(np.argpartition(np.array(arr), -k)[-k:])\n",
    "\n",
    "class TopFeatureSelector(BaseEstimator, TransformerMixin):\n",
    "    def __init__(self, feature_importances, k):\n",
    "        self.feature_importances = feature_importances\n",
    "        self.k = k\n",
    "    def fit(self, X, y=None):\n",
    "        self.feature_indices_ = indices_of_top_k(self.feature_importances, self.k)\n",
    "        return self\n",
    "    def transform(self, X):\n",
    "        return X[:, self.feature_indices_]"
   ]
  },
  {
   "cell_type": "markdown",
   "metadata": {},
   "source": [
    "Note: this feature selector assumes that you have already computed the feature importances somehow (for example using a `RandomForestRegressor`). You may be tempted to compute them directly in the `TopFeatureSelector`'s `fit()` method, however this would likely slow down grid/randomized search since the feature importances would have to be computed for every hyperparameter combination (unless you implement some sort of cache)."
   ]
  },
  {
   "cell_type": "markdown",
   "metadata": {},
   "source": [
    "Let's define the number of top features we want to keep:"
   ]
  },
  {
   "cell_type": "code",
   "execution_count": 117,
   "metadata": {
    "collapsed": true
   },
   "outputs": [],
   "source": [
    "k = 5"
   ]
  },
  {
   "cell_type": "markdown",
   "metadata": {},
   "source": [
    "Now let's look for the indices of the top k features:"
   ]
  },
  {
   "cell_type": "code",
   "execution_count": 118,
   "metadata": {
    "collapsed": false
   },
   "outputs": [
    {
     "data": {
      "text/plain": [
       "array([ 0,  1,  7,  9, 12])"
      ]
     },
     "execution_count": 118,
     "metadata": {},
     "output_type": "execute_result"
    }
   ],
   "source": [
    "top_k_feature_indices = indices_of_top_k(feature_importances, k)\n",
    "top_k_feature_indices"
   ]
  },
  {
   "cell_type": "code",
   "execution_count": 119,
   "metadata": {
    "collapsed": false
   },
   "outputs": [
    {
     "data": {
      "text/plain": [
       "array(['longitude', 'latitude', 'median_income', 'pop_per_hhold', 'INLAND'],\n",
       "      dtype='<U18')"
      ]
     },
     "execution_count": 119,
     "metadata": {},
     "output_type": "execute_result"
    }
   ],
   "source": [
    "np.array(attributes)[top_k_feature_indices]"
   ]
  },
  {
   "cell_type": "markdown",
   "metadata": {},
   "source": [
    "Let's double check that these are indeed the top k features:"
   ]
  },
  {
   "cell_type": "code",
   "execution_count": 120,
   "metadata": {
    "collapsed": false
   },
   "outputs": [
    {
     "data": {
      "text/plain": [
       "[(0.36615898061813418, 'median_income'),\n",
       " (0.16478099356159051, 'INLAND'),\n",
       " (0.10879295677551573, 'pop_per_hhold'),\n",
       " (0.073344235516012421, 'longitude'),\n",
       " (0.062909070482620302, 'latitude')]"
      ]
     },
     "execution_count": 120,
     "metadata": {},
     "output_type": "execute_result"
    }
   ],
   "source": [
    "sorted(zip(feature_importances, attributes), reverse=True)[:k]"
   ]
  },
  {
   "cell_type": "markdown",
   "metadata": {},
   "source": [
    "Looking good... Now let's create a new pipeline that runs the previously defined preparation pipeline, and adds top k feature selection:"
   ]
  },
  {
   "cell_type": "code",
   "execution_count": 121,
   "metadata": {
    "collapsed": true
   },
   "outputs": [],
   "source": [
    "preparation_and_feature_selection_pipeline = Pipeline([\n",
    "    ('preparation', full_pipeline),\n",
    "    ('feature_selection', TopFeatureSelector(feature_importances, k))\n",
    "])"
   ]
  },
  {
   "cell_type": "code",
   "execution_count": 122,
   "metadata": {
    "collapsed": true
   },
   "outputs": [],
   "source": [
    "housing_prepared_top_k_features = preparation_and_feature_selection_pipeline.fit_transform(housing)"
   ]
  },
  {
   "cell_type": "markdown",
   "metadata": {},
   "source": [
    "Let's look at the features of the first 3 instances:"
   ]
  },
  {
   "cell_type": "code",
   "execution_count": 123,
   "metadata": {
    "collapsed": false
   },
   "outputs": [
    {
     "data": {
      "text/plain": [
       "array([[-1.15604281,  0.77194962, -0.61493744, -0.08649871,  0.        ],\n",
       "       [-1.17602483,  0.6596948 ,  1.33645936, -0.03353391,  0.        ],\n",
       "       [ 1.18684903, -1.34218285, -0.5320456 , -0.09240499,  0.        ]])"
      ]
     },
     "execution_count": 123,
     "metadata": {},
     "output_type": "execute_result"
    }
   ],
   "source": [
    "housing_prepared_top_k_features[0:3]"
   ]
  },
  {
   "cell_type": "markdown",
   "metadata": {},
   "source": [
    "Now let's double check that these are indeed the top k features:"
   ]
  },
  {
   "cell_type": "code",
   "execution_count": 124,
   "metadata": {
    "collapsed": false
   },
   "outputs": [
    {
     "data": {
      "text/plain": [
       "array([[-1.15604281,  0.77194962, -0.61493744, -0.08649871,  0.        ],\n",
       "       [-1.17602483,  0.6596948 ,  1.33645936, -0.03353391,  0.        ],\n",
       "       [ 1.18684903, -1.34218285, -0.5320456 , -0.09240499,  0.        ]])"
      ]
     },
     "execution_count": 124,
     "metadata": {},
     "output_type": "execute_result"
    }
   ],
   "source": [
    "housing_prepared[0:3, top_k_feature_indices]"
   ]
  },
  {
   "cell_type": "markdown",
   "metadata": {},
   "source": [
    "Works great!  :)"
   ]
  },
  {
   "cell_type": "markdown",
   "metadata": {},
   "source": [
    "## 4."
   ]
  },
  {
   "cell_type": "markdown",
   "metadata": {},
   "source": [
    "Question: Try creating a single pipeline that does the full data preparation plus the final prediction."
   ]
  },
  {
   "cell_type": "code",
   "execution_count": 125,
   "metadata": {
    "collapsed": true
   },
   "outputs": [],
   "source": [
    "prepare_select_and_predict_pipeline = Pipeline([\n",
    "    ('preparation', full_pipeline),\n",
    "    ('feature_selection', TopFeatureSelector(feature_importances, k)),\n",
    "    ('svm_reg', SVR(**rnd_search.best_params_))\n",
    "])"
   ]
  },
  {
   "cell_type": "code",
   "execution_count": 126,
   "metadata": {
    "collapsed": false
   },
   "outputs": [
    {
     "data": {
      "text/plain": [
       "Pipeline(memory=None,\n",
       "     steps=[('preparation', FeatureUnion(n_jobs=1,\n",
       "       transformer_list=[('num_pipeline', Pipeline(memory=None,\n",
       "     steps=[('selector', DataFrameSelector(attribute_names=['longitude', 'latitude', 'housing_median_age', 'total_rooms', 'total_bedrooms', 'population', 'households', 'median_income'])), ('... gamma=0.26497040005002437, kernel='rbf', max_iter=-1, shrinking=True,\n",
       "  tol=0.001, verbose=False))])"
      ]
     },
     "execution_count": 126,
     "metadata": {},
     "output_type": "execute_result"
    }
   ],
   "source": [
    "prepare_select_and_predict_pipeline.fit(housing, housing_labels)"
   ]
  },
  {
   "cell_type": "markdown",
   "metadata": {},
   "source": [
    "Let's try the full pipeline on a few instances:"
   ]
  },
  {
   "cell_type": "code",
   "execution_count": 127,
   "metadata": {
    "collapsed": false
   },
   "outputs": [
    {
     "name": "stdout",
     "output_type": "stream",
     "text": [
      "Predictions:\t [ 203214.28978849  371846.88152572  173295.65441612   47328.3970888 ]\n",
      "Labels:\t\t [286600.0, 340600.0, 196900.0, 46300.0]\n"
     ]
    }
   ],
   "source": [
    "some_data = housing.iloc[:4]\n",
    "some_labels = housing_labels.iloc[:4]\n",
    "\n",
    "print(\"Predictions:\\t\", prepare_select_and_predict_pipeline.predict(some_data))\n",
    "print(\"Labels:\\t\\t\", list(some_labels))"
   ]
  },
  {
   "cell_type": "markdown",
   "metadata": {},
   "source": [
    "Well, the full pipeline seems to work fine. Of course, the predictions are not fantastic: they would be better if we used the best `RandomForestRegressor` that we found earlier, rather than the best `SVR`."
   ]
  },
  {
   "cell_type": "markdown",
   "metadata": {},
   "source": [
    "## 5."
   ]
  },
  {
   "cell_type": "markdown",
   "metadata": {},
   "source": [
    "Question: Automatically explore some preparation options using `GridSearchCV`."
   ]
  },
  {
   "cell_type": "code",
   "execution_count": 128,
   "metadata": {
    "collapsed": false
   },
   "outputs": [
    {
     "name": "stdout",
     "output_type": "stream",
     "text": [
      "Fitting 5 folds for each of 15 candidates, totalling 75 fits\n",
      "[CV] preparation__num_pipeline__imputer__strategy=mean, feature_selection__k=3 \n",
      "[CV] preparation__num_pipeline__imputer__strategy=mean, feature_selection__k=3 \n",
      "[CV] preparation__num_pipeline__imputer__strategy=mean, feature_selection__k=3 \n",
      "[CV] preparation__num_pipeline__imputer__strategy=mean, feature_selection__k=3 \n",
      "[CV]  preparation__num_pipeline__imputer__strategy=mean, feature_selection__k=3, total=   9.0s\n",
      "[CV] preparation__num_pipeline__imputer__strategy=mean, feature_selection__k=3 \n",
      "[CV]  preparation__num_pipeline__imputer__strategy=mean, feature_selection__k=3, total=   9.0s\n",
      "[CV] preparation__num_pipeline__imputer__strategy=median, feature_selection__k=3 \n",
      "[CV]  preparation__num_pipeline__imputer__strategy=mean, feature_selection__k=3, total=   9.0s\n",
      "[CV] preparation__num_pipeline__imputer__strategy=median, feature_selection__k=3 \n",
      "[CV]  preparation__num_pipeline__imputer__strategy=mean, feature_selection__k=3, total=   9.0s\n",
      "[CV] preparation__num_pipeline__imputer__strategy=median, feature_selection__k=3 \n",
      "[CV]  preparation__num_pipeline__imputer__strategy=mean, feature_selection__k=3, total=   8.8s\n",
      "[CV] preparation__num_pipeline__imputer__strategy=median, feature_selection__k=3 \n",
      "[CV]  preparation__num_pipeline__imputer__strategy=median, feature_selection__k=3, total=   8.9s\n",
      "[CV] preparation__num_pipeline__imputer__strategy=median, feature_selection__k=3 \n",
      "[CV]  preparation__num_pipeline__imputer__strategy=median, feature_selection__k=3, total=   8.9s\n",
      "[CV] preparation__num_pipeline__imputer__strategy=most_frequent, feature_selection__k=3 \n",
      "[CV]  preparation__num_pipeline__imputer__strategy=median, feature_selection__k=3, total=   8.9s\n",
      "[CV] preparation__num_pipeline__imputer__strategy=most_frequent, feature_selection__k=3 \n",
      "[CV]  preparation__num_pipeline__imputer__strategy=median, feature_selection__k=3, total=   9.0s\n",
      "[CV] preparation__num_pipeline__imputer__strategy=most_frequent, feature_selection__k=3 \n",
      "[CV]  preparation__num_pipeline__imputer__strategy=median, feature_selection__k=3, total=   8.9s\n",
      "[CV] preparation__num_pipeline__imputer__strategy=most_frequent, feature_selection__k=3 \n",
      "[CV]  preparation__num_pipeline__imputer__strategy=most_frequent, feature_selection__k=3, total=   9.7s\n",
      "[CV] preparation__num_pipeline__imputer__strategy=most_frequent, feature_selection__k=3 \n",
      "[CV]  preparation__num_pipeline__imputer__strategy=most_frequent, feature_selection__k=3, total=   9.9s\n",
      "[CV] preparation__num_pipeline__imputer__strategy=mean, feature_selection__k=4 \n",
      "[CV]  preparation__num_pipeline__imputer__strategy=most_frequent, feature_selection__k=3, total=   9.4s\n",
      "[CV] preparation__num_pipeline__imputer__strategy=mean, feature_selection__k=4 \n",
      "[CV]  preparation__num_pipeline__imputer__strategy=most_frequent, feature_selection__k=3, total=   9.5s\n",
      "[CV] preparation__num_pipeline__imputer__strategy=mean, feature_selection__k=4 \n",
      "[CV]  preparation__num_pipeline__imputer__strategy=most_frequent, feature_selection__k=3, total=   9.5s\n",
      "[CV] preparation__num_pipeline__imputer__strategy=mean, feature_selection__k=4 \n",
      "[CV]  preparation__num_pipeline__imputer__strategy=mean, feature_selection__k=4, total=   9.6s\n",
      "[CV] preparation__num_pipeline__imputer__strategy=mean, feature_selection__k=4 \n",
      "[CV]  preparation__num_pipeline__imputer__strategy=mean, feature_selection__k=4, total=   9.3s\n",
      "[CV] preparation__num_pipeline__imputer__strategy=median, feature_selection__k=4 \n",
      "[CV]  preparation__num_pipeline__imputer__strategy=mean, feature_selection__k=4, total=   9.5s\n",
      "[CV] preparation__num_pipeline__imputer__strategy=median, feature_selection__k=4 \n",
      "[CV]  preparation__num_pipeline__imputer__strategy=mean, feature_selection__k=4, total=   9.6s\n",
      "[CV] preparation__num_pipeline__imputer__strategy=median, feature_selection__k=4 \n",
      "[CV]  preparation__num_pipeline__imputer__strategy=mean, feature_selection__k=4, total=   9.5s\n",
      "[CV] preparation__num_pipeline__imputer__strategy=median, feature_selection__k=4 \n",
      "[CV]  preparation__num_pipeline__imputer__strategy=median, feature_selection__k=4, total=   9.6s\n",
      "[CV] preparation__num_pipeline__imputer__strategy=median, feature_selection__k=4 \n",
      "[CV]  preparation__num_pipeline__imputer__strategy=median, feature_selection__k=4, total=   9.3s\n",
      "[CV] preparation__num_pipeline__imputer__strategy=most_frequent, feature_selection__k=4 \n",
      "[CV]  preparation__num_pipeline__imputer__strategy=median, feature_selection__k=4, total=   9.6s\n",
      "[CV] preparation__num_pipeline__imputer__strategy=most_frequent, feature_selection__k=4 \n",
      "[CV]  preparation__num_pipeline__imputer__strategy=median, feature_selection__k=4, total=   9.5s\n",
      "[CV] preparation__num_pipeline__imputer__strategy=most_frequent, feature_selection__k=4 \n",
      "[CV]  preparation__num_pipeline__imputer__strategy=median, feature_selection__k=4, total=   9.3s\n",
      "[CV] preparation__num_pipeline__imputer__strategy=most_frequent, feature_selection__k=4 \n",
      "[CV]  preparation__num_pipeline__imputer__strategy=most_frequent, feature_selection__k=4, total=  10.2s\n",
      "[CV] preparation__num_pipeline__imputer__strategy=most_frequent, feature_selection__k=4 \n",
      "[CV]  preparation__num_pipeline__imputer__strategy=most_frequent, feature_selection__k=4, total=  10.0s\n",
      "[CV] preparation__num_pipeline__imputer__strategy=mean, feature_selection__k=5 \n",
      "[CV]  preparation__num_pipeline__imputer__strategy=most_frequent, feature_selection__k=4, total=  10.1s\n",
      "[CV] preparation__num_pipeline__imputer__strategy=mean, feature_selection__k=5 \n",
      "[CV]  preparation__num_pipeline__imputer__strategy=most_frequent, feature_selection__k=4, total=  10.1s\n",
      "[CV] preparation__num_pipeline__imputer__strategy=mean, feature_selection__k=5 \n",
      "[CV]  preparation__num_pipeline__imputer__strategy=most_frequent, feature_selection__k=4, total=  10.1s\n",
      "[CV] preparation__num_pipeline__imputer__strategy=mean, feature_selection__k=5 \n",
      "[CV]  preparation__num_pipeline__imputer__strategy=mean, feature_selection__k=5, total=   9.8s\n",
      "[CV] preparation__num_pipeline__imputer__strategy=mean, feature_selection__k=5 \n",
      "[CV]  preparation__num_pipeline__imputer__strategy=mean, feature_selection__k=5, total=   9.9s\n",
      "[CV] preparation__num_pipeline__imputer__strategy=median, feature_selection__k=5 \n",
      "[CV]  preparation__num_pipeline__imputer__strategy=mean, feature_selection__k=5, total=   9.8s\n",
      "[CV] preparation__num_pipeline__imputer__strategy=median, feature_selection__k=5 \n"
     ]
    },
    {
     "name": "stderr",
     "output_type": "stream",
     "text": [
      "[Parallel(n_jobs=4)]: Done  33 tasks      | elapsed:  1.9min\n"
     ]
    },
    {
     "name": "stdout",
     "output_type": "stream",
     "text": [
      "[CV]  preparation__num_pipeline__imputer__strategy=mean, feature_selection__k=5, total=  10.0s\n",
      "[CV] preparation__num_pipeline__imputer__strategy=median, feature_selection__k=5 \n",
      "[CV]  preparation__num_pipeline__imputer__strategy=mean, feature_selection__k=5, total=   9.7s\n",
      "[CV] preparation__num_pipeline__imputer__strategy=median, feature_selection__k=5 \n",
      "[CV]  preparation__num_pipeline__imputer__strategy=median, feature_selection__k=5, total=  10.0s\n",
      "[CV] preparation__num_pipeline__imputer__strategy=median, feature_selection__k=5 \n",
      "[CV]  preparation__num_pipeline__imputer__strategy=median, feature_selection__k=5, total=   9.9s\n",
      "[CV] preparation__num_pipeline__imputer__strategy=most_frequent, feature_selection__k=5 \n",
      "[CV]  preparation__num_pipeline__imputer__strategy=median, feature_selection__k=5, total=   9.8s\n",
      "[CV] preparation__num_pipeline__imputer__strategy=most_frequent, feature_selection__k=5 \n",
      "[CV]  preparation__num_pipeline__imputer__strategy=median, feature_selection__k=5, total=   9.9s\n",
      "[CV] preparation__num_pipeline__imputer__strategy=most_frequent, feature_selection__k=5 \n",
      "[CV]  preparation__num_pipeline__imputer__strategy=median, feature_selection__k=5, total=   9.8s\n",
      "[CV] preparation__num_pipeline__imputer__strategy=most_frequent, feature_selection__k=5 \n",
      "[CV]  preparation__num_pipeline__imputer__strategy=most_frequent, feature_selection__k=5, total=  10.4s\n",
      "[CV] preparation__num_pipeline__imputer__strategy=most_frequent, feature_selection__k=5 \n",
      "[CV]  preparation__num_pipeline__imputer__strategy=most_frequent, feature_selection__k=5, total=  10.6s\n",
      "[CV] preparation__num_pipeline__imputer__strategy=mean, feature_selection__k=6 \n",
      "[CV]  preparation__num_pipeline__imputer__strategy=most_frequent, feature_selection__k=5, total=  10.6s\n",
      "[CV] preparation__num_pipeline__imputer__strategy=mean, feature_selection__k=6 \n",
      "[CV]  preparation__num_pipeline__imputer__strategy=most_frequent, feature_selection__k=5, total=  10.9s\n",
      "[CV] preparation__num_pipeline__imputer__strategy=mean, feature_selection__k=6 \n",
      "[CV]  preparation__num_pipeline__imputer__strategy=most_frequent, feature_selection__k=5, total=  10.3s\n",
      "[CV] preparation__num_pipeline__imputer__strategy=mean, feature_selection__k=6 \n",
      "[CV]  preparation__num_pipeline__imputer__strategy=mean, feature_selection__k=6, total=  10.0s\n",
      "[CV] preparation__num_pipeline__imputer__strategy=mean, feature_selection__k=6 \n",
      "[CV]  preparation__num_pipeline__imputer__strategy=mean, feature_selection__k=6, total=  10.3s\n",
      "[CV] preparation__num_pipeline__imputer__strategy=median, feature_selection__k=6 \n",
      "[CV]  preparation__num_pipeline__imputer__strategy=mean, feature_selection__k=6, total=  10.2s\n",
      "[CV] preparation__num_pipeline__imputer__strategy=median, feature_selection__k=6 \n",
      "[CV]  preparation__num_pipeline__imputer__strategy=mean, feature_selection__k=6, total=   9.8s\n",
      "[CV] preparation__num_pipeline__imputer__strategy=median, feature_selection__k=6 \n",
      "[CV]  preparation__num_pipeline__imputer__strategy=mean, feature_selection__k=6, total=  10.3s\n",
      "[CV] preparation__num_pipeline__imputer__strategy=median, feature_selection__k=6 \n",
      "[CV]  preparation__num_pipeline__imputer__strategy=median, feature_selection__k=6, total=  10.0s\n",
      "[CV] preparation__num_pipeline__imputer__strategy=median, feature_selection__k=6 \n",
      "[CV]  preparation__num_pipeline__imputer__strategy=median, feature_selection__k=6, total=  10.3s\n",
      "[CV] preparation__num_pipeline__imputer__strategy=most_frequent, feature_selection__k=6 \n",
      "[CV]  preparation__num_pipeline__imputer__strategy=median, feature_selection__k=6, total=  10.1s\n",
      "[CV] preparation__num_pipeline__imputer__strategy=most_frequent, feature_selection__k=6 \n",
      "[CV]  preparation__num_pipeline__imputer__strategy=median, feature_selection__k=6, total=   9.8s\n",
      "[CV] preparation__num_pipeline__imputer__strategy=most_frequent, feature_selection__k=6 \n",
      "[CV]  preparation__num_pipeline__imputer__strategy=median, feature_selection__k=6, total=  10.5s\n",
      "[CV] preparation__num_pipeline__imputer__strategy=most_frequent, feature_selection__k=6 \n",
      "[CV]  preparation__num_pipeline__imputer__strategy=most_frequent, feature_selection__k=6, total=  10.8s\n",
      "[CV] preparation__num_pipeline__imputer__strategy=most_frequent, feature_selection__k=6 \n",
      "[CV]  preparation__num_pipeline__imputer__strategy=most_frequent, feature_selection__k=6, total=  10.9s\n",
      "[CV] preparation__num_pipeline__imputer__strategy=mean, feature_selection__k=7 \n",
      "[CV]  preparation__num_pipeline__imputer__strategy=most_frequent, feature_selection__k=6, total=  10.7s\n",
      "[CV] preparation__num_pipeline__imputer__strategy=mean, feature_selection__k=7 \n",
      "[CV]  preparation__num_pipeline__imputer__strategy=most_frequent, feature_selection__k=6, total=  10.5s\n",
      "[CV] preparation__num_pipeline__imputer__strategy=mean, feature_selection__k=7 \n",
      "[CV]  preparation__num_pipeline__imputer__strategy=most_frequent, feature_selection__k=6, total=  11.3s\n",
      "[CV] preparation__num_pipeline__imputer__strategy=mean, feature_selection__k=7 \n",
      "[CV]  preparation__num_pipeline__imputer__strategy=mean, feature_selection__k=7, total=  10.9s\n",
      "[CV] preparation__num_pipeline__imputer__strategy=mean, feature_selection__k=7 \n",
      "[CV]  preparation__num_pipeline__imputer__strategy=mean, feature_selection__k=7, total=  10.5s\n",
      "[CV] preparation__num_pipeline__imputer__strategy=median, feature_selection__k=7 \n",
      "[CV]  preparation__num_pipeline__imputer__strategy=mean, feature_selection__k=7, total=  10.9s\n",
      "[CV] preparation__num_pipeline__imputer__strategy=median, feature_selection__k=7 \n",
      "[CV]  preparation__num_pipeline__imputer__strategy=mean, feature_selection__k=7, total=  11.1s\n",
      "[CV] preparation__num_pipeline__imputer__strategy=median, feature_selection__k=7 \n",
      "[CV]  preparation__num_pipeline__imputer__strategy=mean, feature_selection__k=7, total=  10.7s\n",
      "[CV] preparation__num_pipeline__imputer__strategy=median, feature_selection__k=7 \n",
      "[CV]  preparation__num_pipeline__imputer__strategy=median, feature_selection__k=7, total=  11.5s\n",
      "[CV] preparation__num_pipeline__imputer__strategy=median, feature_selection__k=7 \n",
      "[CV]  preparation__num_pipeline__imputer__strategy=median, feature_selection__k=7, total=  10.8s\n",
      "[CV] preparation__num_pipeline__imputer__strategy=most_frequent, feature_selection__k=7 \n",
      "[CV]  preparation__num_pipeline__imputer__strategy=median, feature_selection__k=7, total=  10.8s\n",
      "[CV] preparation__num_pipeline__imputer__strategy=most_frequent, feature_selection__k=7 \n",
      "[CV]  preparation__num_pipeline__imputer__strategy=median, feature_selection__k=7, total=  10.4s\n",
      "[CV] preparation__num_pipeline__imputer__strategy=most_frequent, feature_selection__k=7 \n",
      "[CV]  preparation__num_pipeline__imputer__strategy=median, feature_selection__k=7, total=  10.6s\n",
      "[CV] preparation__num_pipeline__imputer__strategy=most_frequent, feature_selection__k=7 \n",
      "[CV]  preparation__num_pipeline__imputer__strategy=most_frequent, feature_selection__k=7, total=  11.9s\n",
      "[CV] preparation__num_pipeline__imputer__strategy=most_frequent, feature_selection__k=7 \n",
      "[CV]  preparation__num_pipeline__imputer__strategy=most_frequent, feature_selection__k=7, total=  11.2s\n",
      "[CV]  preparation__num_pipeline__imputer__strategy=most_frequent, feature_selection__k=7, total=  11.7s\n",
      "[CV]  preparation__num_pipeline__imputer__strategy=most_frequent, feature_selection__k=7, total=  11.1s\n",
      "[CV]  preparation__num_pipeline__imputer__strategy=most_frequent, feature_selection__k=7, total=  11.8s\n"
     ]
    },
    {
     "name": "stderr",
     "output_type": "stream",
     "text": [
      "[Parallel(n_jobs=4)]: Done  75 out of  75 | elapsed:  4.4min finished\n"
     ]
    },
    {
     "data": {
      "text/plain": [
       "GridSearchCV(cv=5, error_score='raise',\n",
       "       estimator=Pipeline(memory=None,\n",
       "     steps=[('preparation', FeatureUnion(n_jobs=1,\n",
       "       transformer_list=[('num_pipeline', Pipeline(memory=None,\n",
       "     steps=[('selector', DataFrameSelector(attribute_names=['longitude', 'latitude', 'housing_median_age', 'total_rooms', 'total_bedrooms', 'population', 'households', 'median_income'])), ('... gamma=0.26497040005002437, kernel='rbf', max_iter=-1, shrinking=True,\n",
       "  tol=0.001, verbose=False))]),\n",
       "       fit_params=None, iid=True, n_jobs=4,\n",
       "       param_grid=[{'preparation__num_pipeline__imputer__strategy': ['mean', 'median', 'most_frequent'], 'feature_selection__k': [3, 4, 5, 6, 7]}],\n",
       "       pre_dispatch='2*n_jobs', refit=True, return_train_score=True,\n",
       "       scoring='neg_mean_squared_error', verbose=2)"
      ]
     },
     "execution_count": 128,
     "metadata": {},
     "output_type": "execute_result"
    }
   ],
   "source": [
    "param_grid = [\n",
    "        {'preparation__num_pipeline__imputer__strategy': ['mean', 'median', 'most_frequent'],\n",
    "         'feature_selection__k': [3, 4, 5, 6, 7]}\n",
    "]\n",
    "\n",
    "grid_search_prep = GridSearchCV(prepare_select_and_predict_pipeline, param_grid, cv=5,\n",
    "                                scoring='neg_mean_squared_error', verbose=2, n_jobs=4)\n",
    "grid_search_prep.fit(housing, housing_labels)"
   ]
  },
  {
   "cell_type": "code",
   "execution_count": 129,
   "metadata": {
    "collapsed": false
   },
   "outputs": [
    {
     "data": {
      "text/plain": [
       "{'feature_selection__k': 7,\n",
       " 'preparation__num_pipeline__imputer__strategy': 'median'}"
      ]
     },
     "execution_count": 129,
     "metadata": {},
     "output_type": "execute_result"
    }
   ],
   "source": [
    "grid_search_prep.best_params_"
   ]
  },
  {
   "cell_type": "markdown",
   "metadata": {},
   "source": [
    "Great! It seems that we had the right imputer strategy (median), and apparently only the top 7 features are useful (out of 9), the last 2 seem to just add some noise."
   ]
  },
  {
   "cell_type": "code",
   "execution_count": 130,
   "metadata": {
    "collapsed": false
   },
   "outputs": [
    {
     "data": {
      "text/plain": [
       "(16512, 9)"
      ]
     },
     "execution_count": 130,
     "metadata": {},
     "output_type": "execute_result"
    }
   ],
   "source": [
    "housing.shape"
   ]
  },
  {
   "cell_type": "markdown",
   "metadata": {},
   "source": [
    "Congratulations! You already know quite a lot about Machine Learning. :)"
   ]
  }
 ],
 "metadata": {
  "kernelspec": {
   "display_name": "data_analysis",
   "language": "python",
   "name": "data_analysis"
  },
  "language_info": {
   "codemirror_mode": {
    "name": "ipython",
    "version": 2
   },
   "file_extension": ".py",
   "mimetype": "text/x-python",
   "name": "python",
   "nbconvert_exporter": "python",
   "pygments_lexer": "ipython2",
   "version": "2.7.6"
  },
  "nav_menu": {
   "height": "279px",
   "width": "309px"
  },
  "toc": {
   "nav_menu": {},
   "number_sections": true,
   "sideBar": true,
   "skip_h1_title": false,
   "toc_cell": false,
   "toc_position": {},
   "toc_section_display": "block",
   "toc_window_display": false
  }
 },
 "nbformat": 4,
 "nbformat_minor": 1
}
