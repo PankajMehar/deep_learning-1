{
 "cells": [
  {
   "cell_type": "code",
   "execution_count": 1,
   "metadata": {
    "collapsed": true
   },
   "outputs": [],
   "source": [
    "# -*- coding: utf-8 -*-\n",
    "\n",
    "# Python program to detect cycle\n",
    "# in a graph\n",
    "\n",
    "from collections import defaultdict\n",
    "from ylib import ylog\n",
    "import re\n",
    "from lib.gftTools import gftIO\n",
    "import os\n",
    "import sys\n",
    "# from graph_upload import batch_upload, upload_edge, upload_cat_node, upload_page_node, delete_edge\n",
    "import logging\n",
    "from tqdm import tqdm\n",
    "import time\n",
    "import json\n",
    "import networkx as nx\n",
    "\n",
    "ylog.set_level(logging.DEBUG)\n",
    "ylog.console_on()\n"
   ]
  },
  {
   "cell_type": "code",
   "execution_count": 2,
   "metadata": {
    "collapsed": true
   },
   "outputs": [],
   "source": [
    "class Graph():\n",
    "\n",
    "    def __init__(self):\n",
    "        self.graph = defaultdict(list)\n",
    "        self.loop = defaultdict(list)\n",
    "        # self.graph = {}\n",
    "\n",
    "    def addEdge(self, u, v):\n",
    "        self.graph[u].append(v)\n",
    "        # self.graph[u].update(v)\n",
    "\n",
    "    def isCyclicUtil(self, v, visited, recStack):\n",
    "\n",
    "        # Mark current node as visited and\n",
    "        # adds to recursion stack\n",
    "        visited[v] = True\n",
    "        recStack[v] = True\n",
    "\n",
    "        # Recur for all neighbours\n",
    "        # if any neighbour is visited and in\n",
    "        # recStack then graph is cyclic\n",
    "        for neighbour in self.graph[v]:\n",
    "            try:\n",
    "                if visited[neighbour] is False:\n",
    "                    if self.isCyclicUtil(neighbour, visited, recStack) is True:\n",
    "                        return True\n",
    "\n",
    "                    elif recStack[neighbour] is True:\n",
    "                        return True\n",
    "            except KeyError:\n",
    "                pass\n",
    "        # The node needs to be poped from\n",
    "        # recursion stack before function ends\n",
    "        recStack[v] = False\n",
    "        return False\n",
    "\n",
    "    # Returns true if graph is cyclic else false\n",
    "    def isCyclic(self):\n",
    "        #         visited = [False] * self.graph.keys()\n",
    "        #         recStack = [False] * self.graph.keys()\n",
    "        visited = dict.fromkeys(self.graph, False)\n",
    "        recStack = dict.fromkeys(self.graph, False)\n",
    "        print('visited')\n",
    "        print(visited)\n",
    "        for node in self.graph.keys():\n",
    "            print(node)\n",
    "            if visited[node] is False:\n",
    "                if self.isCyclicUtil(node, visited, recStack) is True:\n",
    "                    return True\n",
    "        return False\n",
    "\n",
    "    def self_loop(self):\n",
    "        for node in self.graph.keys():\n",
    "            if node in self.graph[node]:\n",
    "                #                 ylog.debug(\"%s\" % node)\n",
    "                print(\"%s\" % node)\n",
    "\n",
    "    def direct_loop(self,):\n",
    "        for node in self.graph.keys():\n",
    "            for element in self.graph[node]:\n",
    "                if element in self.graph.keys():\n",
    "                    if node in self.graph[element]:\n",
    "                        self.loop[node].append(element)\n",
    "                        print(\"(%s, %s), (%s, %s)\" % (node, element, element,\n",
    "                                                      node))\n"
   ]
  },
  {
   "cell_type": "code",
   "execution_count": 3,
   "metadata": {
    "collapsed": true
   },
   "outputs": [],
   "source": [
    "user_path = os.path.expanduser(\"~\")\n",
    "try:\n",
    "    category_link_path = sys.argv[1]\n",
    "except:\n",
    "    category_link_path = user_path + \\\n",
    "        '/share/deep_learning/data/zhwiki_cat_pg_lk/zhwiki-latest-categorylinks.sql'\n",
    "else:\n",
    "    category_link_path = user_path + \\\n",
    "        '/share/deep_learning/data/zhwiki_cat_pg_lk/zhwiki-latest-categorylinks.sql'\n",
    "# category_link_path = './data/zhwiki-latest-categorylinks.zhs.sql'\n",
    "wiki_category_link_re = re.compile(\n",
    "    \"\\(([0-9]+),('[^,]+'),('[^']+'),('\\d{4}-\\d{2}-\\d{2} \\d{2}:\\d{2}:\\d{2}'),('[^']*'),('[^,]+'),('[^,]+')\\)\"\n",
    ")\n",
    "graph = nx.DiGraph()\n"
   ]
  },
  {
   "cell_type": "code",
   "execution_count": 4,
   "metadata": {
    "collapsed": true
   },
   "outputs": [],
   "source": [
    "def upload_edge(dict_re_match_object):\n",
    "    \"\"\" upload edge created from regular expression matched object.\n",
    "    (9,'En-3_使用者','MOUNTAIN','2015-09-02 13:44:06','','uppercase','page')\n",
    "    Keyword Arguments:\n",
    "    re_match_object -- re object\n",
    "    \"\"\"\n",
    "    # iterate nodes batch\n",
    "    for index, value in dict_re_match_object.items():\n",
    "        if value is not None:\n",
    "            item = dict_re_match_object.get(index)\n",
    "            edge_type = item.group(7)[1:-1]\n",
    "            if edge_type == 'page':\n",
    "                page_title = item.group(3)[1:-1]\n",
    "                cat_title = item.group(2)[1:-1]\n",
    "                if '\\\\n' in cat_title:\n",
    "                    end = cat_title.split(\"\\\\n\")\n",
    "                    cat_title = end[-1]\n",
    "                if '\\\\n' in page_title:\n",
    "                    end = page_title.split(\"\\\\n\")\n",
    "                    page_title = end[-1]\n",
    "                page_title = page_title.replace(\" \", \"_\")\n",
    "                # ylog.debug(cat_title)\n",
    "                # ylog.debug(subcat_title)\n",
    "                # if cat_title in EXAMPLE_CATEGORIES:\n",
    "                # G.add_edge(cat_title, page_title)\n",
    "            if edge_type == 'subcat':\n",
    "                subcat_title = item.group(3)[1:-1]\n",
    "                cat_title = item.group(2)[1:-1]\n",
    "                if '\\\\n' in cat_title:\n",
    "                    end = cat_title.split(\"\\\\n\")\n",
    "                    cat_title = end[-1]\n",
    "                if '\\\\n' in subcat_title:\n",
    "                    end = subcat_title.split(\"\\\\n\")\n",
    "                    subcat_title = end[-1]\n",
    "                subcat_title = subcat_title.replace(\" \", \"_\")\n",
    "                # ylog.debug(cat_title)\n",
    "                # ylog.debug(subcat_title)\n",
    "                if subcat_title == cat_title:\n",
    "                    continue\n",
    "\n",
    "                # if cat_title in EXAMPLE_CATEGORIES:\n",
    "                graph.add_edge(cat_title, subcat_title)\n",
    "                g.addEdge(cat_title, subcat_title)\n",
    "\n",
    "\n",
    "def batch_upload(re, file_path, batch_size, func, start, end):\n",
    "    \"\"\"batch upload categories or page\n",
    "    Keyword Arguments:\n",
    "    re         -- regular expression\n",
    "    source     -- file path\n",
    "    batch_size --\n",
    "    func       -- upload function\n",
    "    start      -- start position\n",
    "    end        -- end position\n",
    "\n",
    "    \"\"\"\n",
    "    # with open(file_path, 'r') as f:\n",
    "    #     print(\"reading all lines from sql\")\n",
    "    #     total_line_size = len(f.readlines())\n",
    "    with open(file_path, 'rb') as f:\n",
    "        for i, line in enumerate(tqdm(f)):\n",
    "            #         print(\"line #: %s/%s\" % (i, 1503))\n",
    "            #         print(len(line))\n",
    "            # print(g.graph.keys())\n",
    "            # print(\"line #: %s/%s\" % (i, 1503))\n",
    "            try:\n",
    "                if i < start:\n",
    "                    continue\n",
    "                if i <= end:\n",
    "                    line = line.decode('utf-8')\n",
    "                    try:\n",
    "                        last_span = re.search(line).span()[0]\n",
    "                    except AttributeError:\n",
    "                        continue\n",
    "                    line_size = len(re.findall(line))\n",
    "                    # ylog.debug(line_size)\n",
    "                    for i in range(0, line_size, batch_size):\n",
    "                        # pause if find a file naed pause at the currend dir\n",
    "                        re_batch = {}\n",
    "                        for j in range(batch_size):\n",
    "                            re_batch[j] = re.search(line, last_span)\n",
    "                            if re_batch[j] is not None:\n",
    "                                last_span = re_batch[j].span()[1]\n",
    "                        func(re_batch)\n",
    "                else:\n",
    "                    break\n",
    "            except UnicodeDecodeError as e:\n",
    "                last_span = e.start + 10\n",
    "                line_size = len(re.findall(line))\n",
    "                ylog.debug(line_size)\n",
    "                for i in range(0, line_size, batch_size):\n",
    "                    # pause if find a file naed pause at the currend dir\n",
    "                    re_batch = {}\n",
    "                    for j in range(batch_size):\n",
    "                        re_batch[j] = re.search(line, last_span)\n",
    "                        if re_batch[j] is not None:\n",
    "                            last_span = re_batch[j].span()[1]\n",
    "                    func(re_batch)\n"
   ]
  },
  {
   "cell_type": "markdown",
   "metadata": {},
   "source": [
    "read graph with no direct loops."
   ]
  },
  {
   "cell_type": "code",
   "execution_count": 7,
   "metadata": {},
   "outputs": [],
   "source": [
    "graph = nx.read_gexf('/home/weiwu/projects/deep_learning/knowledge_graph/database/whole_edges.rm_di.gexf')"
   ]
  },
  {
   "cell_type": "code",
   "execution_count": 9,
   "metadata": {
    "collapsed": true
   },
   "outputs": [],
   "source": [
    "ls_nodes = list(graph.nodes)"
   ]
  },
  {
   "cell_type": "code",
   "execution_count": 10,
   "metadata": {},
   "outputs": [
    {
     "data": {
      "text/plain": [
       "['維基百科站務',\n",
       " '帮助文档',\n",
       " '维基百科帮助',\n",
       " '使用Catnav的页面',\n",
       " '数据结构',\n",
       " '数据类型',\n",
       " '算法和数据结构',\n",
       " '计算机科学',\n",
       " '電腦數據',\n",
       " '维基社群']"
      ]
     },
     "execution_count": 10,
     "metadata": {},
     "output_type": "execute_result"
    }
   ],
   "source": [
    "ls_nodes[:10]"
   ]
  },
  {
   "cell_type": "code",
   "execution_count": 12,
   "metadata": {},
   "outputs": [
    {
     "data": {
      "text/plain": [
       "[('超級英雄', '超级英雄虚构作品'),\n",
       " ('超级英雄虚构作品', '超级英雄虚构作品中的虚构概念'),\n",
       " ('超级英雄虚构作品中的虚构概念', '虚构超人类特征或能力'),\n",
       " ('虚构超人类特征或能力', '具有超人類能力的虛構角色'),\n",
       " ('具有超人類能力的虛構角色', '超級英雄')]"
      ]
     },
     "execution_count": 12,
     "metadata": {},
     "output_type": "execute_result"
    }
   ],
   "source": [
    "nx.find_cycle(graph, '金融')"
   ]
  },
  {
   "cell_type": "code",
   "execution_count": 15,
   "metadata": {},
   "outputs": [
    {
     "data": {
      "text/plain": [
       "OutEdgeDataView([('金融', '金融家'), ('金融', '金融制度與規章'), ('金融', '保险学'), ('金融', '金融学'), ('金融', '金融市场'), ('金融', '财务会计'), ('金融', '投资'), ('金融', '金融罪案'), ('金融', '信用'), ('金融', '经济问题'), ('金融', '投資學'), ('金融', '审计学'), ('金融', '精算'), ('金融', '金融服務'), ('金融', '银行业'), ('金融', '金融小作品'), ('金融', '金融學領域'), ('金融', '金融風險'), ('金融', '金融數據分析'), ('金融', '金融模板'), ('金融', '金融列表'), ('金融', '金融史'), ('金融', '借貸題材作品'), ('金融', '基本財務概念'), ('金融', '各地金融'), ('金融', '金融组织'), ('金融', '互联网金融'), ('金融', '金融区'), ('金融', '金融职业')])"
      ]
     },
     "execution_count": 15,
     "metadata": {},
     "output_type": "execute_result"
    }
   ],
   "source": [
    "graph.out_edges('金融')"
   ]
  }
 ],
 "metadata": {
  "kernelspec": {
   "display_name": "graph",
   "language": "python",
   "name": "graph"
  },
  "language_info": {
   "codemirror_mode": {
    "name": "ipython",
    "version": 3
   },
   "file_extension": ".py",
   "mimetype": "text/x-python",
   "name": "python",
   "nbconvert_exporter": "python",
   "pygments_lexer": "ipython3",
   "version": "3.6.3"
  }
 },
 "nbformat": 4,
 "nbformat_minor": 2
}
