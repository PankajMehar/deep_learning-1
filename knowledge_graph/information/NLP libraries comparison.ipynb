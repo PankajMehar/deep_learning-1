{
 "cells": [
  {
   "cell_type": "markdown",
   "metadata": {},
   "source": [
    "# Compare NLP libraries"
   ]
  },
  {
   "cell_type": "code",
   "execution_count": 95,
   "metadata": {},
   "outputs": [],
   "source": [
    "# -*- coding: utf-8 -*-\n",
    "# 分词\n",
    "from preprocessing import preprocess_string\n",
    "from preprocessing import strip_numeric\n",
    "from preprocessing import remove_stopwords\n",
    "from preprocessing import strip_punctuation\n",
    "from preprocessing import tokenize\n",
    "from snownlp import SnowNLP\n",
    "from pyltp import SentenceSplitter, Segmentor, Postagger, Parser, NamedEntityRecognizer, SementicRoleLabeller\n",
    "import codecs\n",
    "from timeit import default_timer\n",
    "import time\n",
    "import os\n",
    "from jieba.analyse import extract_tags, textrank\n",
    "user_path = os.path.expanduser(\"~\")\n",
    "from nltk.tag import StanfordNERTagger\n",
    "from nltk.tag import StanfordPOSTagger\n",
    "from nltk.parse.stanford import StanfordParser\n",
    "\n"
   ]
  },
  {
   "cell_type": "markdown",
   "metadata": {},
   "source": [
    "## Tokenize"
   ]
  },
  {
   "cell_type": "markdown",
   "metadata": {},
   "source": [
    "### jieba cut"
   ]
  },
  {
   "cell_type": "code",
   "execution_count": 9,
   "metadata": {
    "collapsed": true
   },
   "outputs": [],
   "source": [
    "import jieba\n",
    "jieba.load_userdict(user_path + \"/share/deep_learning/data/dict/jieba.txt\")\n",
    "jieba.analyse.set_stop_words(\n",
    "    user_path + \"/projects/deep_learning/knowledge_graph/information/stopwords\")\n",
    "begin = default_timer()\n"
   ]
  },
  {
   "cell_type": "code",
   "execution_count": 2,
   "metadata": {
    "collapsed": true
   },
   "outputs": [],
   "source": [
    "str_test = u'''云南铜业股份有限公司（深交所：000878），简称云铜股份、云铜，\n",
    "前身为云南冶炼厂，成立于1958年，1998年改制为股份公司，更名为现称，\n",
    "1998年6月2日于深圳证券交易所上市。公司是中国第四大铜业企业，生产高纯阴极铜、\n",
    "电工用铜线坏、工业硫酸、金锭、银锭、电工用圆铜线、硫酸铜等主产品，\n",
    "并能综合回收金、银、铝、铋、铂、钯等多种有色金属。2007年10月，\n",
    "中国铝业收购云铜母公司云南铜业集团的49%股权，改名“中铝云南铜业集团”。'''\n"
   ]
  },
  {
   "cell_type": "code",
   "execution_count": 7,
   "metadata": {
    "scrolled": false
   },
   "outputs": [
    {
     "name": "stdout",
     "output_type": "stream",
     "text": [
      "云南铜业 股份有限公司   深交所   000878     简称 云铜 股份   云铜   \n",
      " 前身 为 云南 冶炼厂   成立 于 1958 年   1998 年 改制 为 股份公司   更名 为 现称   \n",
      " 1998 年 6 月 2 日于 深圳证券交易所 上市   公司 是 中国 第四 大 铜业 企业   生产 高纯 阴极铜   \n",
      " 电工 用 铜线 坏   工业 硫酸   金锭   银锭   电工 用圆 铜线   硫酸铜 等 主产品   \n",
      " 并 能 综合 回收 金   银   铝   铋   铂   钯 等 多种 有色金属   2007 年 10 月   \n",
      " 中国铝业 收购 云铜 母公司 云南铜业 集团 的 49  股权   改名   中铝 云南铜业 集团    \n"
     ]
    }
   ],
   "source": [
    "filter_setting = [tokenize, strip_punctuation]\n",
    "text = preprocess_string(str_test, filter_setting)\n",
    "print(text)"
   ]
  },
  {
   "cell_type": "markdown",
   "metadata": {},
   "source": [
    "### SnowNLP"
   ]
  },
  {
   "cell_type": "code",
   "execution_count": 45,
   "metadata": {},
   "outputs": [
    {
     "name": "stdout",
     "output_type": "stream",
     "text": [
      "云南\t铜业\t股份\t有限公司\t深交所\t000878\t简称\t云\t铜\t股份\t云\t铜\t前身\t为\t云南\t冶炼厂\t成立\t于\t1958\t年\t1998\t年\t改制\t为\t股份公司\t更名\t为\t现\t称\t1998\t年\t6\t月\t2\t日于\t深圳\t证券\t交易所\t上市\t公司\t是\t中国\t第四\t大\t铜业\t企业\t生产\t高\t纯\t阴极\t铜\t电工\t用\t铜线\t坏\t工业\t硫酸\t金锭\t银锭\t电工\t用\t圆\t铜线\t硫酸\t铜\t等\t主产品\t并\t能\t综合\t回收\t金\t银\t铝\t铋\t铂\t钯\t等\t多种\t有色金属\t2007\t年\t10\t月\t中国\t铝业\t收购\t云\t铜\t母公司\t云南\t铜业\t集团\t的\t49\t股权\t改名\t中\t铝\t云南\t铜业\t集团\n"
     ]
    }
   ],
   "source": [
    "filter_setting = [strip_punctuation]\n",
    "text = preprocess_string(str_test, filter_setting)\n",
    "s = SnowNLP(text)\n",
    "print('\\t'.join(s.words))"
   ]
  },
  {
   "cell_type": "markdown",
   "metadata": {},
   "source": [
    "### 哈工大pyltp"
   ]
  },
  {
   "cell_type": "code",
   "execution_count": null,
   "metadata": {
    "collapsed": true
   },
   "outputs": [],
   "source": [
    "LTP_DATA_DIR = '/home/weiwu/share/software/ltp_data_v3.4.0'  # ltp模型目录的路径\n",
    "cws_model_path = os.path.join(LTP_DATA_DIR,\n",
    "                              'cws.model')  # 分词模型路径，模型名称为`cws.model`"
   ]
  },
  {
   "cell_type": "code",
   "execution_count": 36,
   "metadata": {
    "scrolled": true
   },
   "outputs": [
    {
     "name": "stdout",
     "output_type": "stream",
     "text": [
      "云南\t铜业\t股份\t有限公司\t深交所000878\t简称\t云铜\t股份\t云\t铜\n",
      "\t前身\t为\t云南\t冶炼厂\t成立\t于\t1958年\t1998年\t改制\t为\t股份公司\t更名\t为\t现\t称\t\n",
      "\t1998年\t6月\t2日\t于\t深圳\t证券\t交易所\t上市\t公司\t是\t中国\t第四\t大\t铜业\t企业\t生产\t高\t纯阴\t极\t铜\n",
      "\t电工\t用\t铜线\t坏\t工业\t硫酸金锭\t银锭\t电工\t用\t圆\t铜线\t硫酸铜\t等\t主产品\t\n",
      "\t并\t能\t综合\t回收\t金银\t铝铋\t铂钯\t等\t多种\t有色金属\t2007年\t10月\t\n",
      "\t中国\t铝业\t收购\t云\t铜母\t公司\t云南\t铜业\t集团\t的\t49\t股权\t改名\t中\t铝\t云南\t铜业\t集团\n"
     ]
    }
   ],
   "source": [
    "from pyltp import Segmentor\n",
    "segmentor = Segmentor()  # 初始化实例\n",
    "segmentor.load(cws_model_path)  # 加载模型\n",
    "words = segmentor.segment(text)  # 分词\n",
    "print('\\t'.join(words))\n",
    "# segmentor.release()  # 释放模型"
   ]
  },
  {
   "cell_type": "markdown",
   "metadata": {},
   "source": [
    "## Keywords"
   ]
  },
  {
   "cell_type": "code",
   "execution_count": 19,
   "metadata": {
    "scrolled": true
   },
   "outputs": [
    {
     "name": "stdout",
     "output_type": "stream",
     "text": [
      "TF-IDF\n",
      "云铜 0.6078695340457627\n",
      "云南铜业 0.4994817054950848\n",
      "1998 0.40524635603050846\n",
      "铜线 0.38426197608474577\n",
      "电工 0.2911007346755932\n",
      "阴极铜 0.2238564486677966\n",
      "金锭 0.21210819137118644\n",
      "股份有限公司 0.20262317801525423\n",
      "000878 0.20262317801525423\n",
      "1958 0.20262317801525423\n",
      "\n",
      "\n",
      "Text Rank\n",
      "铜线 1.0\n",
      "集团 0.8588945863309484\n",
      "电工 0.8019967387429742\n",
      "中国 0.7871941176415925\n",
      "企业 0.7286800692243445\n",
      "股份公司 0.7089238629634947\n",
      "更名 0.7038034747106456\n",
      "金锭 0.6481616666859029\n",
      "硫酸 0.6478215631892147\n",
      "母公司 0.6337320036376739\n",
      "成立 0.5950407383943361\n",
      "股份 0.594869945137106\n",
      "综合 0.594869945137106\n",
      "冶炼厂 0.5922642962224522\n",
      "简称 0.590517768532632\n",
      "回收 0.590517768532632\n",
      "云南 0.5891731073304121\n",
      "股权 0.5667583077673782\n",
      "铜业 0.5660237527952675\n",
      "改名 0.5638114334139906\n"
     ]
    }
   ],
   "source": [
    "print(\"TF-IDF\")\n",
    "for keyword, weight in extract_tags(str_test, topK=10, withWeight=True):\n",
    "    print('%s %s' % (keyword, weight))\n",
    "\n",
    "print('\\n')\n",
    "print(\"Text Rank\")\n",
    "for keyword, weight in textrank(str_test, withWeight=True):\n",
    "    print('%s %s' % (keyword, weight))\n"
   ]
  },
  {
   "cell_type": "markdown",
   "metadata": {},
   "source": [
    "### SnowNLP"
   ]
  },
  {
   "cell_type": "code",
   "execution_count": 41,
   "metadata": {
    "scrolled": true
   },
   "outputs": [
    {
     "name": "stdout",
     "output_type": "stream",
     "text": [
      "keywords ['铜业', '铜', '年', '云南', '铝', '中国', '云', '1998', '月', '硫酸']\n"
     ]
    }
   ],
   "source": [
    "print('keywords', s.keywords(10)) "
   ]
  },
  {
   "cell_type": "markdown",
   "metadata": {},
   "source": [
    "## 词性标注\n"
   ]
  },
  {
   "cell_type": "markdown",
   "metadata": {},
   "source": [
    "### pyltp"
   ]
  },
  {
   "cell_type": "code",
   "execution_count": 51,
   "metadata": {
    "collapsed": true
   },
   "outputs": [],
   "source": [
    "pos_model_path = os.path.join(LTP_DATA_DIR,\n",
    "                              'pos.model')  # 词性标注模型路径，模型名称为`pos.model`\n",
    "postagger = Postagger()  # 初始化实例\n",
    "postagger.load(pos_model_path)  # 加载模型"
   ]
  },
  {
   "cell_type": "code",
   "execution_count": 52,
   "metadata": {
    "scrolled": true
   },
   "outputs": [],
   "source": [
    "postags = postagger.postag(words)  # 词性标注"
   ]
  },
  {
   "cell_type": "code",
   "execution_count": 57,
   "metadata": {
    "scrolled": true
   },
   "outputs": [
    {
     "name": "stdout",
     "output_type": "stream",
     "text": [
      "[('云南', 'ns'), ('铜业', 'n'), ('股份', 'n'), ('有限公司', 'n'), ('深交所000878', 'nz'), ('简称', 'v'), ('云铜', 'nz'), ('股份', 'n'), ('云', 'n'), ('铜\\n', 'n'), ('前身', 'n'), ('为', 'v'), ('云南', 'ns'), ('冶炼厂', 'n'), ('成立', 'v'), ('于', 'p'), ('1958年', 'nt'), ('1998年', 'nt'), ('改制', 'v'), ('为', 'v'), ('股份公司', 'i'), ('更名', 'v'), ('为', 'v'), ('现', 'nt'), ('称', 'v'), ('\\n', 'v'), ('1998年', 'nt'), ('6月', 'nt'), ('2日', 'nt'), ('于', 'p'), ('深圳', 'ns'), ('证券', 'n'), ('交易所', 'n'), ('上市', 'v'), ('公司', 'n'), ('是', 'v'), ('中国', 'ns'), ('第四', 'm'), ('大', 'a'), ('铜业', 'n'), ('企业', 'n'), ('生产', 'v'), ('高', 'a'), ('纯阴', 'n'), ('极', 'd'), ('铜\\n', 'a'), ('电工', 'n'), ('用', 'p'), ('铜线', 'n'), ('坏', 'a'), ('工业', 'n'), ('硫酸金锭', 'n'), ('银锭', 'n'), ('电工', 'n'), ('用', 'p'), ('圆', 'a'), ('铜线', 'n'), ('硫酸铜', 'n'), ('等', 'u'), ('主产品', 'n'), ('\\n', 'n'), ('并', 'c'), ('能', 'v'), ('综合', 'v'), ('回收', 'v'), ('金银', 'b'), ('铝铋', 'n'), ('铂钯', 'n'), ('等', 'u'), ('多种', 'm'), ('有色金属', 'n'), ('2007年', 'nt'), ('10月', 'nt'), ('\\n', 'v'), ('中国', 'ns'), ('铝业', 'n'), ('收购', 'v'), ('云', 'n'), ('铜母', 'n'), ('公司', 'n'), ('云南', 'ns'), ('铜业', 'n'), ('集团', 'n'), ('的', 'u'), ('49', 'm'), ('股权', 'n'), ('改名', 'v'), ('中', 'nd'), ('铝', 'n'), ('云南', 'ns'), ('铜业', 'n'), ('集团', 'n')]\n"
     ]
    }
   ],
   "source": [
    "print(list(zip(segmentor.segment(text),postags)))"
   ]
  },
  {
   "cell_type": "markdown",
   "metadata": {},
   "source": [
    "### SnowNLP"
   ]
  },
  {
   "cell_type": "code",
   "execution_count": 56,
   "metadata": {
    "scrolled": true
   },
   "outputs": [
    {
     "name": "stdout",
     "output_type": "stream",
     "text": [
      "[('云南', 'ns'), ('铜业', 'nz'), ('股份', 'n'), ('有限公司', 'n'), ('深交所', 'j'), ('000878', 'j'), ('简称', 'v'), ('云', 'j'), ('铜', 'j'), ('股份', 'n'), ('云', 'j'), ('铜', 'j'), ('前身', 'n'), ('为', 'p'), ('云南', 'ns'), ('冶炼厂', 'n'), ('成立', 'v'), ('于', 'p'), ('1958', 'm'), ('年', 'q'), ('1998', 'm'), ('年', 'q'), ('改制', 'v'), ('为', 'p'), ('股份公司', 'l'), ('更名', 'v'), ('为', 'p'), ('现', 'Tg'), ('称', 'v'), ('1998', 'Tg'), ('年', 'q'), ('6', 'ns'), ('月', 'n'), ('2', 'Rg'), ('日于', 'Rg'), ('深圳', 'ns'), ('证券', 'n'), ('交易所', 'n'), ('上市', 'vn'), ('公司', 'n'), ('是', 'v'), ('中国', 'ns'), ('第四', 'm'), ('大', 'a'), ('铜业', 'u'), ('企业', 'n'), ('生产', 'v'), ('高', 'a'), ('纯', 'a'), ('阴极', 'u'), ('铜', 'n'), ('电工', 'n'), ('用', 'v'), ('铜线', 'u'), ('坏', 'a'), ('工业', 'n'), ('硫酸', 'Rg'), ('金锭', 'Rg'), ('银锭', 'Rg'), ('电工', 'n'), ('用', 'v'), ('圆', 'Vg'), ('铜线', 'Ag'), ('硫酸', 'Bg'), ('铜', 'n'), ('等', 'u'), ('主产品', 'an'), ('并', 'c'), ('能', 'v'), ('综合', 'vn'), ('回收', 'vn'), ('金', 'nr'), ('银', 'nr'), ('铝', 'o'), ('铋', 'o'), ('铂', 'e'), ('钯', 'e'), ('等', 'u'), ('多种', 'm'), ('有色金属', 'n'), ('2007', 'm'), ('年', 'q'), ('10', 'nz'), ('月', 'n'), ('中国', 'ns'), ('铝业', 'n'), ('收购', 'v'), ('云', 'j'), ('铜', 'j'), ('母公司', 'n'), ('云南', 'ns'), ('铜业', 'nz'), ('集团', 'n'), ('的', 'u'), ('49', 'b'), ('股权', 'n'), ('改名', 'v'), ('中', 'f'), ('铝', 'w'), ('云南', 'ns'), ('铜业', 'nz'), ('集团', 'n')]\n"
     ]
    }
   ],
   "source": [
    "print(list(s.tags))"
   ]
  },
  {
   "cell_type": "markdown",
   "metadata": {},
   "source": [
    "### CoreNLP"
   ]
  },
  {
   "cell_type": "code",
   "execution_count": 70,
   "metadata": {},
   "outputs": [
    {
     "name": "stderr",
     "output_type": "stream",
     "text": [
      "/home/weiwu/.virtualenvs/graph/lib/python3.6/site-packages/nltk/tag/stanford.py:149: DeprecationWarning: \n",
      "The StanfordTokenizer will be deprecated in version 3.2.5.\n",
      "Please use \u001b[91mnltk.tag.corenlp.CoreNLPPOSTagger\u001b[0m or \u001b[91mnltk.tag.corenlp.CoreNLPNERTagger\u001b[0m instead.\n",
      "  super(StanfordPOSTagger, self).__init__(*args, **kwargs)\n"
     ]
    }
   ],
   "source": [
    "# StanfordPOSTagger 中文词性标注\n",
    "pos_tagger_model_file_path = '/home/weiwu/share/software/chinese-distsim.tagger'\n",
    "pos_tagger_jar_file_path = '/home/weiwu/tools/stanford-postagger-full-2017-06-09/stanford-postagger-3.8.0.jar'\n",
    "\n",
    "ch_pos_tagger = StanfordPOSTagger(\n",
    "    model_filename=pos_tagger_model_file_path,\n",
    "    path_to_jar=pos_tagger_jar_file_path)\n",
    "pos_result = ch_pos_tagger.tag(words)\n"
   ]
  },
  {
   "cell_type": "code",
   "execution_count": 72,
   "metadata": {
    "scrolled": true
   },
   "outputs": [
    {
     "name": "stdout",
     "output_type": "stream",
     "text": [
      "[('', '云南#NR'), ('', '铜业#NR'), ('', '股份#NN'), ('', '有限公司#VV'), ('', '深交所000878#AD'), ('', '简称#VV'), ('', '云铜#NR'), ('', '股份#NN'), ('', '云#NN'), ('', '铜#NN'), ('', '前身#NN'), ('', '为#VC'), ('', '云南#NR'), ('', '冶炼厂#NN'), ('', '成立#VV'), ('', '于#P'), ('', '1958年#NT'), ('', '1998年#NT'), ('', '改制#VV'), ('', '为#VC'), ('', '股份公司#NN'), ('', '更名#VV'), ('', '为#VC'), ('', '现#AD'), ('', '称#VV'), ('', '1998年#NT'), ('', '6月#NT'), ('', '2日#NT'), ('', '于#P'), ('', '深圳#NR'), ('', '证券#NN'), ('', '交易所#NN'), ('', '上市#NN'), ('', '公司#NN'), ('', '是#VC'), ('', '中国#NR'), ('', '第四#OD'), ('', '大#JJ'), ('', '铜业#NN'), ('', '企业#NN'), ('', '生产#NN'), ('', '高#VA'), ('', '纯阴#VA'), ('', '极#AD'), ('', '铜#NN'), ('', '电工#NN'), ('', '用#P'), ('', '铜线#NN'), ('', '坏#JJ'), ('', '工业#NN'), ('', '硫酸金锭#VV'), ('', '银锭#NN'), ('', '电工#NN'), ('', '用#P'), ('', '圆#NN'), ('', '铜线#NN'), ('', '硫酸铜#NR'), ('', '等#ETC'), ('', '主产品#NN'), ('', '并#AD'), ('', '能#VV'), ('', '综合#VV'), ('', '回收#NN'), ('', '金银#NN'), ('', '铝铋#NN'), ('', '铂钯#NN'), ('', '等#ETC'), ('', '多种#AD'), ('', '有色金属#VV'), ('', '2007年#NT'), ('', '10月#NT'), ('', '中国#NR'), ('', '铝业#NN'), ('', '收购#VV'), ('', '云#NR'), ('', '铜母#NN'), ('', '公司#NN'), ('', '云南#NR'), ('', '铜业#NR'), ('', '集团#NN'), ('', '的#DEG'), ('', '49#CD'), ('', '股权#NN'), ('', '改名#VV'), ('', '中#LC'), ('', '铝#NN'), ('', '云南#NR'), ('', '铜业#NR'), ('', '集团#NN')]\n"
     ]
    }
   ],
   "source": [
    "print(pos_result)"
   ]
  },
  {
   "cell_type": "markdown",
   "metadata": {},
   "source": [
    "## 命名实体识别(NER)"
   ]
  },
  {
   "cell_type": "markdown",
   "metadata": {},
   "source": [
    "### pyltp"
   ]
  },
  {
   "cell_type": "code",
   "execution_count": 54,
   "metadata": {},
   "outputs": [],
   "source": [
    "ner_model_path = os.path.join(LTP_DATA_DIR,\n",
    "                              'ner.model')  # 命名实体识别模型路径，模型名称为`pos.model`\n"
   ]
  },
  {
   "cell_type": "code",
   "execution_count": 55,
   "metadata": {
    "scrolled": true
   },
   "outputs": [
    {
     "name": "stdout",
     "output_type": "stream",
     "text": [
      "[('云南', 'B-Ni'), ('铜业', 'I-Ni'), ('股份', 'I-Ni'), ('有限公司', 'E-Ni'), ('深交所000878', 'O'), ('简称', 'O'), ('云铜', 'O'), ('股份', 'O'), ('云', 'O'), ('铜\\n', 'O'), ('前身', 'O'), ('为', 'O'), ('云南', 'S-Ns'), ('冶炼厂', 'O'), ('成立', 'O'), ('于', 'O'), ('1958年', 'O'), ('1998年', 'O'), ('改制', 'O'), ('为', 'O'), ('股份公司', 'O'), ('更名', 'O'), ('为', 'O'), ('现', 'O'), ('称', 'O'), ('\\n', 'O'), ('1998年', 'O'), ('6月', 'O'), ('2日', 'O'), ('于', 'O'), ('深圳', 'B-Ni'), ('证券', 'I-Ni'), ('交易所', 'I-Ni'), ('上市', 'I-Ni'), ('公司', 'E-Ni'), ('是', 'O'), ('中国', 'S-Ns'), ('第四', 'O'), ('大', 'O'), ('铜业', 'O'), ('企业', 'O'), ('生产', 'O'), ('高', 'O'), ('纯阴', 'O'), ('极', 'O'), ('铜\\n', 'O'), ('电工', 'O'), ('用', 'O'), ('铜线', 'O'), ('坏', 'O'), ('工业', 'O'), ('硫酸金锭', 'O'), ('银锭', 'O'), ('电工', 'O'), ('用', 'O'), ('圆', 'O'), ('铜线', 'O'), ('硫酸铜', 'O'), ('等', 'O'), ('主产品', 'O'), ('\\n', 'O'), ('并', 'O'), ('能', 'O'), ('综合', 'O'), ('回收', 'O'), ('金银', 'O'), ('铝铋', 'O'), ('铂钯', 'O'), ('等', 'O'), ('多种', 'O'), ('有色金属', 'O'), ('2007年', 'O'), ('10月', 'O'), ('\\n', 'O'), ('中国', 'B-Ni'), ('铝业', 'I-Ni'), ('收购', 'I-Ni'), ('云', 'I-Ni'), ('铜母', 'I-Ni'), ('公司', 'I-Ni'), ('云南', 'I-Ni'), ('铜业', 'I-Ni'), ('集团', 'E-Ni'), ('的', 'O'), ('49', 'O'), ('股权', 'O'), ('改名', 'O'), ('中', 'O'), ('铝', 'O'), ('云南', 'B-Ni'), ('铜业', 'I-Ni'), ('集团', 'E-Ni')]\n"
     ]
    }
   ],
   "source": [
    "recognizer = NamedEntityRecognizer()  # 初始化实例\n",
    "recognizer.load(ner_model_path)  # 加载模型\n",
    "\n",
    "netags = recognizer.recognize(words, postags)  # 命名实体识别\n",
    "\n",
    "#print('\\t'.join(netags))\n",
    "print(list(zip(words, netags)))"
   ]
  },
  {
   "cell_type": "markdown",
   "metadata": {},
   "source": [
    "### Stanford CoreNLP"
   ]
  },
  {
   "cell_type": "code",
   "execution_count": 74,
   "metadata": {
    "scrolled": true
   },
   "outputs": [
    {
     "name": "stderr",
     "output_type": "stream",
     "text": [
      "/home/weiwu/.virtualenvs/graph/lib/python3.6/site-packages/nltk/tag/stanford.py:183: DeprecationWarning: \n",
      "The StanfordTokenizer will be deprecated in version 3.2.5.\n",
      "Please use \u001b[91mnltk.tag.corenlp.CoreNLPPOSTagger\u001b[0m or \u001b[91mnltk.tag.corenlp.CoreNLPNERTagger\u001b[0m instead.\n",
      "  super(StanfordNERTagger, self).__init__(*args, **kwargs)\n"
     ]
    },
    {
     "name": "stdout",
     "output_type": "stream",
     "text": [
      "Total procesing time: 0.0s seconds\n"
     ]
    }
   ],
   "source": [
    "begin = default_timer()\n",
    "en_model_file_path = '/home/weiwu/tools/stanford-ner-2017-06-09/classifiers/english.all.3class.distsim.crf.ser.gz'\n",
    "ch_model_file_path = '/home/weiwu/share/software/chinese.misc.distsim.crf.ser.gz'\n",
    "jar_path = '/home/weiwu/tools/stanford-ner-2017-06-09/stanford-ner-3.8.0.jar'\n",
    "# StanfordNERTagger 中文命名实体识别\n",
    "ch_tagger = StanfordNERTagger(\n",
    "    model_filename=ch_model_file_path, path_to_jar=jar_path)\n",
    "end = default_timer()\n",
    "result = ch_tagger.tag(words)\n",
    "\n",
    "load_duration = end - begin\n",
    "print(\"Total procesing time: %.1fs seconds\" % (end - begin))\n"
   ]
  },
  {
   "cell_type": "code",
   "execution_count": 77,
   "metadata": {},
   "outputs": [],
   "source": [
    "stanford_ner = []\n",
    "for word, tag in result:\n",
    "    stanford_ner.append((word, tag))"
   ]
  },
  {
   "cell_type": "code",
   "execution_count": 78,
   "metadata": {},
   "outputs": [
    {
     "name": "stdout",
     "output_type": "stream",
     "text": [
      "[('云南', 'ORGANIZATION'), ('铜业', 'ORGANIZATION'), ('股份', 'ORGANIZATION'), ('有限公司', 'ORGANIZATION'), ('深交所000878', 'ORGANIZATION'), ('简称', 'ORGANIZATION'), ('云铜', 'ORGANIZATION'), ('股份', 'ORGANIZATION'), ('云', 'O'), ('铜', 'O'), ('前身', 'O'), ('为', 'O'), ('云南', 'ORGANIZATION'), ('冶炼厂', 'ORGANIZATION'), ('成立', 'O'), ('于', 'O'), ('1958年', 'MISC'), ('1998年', 'MISC'), ('改制', 'O'), ('为', 'O'), ('股份公司', 'O'), ('更名', 'O'), ('为', 'O'), ('现', 'O'), ('称', 'O'), ('1998年', 'MISC'), ('6月', 'MISC'), ('2日', 'MISC'), ('于', 'O'), ('深圳', 'ORGANIZATION'), ('证券', 'ORGANIZATION'), ('交易所', 'ORGANIZATION'), ('上市', 'O'), ('公司', 'O'), ('是', 'O'), ('中国', 'GPE'), ('第四', 'MISC'), ('大', 'O'), ('铜业', 'O'), ('企业', 'O'), ('生产', 'O'), ('高', 'O'), ('纯阴', 'O'), ('极', 'O'), ('铜', 'O'), ('电工', 'O'), ('用', 'O'), ('铜线', 'O'), ('坏', 'O'), ('工业', 'O'), ('硫酸金锭', 'ORGANIZATION'), ('银锭', 'ORGANIZATION'), ('电工', 'ORGANIZATION'), ('用', 'O'), ('圆', 'O'), ('铜线', 'O'), ('硫酸铜', 'O'), ('等', 'O'), ('主产品', 'O'), ('并', 'O'), ('能', 'O'), ('综合', 'O'), ('回收', 'O'), ('金银', 'ORGANIZATION'), ('铝铋', 'ORGANIZATION'), ('铂钯', 'ORGANIZATION'), ('等', 'O'), ('多种', 'O'), ('有色金属', 'O'), ('2007年', 'MISC'), ('10月', 'MISC'), ('中国', 'ORGANIZATION'), ('铝业', 'ORGANIZATION'), ('收购', 'ORGANIZATION'), ('云', 'ORGANIZATION'), ('铜母', 'ORGANIZATION'), ('公司', 'ORGANIZATION'), ('云南', 'ORGANIZATION'), ('铜业', 'ORGANIZATION'), ('集团', 'ORGANIZATION'), ('的', 'O'), ('49', 'MISC'), ('股权', 'O'), ('改名', 'O'), ('中', 'O'), ('铝', 'O'), ('云南', 'ORGANIZATION'), ('铜业', 'ORGANIZATION'), ('集团', 'ORGANIZATION')]\n"
     ]
    }
   ],
   "source": [
    "print(stanford_ner)"
   ]
  },
  {
   "cell_type": "code",
   "execution_count": null,
   "metadata": {
    "collapsed": true
   },
   "outputs": [],
   "source": [
    "print(load_duration)"
   ]
  },
  {
   "cell_type": "markdown",
   "metadata": {},
   "source": [
    "## 句法分析"
   ]
  },
  {
   "cell_type": "markdown",
   "metadata": {},
   "source": [
    "### pyltp"
   ]
  },
  {
   "cell_type": "code",
   "execution_count": 59,
   "metadata": {
    "scrolled": true
   },
   "outputs": [
    {
     "name": "stdout",
     "output_type": "stream",
     "text": [
      "2:ATT\t4:ATT\t4:ATT\t6:SBV\t6:SBV\t0:HED\t9:ATT\t9:ATT\t10:ATT\t11:ATT\t6:VOB\t15:ADV\t14:ATT\t12:POB\t6:VOB\t15:CMP\t18:ATT\t16:POB\t25:SBV\t25:ADV\t20:POB\t25:SBV\t25:ADV\t25:ADV\t15:COO\t36:SBV\t28:ATT\t29:ATT\t36:ADV\t36:ADV\t33:ATT\t33:ATT\t30:POB\t35:ATT\t30:POB\t25:VOB\t40:ATT\t39:ATT\t40:ATT\t41:ATT\t44:ATT\t44:ATT\t44:ATT\t47:ATT\t46:ADV\t47:ATT\t65:SBV\t65:ADV\t52:ATT\t51:ATT\t52:ATT\t53:ATT\t54:ATT\t48:POB\t65:ADV\t57:ATT\t58:ATT\t60:ATT\t58:RAD\t61:ATT\t55:POB\t65:ADV\t65:ADV\t65:ADV\t36:VOB\t67:ATT\t68:ATT\t71:ATT\t68:RAD\t71:ATT\t65:VOB\t73:ATT\t74:ADV\t65:COO\t76:ATT\t80:ATT\t80:ATT\t79:ATT\t80:ATT\t83:ATT\t83:ATT\t83:ATT\t86:ATT\t83:RAD\t86:ATT\t87:SBV\t88:ATT\t89:ATT\t92:ATT\t91:ATT\t92:ATT\t74:VOB\n"
     ]
    }
   ],
   "source": [
    "parser = Parser()\n",
    "parser.load(os.path.join(LTP_DATA_DIR, \"parser.model\"))\n",
    "arcs = parser.parse(words, postags)\n",
    "\n",
    "print(\"\\t\".join(\"%d:%s\" % (arc.head, arc.relation) for arc in arcs))"
   ]
  },
  {
   "cell_type": "markdown",
   "metadata": {},
   "source": [
    "### StanfordParser 中文句法分析"
   ]
  },
  {
   "cell_type": "code",
   "execution_count": 98,
   "metadata": {},
   "outputs": [
    {
     "name": "stdout",
     "output_type": "stream",
     "text": [
      "2.3296425342559814\n"
     ]
    }
   ],
   "source": [
    "begin = time.time()\n",
    "path_to_jar=r'/home/weiwu/share/software/stanford-parser.jar'\n",
    "path_to_models_jar=r'/home/weiwu/share/software/stanford-parser-3.8.0-models.jar'\n",
    "model_path = r'/home/weiwu/share/software/chinesePCFG.ser.gz'\n",
    "ch_parser = StanfordParser(path_to_jar, path_to_models_jar, model_path)\n",
    "\n",
    "end =  time.time()\n",
    "load_duration = end - begin\n",
    "print(load_duration)"
   ]
  },
  {
   "cell_type": "markdown",
   "metadata": {},
   "source": [
    "### To-fix"
   ]
  },
  {
   "cell_type": "code",
   "execution_count": 114,
   "metadata": {
    "scrolled": true
   },
   "outputs": [
    {
     "ename": "OSError",
     "evalue": "[Errno 7] Argument list too long: '/usr/bin/java'",
     "output_type": "error",
     "traceback": [
      "\u001b[1;31m---------------------------------------------------------------------------\u001b[0m",
      "\u001b[1;31mOSError\u001b[0m                                   Traceback (most recent call last)",
      "\u001b[1;32m<ipython-input-114-9c3050401b37>\u001b[0m in \u001b[0;36m<module>\u001b[1;34m()\u001b[0m\n\u001b[1;32m----> 1\u001b[1;33m \u001b[0mch_parser\u001b[0m\u001b[1;33m.\u001b[0m\u001b[0mparse\u001b[0m\u001b[1;33m(\u001b[0m\u001b[1;34mu'俄罗斯 希望 伊朗 没有 制造 核武器 计划'\u001b[0m\u001b[1;33m)\u001b[0m\u001b[1;33m\u001b[0m\u001b[0m\n\u001b[0m",
      "\u001b[1;32m/home/weiwu/.virtualenvs/graph/lib/python3.6/site-packages/nltk/parse/api.py\u001b[0m in \u001b[0;36mparse\u001b[1;34m(self, sent, *args, **kwargs)\u001b[0m\n\u001b[0;32m     43\u001b[0m         \"\"\"\n\u001b[0;32m     44\u001b[0m         \u001b[1;32mif\u001b[0m \u001b[0moverridden\u001b[0m\u001b[1;33m(\u001b[0m\u001b[0mself\u001b[0m\u001b[1;33m.\u001b[0m\u001b[0mparse_sents\u001b[0m\u001b[1;33m)\u001b[0m\u001b[1;33m:\u001b[0m\u001b[1;33m\u001b[0m\u001b[0m\n\u001b[1;32m---> 45\u001b[1;33m             \u001b[1;32mreturn\u001b[0m \u001b[0mnext\u001b[0m\u001b[1;33m(\u001b[0m\u001b[0mself\u001b[0m\u001b[1;33m.\u001b[0m\u001b[0mparse_sents\u001b[0m\u001b[1;33m(\u001b[0m\u001b[1;33m[\u001b[0m\u001b[0msent\u001b[0m\u001b[1;33m]\u001b[0m\u001b[1;33m,\u001b[0m \u001b[1;33m*\u001b[0m\u001b[0margs\u001b[0m\u001b[1;33m,\u001b[0m \u001b[1;33m**\u001b[0m\u001b[0mkwargs\u001b[0m\u001b[1;33m)\u001b[0m\u001b[1;33m)\u001b[0m\u001b[1;33m\u001b[0m\u001b[0m\n\u001b[0m\u001b[0;32m     46\u001b[0m         \u001b[1;32melif\u001b[0m \u001b[0moverridden\u001b[0m\u001b[1;33m(\u001b[0m\u001b[0mself\u001b[0m\u001b[1;33m.\u001b[0m\u001b[0mparse_one\u001b[0m\u001b[1;33m)\u001b[0m\u001b[1;33m:\u001b[0m\u001b[1;33m\u001b[0m\u001b[0m\n\u001b[0;32m     47\u001b[0m             \u001b[1;32mreturn\u001b[0m \u001b[1;33m(\u001b[0m\u001b[0mtree\u001b[0m \u001b[1;32mfor\u001b[0m \u001b[0mtree\u001b[0m \u001b[1;32min\u001b[0m \u001b[1;33m[\u001b[0m\u001b[0mself\u001b[0m\u001b[1;33m.\u001b[0m\u001b[0mparse_one\u001b[0m\u001b[1;33m(\u001b[0m\u001b[0msent\u001b[0m\u001b[1;33m,\u001b[0m \u001b[1;33m*\u001b[0m\u001b[0margs\u001b[0m\u001b[1;33m,\u001b[0m \u001b[1;33m**\u001b[0m\u001b[0mkwargs\u001b[0m\u001b[1;33m)\u001b[0m\u001b[1;33m]\u001b[0m \u001b[1;32mif\u001b[0m \u001b[0mtree\u001b[0m \u001b[1;32mis\u001b[0m \u001b[1;32mnot\u001b[0m \u001b[1;32mNone\u001b[0m\u001b[1;33m)\u001b[0m\u001b[1;33m\u001b[0m\u001b[0m\n",
      "\u001b[1;32m/home/weiwu/.virtualenvs/graph/lib/python3.6/site-packages/nltk/parse/stanford.py\u001b[0m in \u001b[0;36mparse_sents\u001b[1;34m(self, sentences, verbose)\u001b[0m\n\u001b[0;32m    120\u001b[0m         ]\n\u001b[0;32m    121\u001b[0m         return self._parse_trees_output(self._execute(\n\u001b[1;32m--> 122\u001b[1;33m             cmd, '\\n'.join(' '.join(sentence) for sentence in sentences), verbose))\n\u001b[0m\u001b[0;32m    123\u001b[0m \u001b[1;33m\u001b[0m\u001b[0m\n\u001b[0;32m    124\u001b[0m     \u001b[1;32mdef\u001b[0m \u001b[0mraw_parse\u001b[0m\u001b[1;33m(\u001b[0m\u001b[0mself\u001b[0m\u001b[1;33m,\u001b[0m \u001b[0msentence\u001b[0m\u001b[1;33m,\u001b[0m \u001b[0mverbose\u001b[0m\u001b[1;33m=\u001b[0m\u001b[1;32mFalse\u001b[0m\u001b[1;33m)\u001b[0m\u001b[1;33m:\u001b[0m\u001b[1;33m\u001b[0m\u001b[0m\n",
      "\u001b[1;32m/home/weiwu/.virtualenvs/graph/lib/python3.6/site-packages/nltk/parse/stanford.py\u001b[0m in \u001b[0;36m_execute\u001b[1;34m(self, cmd, input_, verbose)\u001b[0m\n\u001b[0;32m    216\u001b[0m                 \u001b[0mcmd\u001b[0m\u001b[1;33m.\u001b[0m\u001b[0mappend\u001b[0m\u001b[1;33m(\u001b[0m\u001b[0minput_file\u001b[0m\u001b[1;33m.\u001b[0m\u001b[0mname\u001b[0m\u001b[1;33m)\u001b[0m\u001b[1;33m\u001b[0m\u001b[0m\n\u001b[0;32m    217\u001b[0m                 stdout, stderr = java(cmd, classpath=self._classpath,\n\u001b[1;32m--> 218\u001b[1;33m                                       stdout=PIPE, stderr=PIPE)\n\u001b[0m\u001b[0;32m    219\u001b[0m \u001b[1;33m\u001b[0m\u001b[0m\n\u001b[0;32m    220\u001b[0m             \u001b[0mstdout\u001b[0m \u001b[1;33m=\u001b[0m \u001b[0mstdout\u001b[0m\u001b[1;33m.\u001b[0m\u001b[0mreplace\u001b[0m\u001b[1;33m(\u001b[0m\u001b[1;34mb'\\xc2\\xa0'\u001b[0m\u001b[1;33m,\u001b[0m\u001b[1;34mb' '\u001b[0m\u001b[1;33m)\u001b[0m\u001b[1;33m\u001b[0m\u001b[0m\n",
      "\u001b[1;32m/home/weiwu/.virtualenvs/graph/lib/python3.6/site-packages/nltk/__init__.py\u001b[0m in \u001b[0;36mjava\u001b[1;34m(cmd, classpath, stdin, stdout, stderr, blocking)\u001b[0m\n\u001b[0;32m    127\u001b[0m \u001b[1;33m\u001b[0m\u001b[0m\n\u001b[0;32m    128\u001b[0m     \u001b[1;31m# Call java via a subprocess\u001b[0m\u001b[1;33m\u001b[0m\u001b[1;33m\u001b[0m\u001b[0m\n\u001b[1;32m--> 129\u001b[1;33m     \u001b[0mp\u001b[0m \u001b[1;33m=\u001b[0m \u001b[0msubprocess\u001b[0m\u001b[1;33m.\u001b[0m\u001b[0mPopen\u001b[0m\u001b[1;33m(\u001b[0m\u001b[0mcmd\u001b[0m\u001b[1;33m,\u001b[0m \u001b[0mstdin\u001b[0m\u001b[1;33m=\u001b[0m\u001b[0mstdin\u001b[0m\u001b[1;33m,\u001b[0m \u001b[0mstdout\u001b[0m\u001b[1;33m=\u001b[0m\u001b[0mstdout\u001b[0m\u001b[1;33m,\u001b[0m \u001b[0mstderr\u001b[0m\u001b[1;33m=\u001b[0m\u001b[0mstderr\u001b[0m\u001b[1;33m)\u001b[0m\u001b[1;33m\u001b[0m\u001b[0m\n\u001b[0m\u001b[0;32m    130\u001b[0m     \u001b[1;32mif\u001b[0m \u001b[1;32mnot\u001b[0m \u001b[0mblocking\u001b[0m\u001b[1;33m:\u001b[0m \u001b[1;32mreturn\u001b[0m \u001b[0mp\u001b[0m\u001b[1;33m\u001b[0m\u001b[0m\n\u001b[0;32m    131\u001b[0m     \u001b[1;33m(\u001b[0m\u001b[0mstdout\u001b[0m\u001b[1;33m,\u001b[0m \u001b[0mstderr\u001b[0m\u001b[1;33m)\u001b[0m \u001b[1;33m=\u001b[0m \u001b[0mp\u001b[0m\u001b[1;33m.\u001b[0m\u001b[0mcommunicate\u001b[0m\u001b[1;33m(\u001b[0m\u001b[1;33m)\u001b[0m\u001b[1;33m\u001b[0m\u001b[0m\n",
      "\u001b[1;32m/home/weiwu/.pyenv/versions/anaconda3-5.0.1/lib/python3.6/subprocess.py\u001b[0m in \u001b[0;36m__init__\u001b[1;34m(self, args, bufsize, executable, stdin, stdout, stderr, preexec_fn, close_fds, shell, cwd, env, universal_newlines, startupinfo, creationflags, restore_signals, start_new_session, pass_fds, encoding, errors)\u001b[0m\n\u001b[0;32m    707\u001b[0m                                 \u001b[0mc2pread\u001b[0m\u001b[1;33m,\u001b[0m \u001b[0mc2pwrite\u001b[0m\u001b[1;33m,\u001b[0m\u001b[1;33m\u001b[0m\u001b[0m\n\u001b[0;32m    708\u001b[0m                                 \u001b[0merrread\u001b[0m\u001b[1;33m,\u001b[0m \u001b[0merrwrite\u001b[0m\u001b[1;33m,\u001b[0m\u001b[1;33m\u001b[0m\u001b[0m\n\u001b[1;32m--> 709\u001b[1;33m                                 restore_signals, start_new_session)\n\u001b[0m\u001b[0;32m    710\u001b[0m         \u001b[1;32mexcept\u001b[0m\u001b[1;33m:\u001b[0m\u001b[1;33m\u001b[0m\u001b[0m\n\u001b[0;32m    711\u001b[0m             \u001b[1;31m# Cleanup if the child failed starting.\u001b[0m\u001b[1;33m\u001b[0m\u001b[1;33m\u001b[0m\u001b[0m\n",
      "\u001b[1;32m/home/weiwu/.pyenv/versions/anaconda3-5.0.1/lib/python3.6/subprocess.py\u001b[0m in \u001b[0;36m_execute_child\u001b[1;34m(self, args, executable, preexec_fn, close_fds, pass_fds, cwd, env, startupinfo, creationflags, shell, p2cread, p2cwrite, c2pread, c2pwrite, errread, errwrite, restore_signals, start_new_session)\u001b[0m\n\u001b[0;32m   1342\u001b[0m                         \u001b[1;32mif\u001b[0m \u001b[0merrno_num\u001b[0m \u001b[1;33m==\u001b[0m \u001b[0merrno\u001b[0m\u001b[1;33m.\u001b[0m\u001b[0mENOENT\u001b[0m\u001b[1;33m:\u001b[0m\u001b[1;33m\u001b[0m\u001b[0m\n\u001b[0;32m   1343\u001b[0m                             \u001b[0merr_msg\u001b[0m \u001b[1;33m+=\u001b[0m \u001b[1;34m': '\u001b[0m \u001b[1;33m+\u001b[0m \u001b[0mrepr\u001b[0m\u001b[1;33m(\u001b[0m\u001b[0merr_filename\u001b[0m\u001b[1;33m)\u001b[0m\u001b[1;33m\u001b[0m\u001b[0m\n\u001b[1;32m-> 1344\u001b[1;33m                     \u001b[1;32mraise\u001b[0m \u001b[0mchild_exception_type\u001b[0m\u001b[1;33m(\u001b[0m\u001b[0merrno_num\u001b[0m\u001b[1;33m,\u001b[0m \u001b[0merr_msg\u001b[0m\u001b[1;33m,\u001b[0m \u001b[0merr_filename\u001b[0m\u001b[1;33m)\u001b[0m\u001b[1;33m\u001b[0m\u001b[0m\n\u001b[0m\u001b[0;32m   1345\u001b[0m                 \u001b[1;32mraise\u001b[0m \u001b[0mchild_exception_type\u001b[0m\u001b[1;33m(\u001b[0m\u001b[0merr_msg\u001b[0m\u001b[1;33m)\u001b[0m\u001b[1;33m\u001b[0m\u001b[0m\n\u001b[0;32m   1346\u001b[0m \u001b[1;33m\u001b[0m\u001b[0m\n",
      "\u001b[1;31mOSError\u001b[0m: [Errno 7] Argument list too long: '/usr/bin/java'"
     ]
    }
   ],
   "source": [
    "ch_parser.parse(u'俄罗斯 希望 伊朗 没有 制造 核武器 计划')"
   ]
  },
  {
   "cell_type": "markdown",
   "metadata": {},
   "source": [
    "## 语义角色标注(Semantic Role Labeling)"
   ]
  },
  {
   "cell_type": "code",
   "execution_count": 61,
   "metadata": {},
   "outputs": [],
   "source": [
    "labeller = SementicRoleLabeller()\n",
    "labeller.load(os.path.join(LTP_DATA_DIR, \"pisrl.model\"))"
   ]
  },
  {
   "cell_type": "code",
   "execution_count": 62,
   "metadata": {
    "scrolled": true
   },
   "outputs": [
    {
     "name": "stdout",
     "output_type": "stream",
     "text": [
      "5 A1:(0,3)\n",
      "21 A2:(25,25)\n",
      "35 A0:(33,34)\n",
      "63 A1:(65,68)\n",
      "64 MNR:(47,53)MNR:(54,60)A1:(65,68)\n",
      "86 A1:(74,85)\n"
     ]
    }
   ],
   "source": [
    "roles = labeller.label(words, postags, arcs)\n",
    "\n",
    "for role in roles:\n",
    "    print(role.index, \"\".join(\n",
    "            [\"%s:(%d,%d)\" % (arg.name, arg.range.start, arg.range.end) for arg in role.arguments]))"
   ]
  }
 ],
 "metadata": {
  "kernelspec": {
   "display_name": "graph",
   "language": "python",
   "name": "graph"
  },
  "language_info": {
   "codemirror_mode": {
    "name": "ipython",
    "version": 3
   },
   "file_extension": ".py",
   "mimetype": "text/x-python",
   "name": "python",
   "nbconvert_exporter": "python",
   "pygments_lexer": "ipython3",
   "version": "3.6.3"
  }
 },
 "nbformat": 4,
 "nbformat_minor": 2
}
